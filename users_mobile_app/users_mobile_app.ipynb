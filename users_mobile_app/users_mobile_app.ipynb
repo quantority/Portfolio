{
 "cells": [
  {
   "cell_type": "markdown",
   "id": "188b0c1d",
   "metadata": {},
   "source": [
    "## Описание проекта\n",
    "\n",
    "Стартапу, который продаёт продукты питания, нужно разобраться как ведут себя пользователи мобильного приложения.\n",
    "\n",
    "Для того, чтобы в этом разобраться в рамках проекта я изучу воронку продаж. Узнаю, как пользователи доходят до покупки. Сколько пользователей доходит до покупки, а сколько — «застревает» на предыдущих шагах? На каких именно?\n",
    "\n",
    "После этого исследую результаты A/A/B-эксперимента. Дизайнеры захотели поменять шрифты во всём приложении, а менеджеры испугались, что пользователям будет непривычно. Для того чтобы принять решение проведу A/A/B-теста.\n",
    "\n",
    "\n",
    "Проект будет реализовываться в несколько шагов\n",
    "1. Подготовка данных\n",
    "2. Предобработка данных\n",
    "3. Изучение воронки событий\n",
    "4. Изучение результатов эксперимента\n"
   ]
  },
  {
   "cell_type": "markdown",
   "id": "a15fba1e",
   "metadata": {},
   "source": [
    "### Описание данных\n",
    "\n",
    "Логи пользователей мабильного приложения (файл logs_exp.csv)\n",
    "\n",
    "EventName — название события;\n",
    "\n",
    "DeviceIDHash — уникальный идентификатор пользователя;\n",
    "\n",
    "EventTimestamp — время события;\n",
    "\n",
    "ExpId — номер эксперимента: 246 и 247 — контрольные группы, а 248 — экспериментальная."
   ]
  },
  {
   "cell_type": "markdown",
   "id": "0b64017d",
   "metadata": {},
   "source": [
    "### Шаг 1. Подготовка данных"
   ]
  },
  {
   "cell_type": "code",
   "execution_count": 1,
   "id": "8d29f8a3",
   "metadata": {},
   "outputs": [],
   "source": [
    "import pandas as pd\n",
    "import warnings as wr\n",
    "import seaborn as sns\n",
    "import matplotlib.pyplot as plt\n",
    "import numpy as np\n",
    "from scipy import stats as st"
   ]
  },
  {
   "cell_type": "code",
   "execution_count": 2,
   "id": "b56daac9",
   "metadata": {},
   "outputs": [],
   "source": [
    "wr.filterwarnings('ignore')\n",
    "pd.set_option('display.max_columns', None)\n",
    "pd.set_option('display.max_rows', None)\n",
    "# снимаем ограничение на ширину столбцов\n",
    "#pd.set_option('display.max_colwidth', None)\n",
    "#pd.options.display.float_format = '{:,.2f}'.format"
   ]
  },
  {
   "cell_type": "code",
   "execution_count": 3,
   "id": "32757c03",
   "metadata": {},
   "outputs": [],
   "source": [
    "try: \n",
    "    logs = pd.read_csv('C:/Users/crugl/Downloads/Сборный проект2/logs_exp.csv', sep='\\t')\n",
    "except:\n",
    "    logs = pd.read_csv('/datasets/logs_exp.csv', sep='\\t')"
   ]
  },
  {
   "cell_type": "code",
   "execution_count": 4,
   "id": "e2f3e398",
   "metadata": {},
   "outputs": [],
   "source": [
    "def processing (data):\n",
    "    \"\"\"\n",
    "    Функция будет выводить информацию о явных дубликатах\n",
    "    и пропусков в данных \n",
    "    \"\"\"\n",
    "    duplicated_sum = data.duplicated().sum()\n",
    "    gap_sum = data.isna().sum()\n",
    "    print(data.info())\n",
    "    print()\n",
    "    print('Количество явных дубликатов:', duplicated_sum)\n",
    "    print('Количество пропусков:')\n",
    "    print(gap_sum)"
   ]
  },
  {
   "cell_type": "markdown",
   "id": "eed869e7",
   "metadata": {},
   "source": [
    "### Предобработка данных"
   ]
  },
  {
   "cell_type": "code",
   "execution_count": 5,
   "id": "b9c89668",
   "metadata": {},
   "outputs": [
    {
     "name": "stdout",
     "output_type": "stream",
     "text": [
      "<class 'pandas.core.frame.DataFrame'>\n",
      "RangeIndex: 244126 entries, 0 to 244125\n",
      "Data columns (total 4 columns):\n",
      " #   Column          Non-Null Count   Dtype \n",
      "---  ------          --------------   ----- \n",
      " 0   EventName       244126 non-null  object\n",
      " 1   DeviceIDHash    244126 non-null  int64 \n",
      " 2   EventTimestamp  244126 non-null  int64 \n",
      " 3   ExpId           244126 non-null  int64 \n",
      "dtypes: int64(3), object(1)\n",
      "memory usage: 7.5+ MB\n",
      "None\n",
      "\n",
      "Количество явных дубликатов: 413\n",
      "Количество пропусков:\n",
      "EventName         0\n",
      "DeviceIDHash      0\n",
      "EventTimestamp    0\n",
      "ExpId             0\n",
      "dtype: int64\n"
     ]
    },
    {
     "data": {
      "text/html": [
       "<div>\n",
       "<style scoped>\n",
       "    .dataframe tbody tr th:only-of-type {\n",
       "        vertical-align: middle;\n",
       "    }\n",
       "\n",
       "    .dataframe tbody tr th {\n",
       "        vertical-align: top;\n",
       "    }\n",
       "\n",
       "    .dataframe thead th {\n",
       "        text-align: right;\n",
       "    }\n",
       "</style>\n",
       "<table border=\"1\" class=\"dataframe\">\n",
       "  <thead>\n",
       "    <tr style=\"text-align: right;\">\n",
       "      <th></th>\n",
       "      <th>EventName</th>\n",
       "      <th>DeviceIDHash</th>\n",
       "      <th>EventTimestamp</th>\n",
       "      <th>ExpId</th>\n",
       "    </tr>\n",
       "  </thead>\n",
       "  <tbody>\n",
       "    <tr>\n",
       "      <th>0</th>\n",
       "      <td>MainScreenAppear</td>\n",
       "      <td>4575588528974610257</td>\n",
       "      <td>1564029816</td>\n",
       "      <td>246</td>\n",
       "    </tr>\n",
       "    <tr>\n",
       "      <th>1</th>\n",
       "      <td>MainScreenAppear</td>\n",
       "      <td>7416695313311560658</td>\n",
       "      <td>1564053102</td>\n",
       "      <td>246</td>\n",
       "    </tr>\n",
       "    <tr>\n",
       "      <th>2</th>\n",
       "      <td>PaymentScreenSuccessful</td>\n",
       "      <td>3518123091307005509</td>\n",
       "      <td>1564054127</td>\n",
       "      <td>248</td>\n",
       "    </tr>\n",
       "    <tr>\n",
       "      <th>3</th>\n",
       "      <td>CartScreenAppear</td>\n",
       "      <td>3518123091307005509</td>\n",
       "      <td>1564054127</td>\n",
       "      <td>248</td>\n",
       "    </tr>\n",
       "    <tr>\n",
       "      <th>4</th>\n",
       "      <td>PaymentScreenSuccessful</td>\n",
       "      <td>6217807653094995999</td>\n",
       "      <td>1564055322</td>\n",
       "      <td>248</td>\n",
       "    </tr>\n",
       "  </tbody>\n",
       "</table>\n",
       "</div>"
      ],
      "text/plain": [
       "                 EventName         DeviceIDHash  EventTimestamp  ExpId\n",
       "0         MainScreenAppear  4575588528974610257      1564029816    246\n",
       "1         MainScreenAppear  7416695313311560658      1564053102    246\n",
       "2  PaymentScreenSuccessful  3518123091307005509      1564054127    248\n",
       "3         CartScreenAppear  3518123091307005509      1564054127    248\n",
       "4  PaymentScreenSuccessful  6217807653094995999      1564055322    248"
      ]
     },
     "execution_count": 5,
     "metadata": {},
     "output_type": "execute_result"
    }
   ],
   "source": [
    "processing(logs)\n",
    "logs.head()"
   ]
  },
  {
   "cell_type": "code",
   "execution_count": 6,
   "id": "66596e76",
   "metadata": {},
   "outputs": [],
   "source": [
    "logs = logs.rename(columns={'EventName': 'event_name', 'DeviceIDHash': 'user_id', \n",
    "                            'EventTimestamp': 'event_date', 'ExpId': 'group_id'})"
   ]
  },
  {
   "cell_type": "code",
   "execution_count": 7,
   "id": "b731a1dc",
   "metadata": {},
   "outputs": [],
   "source": [
    "logs['event_date'] = pd.to_datetime(logs['event_date'], unit='s')"
   ]
  },
  {
   "cell_type": "code",
   "execution_count": 8,
   "id": "a79a06a3",
   "metadata": {},
   "outputs": [],
   "source": [
    "logs['date'] = logs['event_date'].dt.to_period('D')"
   ]
  },
  {
   "cell_type": "code",
   "execution_count": 9,
   "id": "485b0f9c",
   "metadata": {},
   "outputs": [],
   "source": [
    "logs = logs.drop_duplicates().reset_index(drop=True)"
   ]
  },
  {
   "cell_type": "code",
   "execution_count": 10,
   "id": "f7431624",
   "metadata": {},
   "outputs": [
    {
     "name": "stdout",
     "output_type": "stream",
     "text": [
      "<class 'pandas.core.frame.DataFrame'>\n",
      "RangeIndex: 243713 entries, 0 to 243712\n",
      "Data columns (total 5 columns):\n",
      " #   Column      Non-Null Count   Dtype         \n",
      "---  ------      --------------   -----         \n",
      " 0   event_name  243713 non-null  object        \n",
      " 1   user_id     243713 non-null  int64         \n",
      " 2   event_date  243713 non-null  datetime64[ns]\n",
      " 3   group_id    243713 non-null  int64         \n",
      " 4   date        243713 non-null  period[D]     \n",
      "dtypes: datetime64[ns](1), int64(2), object(1), period[D](1)\n",
      "memory usage: 9.3+ MB\n",
      "None\n",
      "\n",
      "Количество явных дубликатов: 0\n",
      "Количество пропусков:\n",
      "event_name    0\n",
      "user_id       0\n",
      "event_date    0\n",
      "group_id      0\n",
      "date          0\n",
      "dtype: int64\n"
     ]
    }
   ],
   "source": [
    "processing(logs)"
   ]
  },
  {
   "cell_type": "code",
   "execution_count": 11,
   "id": "b3cd2726",
   "metadata": {
    "scrolled": false
   },
   "outputs": [
    {
     "data": {
      "text/html": [
       "<div>\n",
       "<style scoped>\n",
       "    .dataframe tbody tr th:only-of-type {\n",
       "        vertical-align: middle;\n",
       "    }\n",
       "\n",
       "    .dataframe tbody tr th {\n",
       "        vertical-align: top;\n",
       "    }\n",
       "\n",
       "    .dataframe thead th {\n",
       "        text-align: right;\n",
       "    }\n",
       "</style>\n",
       "<table border=\"1\" class=\"dataframe\">\n",
       "  <thead>\n",
       "    <tr style=\"text-align: right;\">\n",
       "      <th></th>\n",
       "      <th>event_name</th>\n",
       "      <th>user_id</th>\n",
       "      <th>event_date</th>\n",
       "      <th>group_id</th>\n",
       "      <th>date</th>\n",
       "    </tr>\n",
       "  </thead>\n",
       "  <tbody>\n",
       "    <tr>\n",
       "      <th>0</th>\n",
       "      <td>MainScreenAppear</td>\n",
       "      <td>4575588528974610257</td>\n",
       "      <td>2019-07-25 04:43:36</td>\n",
       "      <td>246</td>\n",
       "      <td>2019-07-25</td>\n",
       "    </tr>\n",
       "    <tr>\n",
       "      <th>1</th>\n",
       "      <td>MainScreenAppear</td>\n",
       "      <td>7416695313311560658</td>\n",
       "      <td>2019-07-25 11:11:42</td>\n",
       "      <td>246</td>\n",
       "      <td>2019-07-25</td>\n",
       "    </tr>\n",
       "    <tr>\n",
       "      <th>2</th>\n",
       "      <td>PaymentScreenSuccessful</td>\n",
       "      <td>3518123091307005509</td>\n",
       "      <td>2019-07-25 11:28:47</td>\n",
       "      <td>248</td>\n",
       "      <td>2019-07-25</td>\n",
       "    </tr>\n",
       "    <tr>\n",
       "      <th>3</th>\n",
       "      <td>CartScreenAppear</td>\n",
       "      <td>3518123091307005509</td>\n",
       "      <td>2019-07-25 11:28:47</td>\n",
       "      <td>248</td>\n",
       "      <td>2019-07-25</td>\n",
       "    </tr>\n",
       "    <tr>\n",
       "      <th>4</th>\n",
       "      <td>PaymentScreenSuccessful</td>\n",
       "      <td>6217807653094995999</td>\n",
       "      <td>2019-07-25 11:48:42</td>\n",
       "      <td>248</td>\n",
       "      <td>2019-07-25</td>\n",
       "    </tr>\n",
       "  </tbody>\n",
       "</table>\n",
       "</div>"
      ],
      "text/plain": [
       "                event_name              user_id          event_date  group_id  \\\n",
       "0         MainScreenAppear  4575588528974610257 2019-07-25 04:43:36       246   \n",
       "1         MainScreenAppear  7416695313311560658 2019-07-25 11:11:42       246   \n",
       "2  PaymentScreenSuccessful  3518123091307005509 2019-07-25 11:28:47       248   \n",
       "3         CartScreenAppear  3518123091307005509 2019-07-25 11:28:47       248   \n",
       "4  PaymentScreenSuccessful  6217807653094995999 2019-07-25 11:48:42       248   \n",
       "\n",
       "         date  \n",
       "0  2019-07-25  \n",
       "1  2019-07-25  \n",
       "2  2019-07-25  \n",
       "3  2019-07-25  \n",
       "4  2019-07-25  "
      ]
     },
     "execution_count": 11,
     "metadata": {},
     "output_type": "execute_result"
    }
   ],
   "source": [
    "logs.head()"
   ]
  },
  {
   "cell_type": "code",
   "execution_count": 12,
   "id": "79f0387e",
   "metadata": {},
   "outputs": [
    {
     "data": {
      "text/html": [
       "<div>\n",
       "<style scoped>\n",
       "    .dataframe tbody tr th:only-of-type {\n",
       "        vertical-align: middle;\n",
       "    }\n",
       "\n",
       "    .dataframe tbody tr th {\n",
       "        vertical-align: top;\n",
       "    }\n",
       "\n",
       "    .dataframe thead th {\n",
       "        text-align: right;\n",
       "    }\n",
       "</style>\n",
       "<table border=\"1\" class=\"dataframe\">\n",
       "  <thead>\n",
       "    <tr style=\"text-align: right;\">\n",
       "      <th></th>\n",
       "      <th>user_id</th>\n",
       "      <th>group_id</th>\n",
       "    </tr>\n",
       "  </thead>\n",
       "  <tbody>\n",
       "  </tbody>\n",
       "</table>\n",
       "</div>"
      ],
      "text/plain": [
       "Empty DataFrame\n",
       "Columns: [user_id, group_id]\n",
       "Index: []"
      ]
     },
     "execution_count": 12,
     "metadata": {},
     "output_type": "execute_result"
    }
   ],
   "source": [
    "logs.groupby('user_id')['group_id'].nunique().reset_index().query('group_id > 1')"
   ]
  },
  {
   "cell_type": "markdown",
   "id": "fc411c54",
   "metadata": {},
   "source": [
    "Пользователей, которые участвуют сразу в нескольких групп нет."
   ]
  },
  {
   "cell_type": "code",
   "execution_count": 13,
   "id": "1720340f",
   "metadata": {
    "scrolled": true
   },
   "outputs": [
    {
     "name": "stdout",
     "output_type": "stream",
     "text": [
      "Всего уникальных пользователей: 7551\n"
     ]
    }
   ],
   "source": [
    "unique_users = logs['user_id'].nunique()\n",
    "print('Всего уникальных пользователей:', unique_users)"
   ]
  },
  {
   "cell_type": "markdown",
   "id": "73fd3e57",
   "metadata": {},
   "source": [
    "Всего уникальных пользователей 7551"
   ]
  },
  {
   "cell_type": "code",
   "execution_count": 14,
   "id": "2ca4a389",
   "metadata": {},
   "outputs": [
    {
     "name": "stdout",
     "output_type": "stream",
     "text": [
      "Количество событий: 243713\n"
     ]
    }
   ],
   "source": [
    "total_event = len(logs)\n",
    "print('Количество событий:', total_event)"
   ]
  },
  {
   "cell_type": "code",
   "execution_count": 15,
   "id": "7bcf79be",
   "metadata": {
    "scrolled": true
   },
   "outputs": [
    {
     "data": {
      "text/plain": [
       "32.27559263673685"
      ]
     },
     "execution_count": 15,
     "metadata": {},
     "output_type": "execute_result"
    }
   ],
   "source": [
    "len(logs)/logs['user_id'].nunique()"
   ]
  },
  {
   "cell_type": "markdown",
   "id": "ff1ce911",
   "metadata": {},
   "source": [
    "В среднем на одного пользователя приходится 32 события"
   ]
  },
  {
   "cell_type": "code",
   "execution_count": 16,
   "id": "621d43fc",
   "metadata": {},
   "outputs": [
    {
     "data": {
      "text/plain": [
       "Period('2019-08-07', 'D')"
      ]
     },
     "execution_count": 16,
     "metadata": {},
     "output_type": "execute_result"
    }
   ],
   "source": [
    "logs['date'].max()"
   ]
  },
  {
   "cell_type": "markdown",
   "id": "9b7e92cb",
   "metadata": {},
   "source": [
    "Максимальная дата имеющихся данных"
   ]
  },
  {
   "cell_type": "code",
   "execution_count": 17,
   "id": "9c415e16",
   "metadata": {},
   "outputs": [
    {
     "data": {
      "text/plain": [
       "Period('2019-07-25', 'D')"
      ]
     },
     "execution_count": 17,
     "metadata": {},
     "output_type": "execute_result"
    }
   ],
   "source": [
    "logs['date'].min()"
   ]
  },
  {
   "cell_type": "markdown",
   "id": "ba9d0064",
   "metadata": {},
   "source": [
    "Минимальная дата имеющихся данных"
   ]
  },
  {
   "cell_type": "code",
   "execution_count": 18,
   "id": "bb1711a0",
   "metadata": {},
   "outputs": [],
   "source": [
    "sns.set(rc = {'axes.facecolor':'#F5F5F5', 'figure.figsize':(20,10)}, font_scale=1.5)"
   ]
  },
  {
   "cell_type": "code",
   "execution_count": 19,
   "id": "fb6f0355",
   "metadata": {},
   "outputs": [
    {
     "data": {
      "text/plain": [
       "(array([ 0,  1,  2,  3,  4,  5,  6,  7,  8,  9, 10, 11, 12, 13]),\n",
       " [Text(0, 0, '2019-07-25'),\n",
       "  Text(1, 0, '2019-07-26'),\n",
       "  Text(2, 0, '2019-07-27'),\n",
       "  Text(3, 0, '2019-07-28'),\n",
       "  Text(4, 0, '2019-07-29'),\n",
       "  Text(5, 0, '2019-07-30'),\n",
       "  Text(6, 0, '2019-07-31'),\n",
       "  Text(7, 0, '2019-08-01'),\n",
       "  Text(8, 0, '2019-08-02'),\n",
       "  Text(9, 0, '2019-08-03'),\n",
       "  Text(10, 0, '2019-08-04'),\n",
       "  Text(11, 0, '2019-08-05'),\n",
       "  Text(12, 0, '2019-08-06'),\n",
       "  Text(13, 0, '2019-08-07')])"
      ]
     },
     "execution_count": 19,
     "metadata": {},
     "output_type": "execute_result"
    },
    {
     "data": {
      "image/png": "[encoded data removed]",
      "text/plain": [
       "<Figure size 1440x720 with 1 Axes>"
      ]
     },
     "metadata": {},
     "output_type": "display_data"
    }
   ],
   "source": [
    "(\n",
    "    sns.countplot(\n",
    "        data=logs, \n",
    "        x='date', \n",
    "        hue='group_id',\n",
    "        palette='Set2')\n",
    "    \n",
    "    .set(xlabel='Дата', \n",
    "     ylabel='Количество.', \n",
    "     title='Количество событий в разрезе групп за период')\n",
    ")\n",
    "plt.xticks(rotation=45)"
   ]
  },
  {
   "cell_type": "code",
   "execution_count": 20,
   "id": "fa5cf1c8",
   "metadata": {},
   "outputs": [],
   "source": [
    "logs = logs.query('event_date >= \"2019-08-01\"')"
   ]
  },
  {
   "cell_type": "markdown",
   "id": "d4798975",
   "metadata": {},
   "source": [
    "Судя по графику выше, данные за июль неполные. Технически в логи новых дней по некоторым пользователям могут «доезжать» события из прошлого — это может «перекашивать данные». Поэтому, чтобы избежать этой проблемы, возьмем данные с 01.08.2019 по 07.08.2019"
   ]
  },
  {
   "cell_type": "code",
   "execution_count": 21,
   "id": "64d20413",
   "metadata": {},
   "outputs": [
    {
     "name": "stdout",
     "output_type": "stream",
     "text": [
      "Количество уникальных пользователей после скоращения рассматриваемого периода: 7534\n"
     ]
    }
   ],
   "source": [
    "corr_users = logs['user_id'].nunique()\n",
    "print('Количество уникальных пользователей после скоращения рассматриваемого периода:', corr_users)"
   ]
  },
  {
   "cell_type": "code",
   "execution_count": 22,
   "id": "d8688df5",
   "metadata": {
    "scrolled": true
   },
   "outputs": [
    {
     "name": "stdout",
     "output_type": "stream",
     "text": [
      "Количество событий после скоращения рассматриваемого периода: 240887\n"
     ]
    }
   ],
   "source": [
    "corr_events = len(logs)\n",
    "print('Количество событий после скоращения рассматриваемого периода:', corr_events)"
   ]
  },
  {
   "cell_type": "code",
   "execution_count": 23,
   "id": "d8c3b233",
   "metadata": {},
   "outputs": [
    {
     "name": "stdout",
     "output_type": "stream",
     "text": [
      "Потеря уникальных пользователей после сокращения рассматриваемого периода: 17\n",
      "Потеря уникальных пользователей после сокращения рассматриваемого периода в процентах: (0.23%)\n"
     ]
    }
   ],
   "source": [
    "diff_users = unique_users - corr_users\n",
    "print('Потеря уникальных пользователей после сокращения рассматриваемого периода:', diff_users)\n",
    "users_ratio = 1-corr_users/unique_users\n",
    "print('Потеря уникальных пользователей после сокращения рассматриваемого периода в процентах:', '({:.2%})'.format(users_ratio))"
   ]
  },
  {
   "cell_type": "code",
   "execution_count": 24,
   "id": "4376ac01",
   "metadata": {},
   "outputs": [
    {
     "name": "stdout",
     "output_type": "stream",
     "text": [
      "Потеря событий после сокращения рассматриваемого периода: 17\n",
      "Потеря событий после сокращения рассматриваемого периода в процентах: (1.16%)\n"
     ]
    }
   ],
   "source": [
    "diff_events = total_event - corr_events\n",
    "print('Потеря событий после сокращения рассматриваемого периода:', diff_users)\n",
    "users_ratio = 1-corr_events/total_event\n",
    "print('Потеря событий после сокращения рассматриваемого периода в процентах:', '({:.2%})'.format(users_ratio))"
   ]
  },
  {
   "cell_type": "code",
   "execution_count": 25,
   "id": "efdbea03",
   "metadata": {},
   "outputs": [
    {
     "data": {
      "text/html": [
       "<div>\n",
       "<style scoped>\n",
       "    .dataframe tbody tr th:only-of-type {\n",
       "        vertical-align: middle;\n",
       "    }\n",
       "\n",
       "    .dataframe tbody tr th {\n",
       "        vertical-align: top;\n",
       "    }\n",
       "\n",
       "    .dataframe thead th {\n",
       "        text-align: right;\n",
       "    }\n",
       "</style>\n",
       "<table border=\"1\" class=\"dataframe\">\n",
       "  <thead>\n",
       "    <tr style=\"text-align: right;\">\n",
       "      <th></th>\n",
       "      <th>user_id</th>\n",
       "    </tr>\n",
       "    <tr>\n",
       "      <th>group_id</th>\n",
       "      <th></th>\n",
       "    </tr>\n",
       "  </thead>\n",
       "  <tbody>\n",
       "    <tr>\n",
       "      <th>246</th>\n",
       "      <td>2484</td>\n",
       "    </tr>\n",
       "    <tr>\n",
       "      <th>247</th>\n",
       "      <td>2513</td>\n",
       "    </tr>\n",
       "    <tr>\n",
       "      <th>248</th>\n",
       "      <td>2537</td>\n",
       "    </tr>\n",
       "  </tbody>\n",
       "</table>\n",
       "</div>"
      ],
      "text/plain": [
       "          user_id\n",
       "group_id         \n",
       "246          2484\n",
       "247          2513\n",
       "248          2537"
      ]
     },
     "execution_count": 25,
     "metadata": {},
     "output_type": "execute_result"
    }
   ],
   "source": [
    "logs.groupby('group_id').agg({'user_id': 'nunique'})"
   ]
  },
  {
   "cell_type": "code",
   "execution_count": 26,
   "id": "02593032",
   "metadata": {},
   "outputs": [
    {
     "data": {
      "text/html": [
       "<div>\n",
       "<style scoped>\n",
       "    .dataframe tbody tr th:only-of-type {\n",
       "        vertical-align: middle;\n",
       "    }\n",
       "\n",
       "    .dataframe tbody tr th {\n",
       "        vertical-align: top;\n",
       "    }\n",
       "\n",
       "    .dataframe thead th {\n",
       "        text-align: right;\n",
       "    }\n",
       "</style>\n",
       "<table border=\"1\" class=\"dataframe\">\n",
       "  <thead>\n",
       "    <tr style=\"text-align: right;\">\n",
       "      <th></th>\n",
       "      <th>user_id</th>\n",
       "    </tr>\n",
       "    <tr>\n",
       "      <th>group_id</th>\n",
       "      <th></th>\n",
       "    </tr>\n",
       "  </thead>\n",
       "  <tbody>\n",
       "    <tr>\n",
       "      <th>246</th>\n",
       "      <td>79302</td>\n",
       "    </tr>\n",
       "    <tr>\n",
       "      <th>247</th>\n",
       "      <td>77022</td>\n",
       "    </tr>\n",
       "    <tr>\n",
       "      <th>248</th>\n",
       "      <td>84563</td>\n",
       "    </tr>\n",
       "  </tbody>\n",
       "</table>\n",
       "</div>"
      ],
      "text/plain": [
       "          user_id\n",
       "group_id         \n",
       "246         79302\n",
       "247         77022\n",
       "248         84563"
      ]
     },
     "execution_count": 26,
     "metadata": {},
     "output_type": "execute_result"
    }
   ],
   "source": [
    "logs.groupby('group_id').agg({'user_id': 'count'})"
   ]
  },
  {
   "cell_type": "markdown",
   "id": "1694f561",
   "metadata": {},
   "source": [
    "__Вывод__\n",
    "\n",
    "* После удаления дубликатов в логе осталось 243713 событий\n",
    "\n",
    "* Уникальных пользователей - 7551\n",
    "\n",
    "* В среднем на пользователя приходится 32 события\n",
    "\n",
    "* В распоряжении данные за период с 25.07.2019 по 07.08.2019.Судя по графику выше данные за июль неполные. Технически в логи новых дней по некоторым пользователям могут «доезжать» события из прошлого — это может «перекашивать данные». Поэтому, чтобы избежать этой проблемы, возьмем данные с 01.08.2019 по 07.08.2019\n",
    "\n",
    "* После корректировки основного датафрейма остался 7534 пользователя и 240887 события"
   ]
  },
  {
   "cell_type": "markdown",
   "id": "ff5165f0",
   "metadata": {},
   "source": [
    "### Шаг 4. Изучите воронку событий"
   ]
  },
  {
   "cell_type": "code",
   "execution_count": 27,
   "id": "591f012a",
   "metadata": {},
   "outputs": [],
   "source": [
    "events = (\n",
    "    logs.groupby('event_name')\n",
    "    .agg({'user_id': 'count'})\n",
    "    .reset_index()\n",
    "    .rename(columns={'user_id' : 'total_events'})\n",
    "    .sort_values(by='total_events', ascending=False)\n",
    ")"
   ]
  },
  {
   "cell_type": "code",
   "execution_count": 28,
   "id": "b0dee726",
   "metadata": {},
   "outputs": [
    {
     "data": {
      "text/html": [
       "<div>\n",
       "<style scoped>\n",
       "    .dataframe tbody tr th:only-of-type {\n",
       "        vertical-align: middle;\n",
       "    }\n",
       "\n",
       "    .dataframe tbody tr th {\n",
       "        vertical-align: top;\n",
       "    }\n",
       "\n",
       "    .dataframe thead th {\n",
       "        text-align: right;\n",
       "    }\n",
       "</style>\n",
       "<table border=\"1\" class=\"dataframe\">\n",
       "  <thead>\n",
       "    <tr style=\"text-align: right;\">\n",
       "      <th></th>\n",
       "      <th>event_name</th>\n",
       "      <th>total_events</th>\n",
       "    </tr>\n",
       "  </thead>\n",
       "  <tbody>\n",
       "    <tr>\n",
       "      <th>1</th>\n",
       "      <td>MainScreenAppear</td>\n",
       "      <td>117328</td>\n",
       "    </tr>\n",
       "    <tr>\n",
       "      <th>2</th>\n",
       "      <td>OffersScreenAppear</td>\n",
       "      <td>46333</td>\n",
       "    </tr>\n",
       "    <tr>\n",
       "      <th>0</th>\n",
       "      <td>CartScreenAppear</td>\n",
       "      <td>42303</td>\n",
       "    </tr>\n",
       "    <tr>\n",
       "      <th>3</th>\n",
       "      <td>PaymentScreenSuccessful</td>\n",
       "      <td>33918</td>\n",
       "    </tr>\n",
       "    <tr>\n",
       "      <th>4</th>\n",
       "      <td>Tutorial</td>\n",
       "      <td>1005</td>\n",
       "    </tr>\n",
       "  </tbody>\n",
       "</table>\n",
       "</div>"
      ],
      "text/plain": [
       "                event_name  total_events\n",
       "1         MainScreenAppear        117328\n",
       "2       OffersScreenAppear         46333\n",
       "0         CartScreenAppear         42303\n",
       "3  PaymentScreenSuccessful         33918\n",
       "4                 Tutorial          1005"
      ]
     },
     "execution_count": 28,
     "metadata": {},
     "output_type": "execute_result"
    }
   ],
   "source": [
    "events"
   ]
  },
  {
   "cell_type": "code",
   "execution_count": 29,
   "id": "8709baa5",
   "metadata": {},
   "outputs": [],
   "source": [
    "users_funnel = (\n",
    "    logs\n",
    "    .groupby('event_name')\n",
    "    .agg({'user_id': 'nunique'})\n",
    "    .reset_index()\n",
    "    .rename(columns={'user_id' : 'total_users'})\n",
    "    .sort_values(by='total_users', ascending=False)\n",
    ")\n",
    "users_funnel['percent'] = users_funnel['total_users'] / logs['user_id'].nunique() * 100  # NEW!!!"
   ]
  },
  {
   "cell_type": "code",
   "execution_count": 30,
   "id": "e79cf44a",
   "metadata": {},
   "outputs": [
    {
     "data": {
      "text/html": [
       "<div>\n",
       "<style scoped>\n",
       "    .dataframe tbody tr th:only-of-type {\n",
       "        vertical-align: middle;\n",
       "    }\n",
       "\n",
       "    .dataframe tbody tr th {\n",
       "        vertical-align: top;\n",
       "    }\n",
       "\n",
       "    .dataframe thead th {\n",
       "        text-align: right;\n",
       "    }\n",
       "</style>\n",
       "<table border=\"1\" class=\"dataframe\">\n",
       "  <thead>\n",
       "    <tr style=\"text-align: right;\">\n",
       "      <th></th>\n",
       "      <th>event_name</th>\n",
       "      <th>total_users</th>\n",
       "      <th>percent</th>\n",
       "    </tr>\n",
       "  </thead>\n",
       "  <tbody>\n",
       "    <tr>\n",
       "      <th>1</th>\n",
       "      <td>MainScreenAppear</td>\n",
       "      <td>7419</td>\n",
       "      <td>98.473586</td>\n",
       "    </tr>\n",
       "    <tr>\n",
       "      <th>2</th>\n",
       "      <td>OffersScreenAppear</td>\n",
       "      <td>4593</td>\n",
       "      <td>60.963632</td>\n",
       "    </tr>\n",
       "    <tr>\n",
       "      <th>0</th>\n",
       "      <td>CartScreenAppear</td>\n",
       "      <td>3734</td>\n",
       "      <td>49.561986</td>\n",
       "    </tr>\n",
       "    <tr>\n",
       "      <th>3</th>\n",
       "      <td>PaymentScreenSuccessful</td>\n",
       "      <td>3539</td>\n",
       "      <td>46.973719</td>\n",
       "    </tr>\n",
       "    <tr>\n",
       "      <th>4</th>\n",
       "      <td>Tutorial</td>\n",
       "      <td>840</td>\n",
       "      <td>11.149456</td>\n",
       "    </tr>\n",
       "  </tbody>\n",
       "</table>\n",
       "</div>"
      ],
      "text/plain": [
       "                event_name  total_users    percent\n",
       "1         MainScreenAppear         7419  98.473586\n",
       "2       OffersScreenAppear         4593  60.963632\n",
       "0         CartScreenAppear         3734  49.561986\n",
       "3  PaymentScreenSuccessful         3539  46.973719\n",
       "4                 Tutorial          840  11.149456"
      ]
     },
     "execution_count": 30,
     "metadata": {},
     "output_type": "execute_result"
    }
   ],
   "source": [
    "users_funnel"
   ]
  },
  {
   "cell_type": "markdown",
   "id": "74f1e7d3",
   "metadata": {},
   "source": [
    "Главную страницу увидели 7419 пользователей или 98% пользователей\n",
    "\n",
    "Каталог предложений просмотрели 4593 пользователей или 61% пользователей\n",
    "\n",
    "Карточку товара 3734 пользователя или 49% пользователей\n",
    "\n",
    "Завершили оплату 3539 пользователей или 47% пользователей\n",
    "\n",
    "Урок просмотрели 840 пользователей или 11% пользователей\n",
    "\n",
    "Все события выстраиваются в цепочку, кроме просмотра Tutorial\n",
    "Мы видим, что все события выстраиваются в цепочку действий, кроме просмотра урока (Tutorial). Этот шаг из цепочки можно убрать.\n",
    "\n",
    "Конечная последовательность выглядит так:\n",
    "\n",
    "* Главный экран\n",
    "* Каталог предложений\n",
    "* Карточка товара\n",
    "* Экран с подтверждением успешной оплаты"
   ]
  },
  {
   "cell_type": "code",
   "execution_count": 31,
   "id": "99e00521",
   "metadata": {},
   "outputs": [],
   "source": [
    "event_sequence = logs.pivot_table(\n",
    "                           index='user_id', \n",
    "                           columns='event_name', \n",
    "                           values='event_date',\n",
    "                           aggfunc='min')"
   ]
  },
  {
   "cell_type": "code",
   "execution_count": 32,
   "id": "4361febc",
   "metadata": {},
   "outputs": [
    {
     "name": "stdout",
     "output_type": "stream",
     "text": [
      "Посетителей всего: (100.0%)\n",
      "Просмотрели Каталог в % от предыдущего шага: (61.9%)\n",
      "Просмотрели Карточку товара в % от предыдущего шага: (81.3%)\n",
      "Оплатили в % от предыдущего шага: (94.8%)\n"
     ]
    }
   ],
   "source": [
    "print('Посетителей всего:', \n",
    "      '({:.1%})'.format(event_sequence['MainScreenAppear'].count() / event_sequence['MainScreenAppear'].count() ))\n",
    "print('Просмотрели Каталог в % от предыдущего шага:', \n",
    "      '({:.1%})'.format(event_sequence['OffersScreenAppear'].count() / event_sequence['MainScreenAppear'].count() ))\n",
    "print('Просмотрели Карточку товара в % от предыдущего шага:', \n",
    "      '({:.1%})'.format(event_sequence['CartScreenAppear'].count() / event_sequence['OffersScreenAppear'].count()))\n",
    "print('Оплатили в % от предыдущего шага:',\n",
    "      '({:.1%})'.format(event_sequence['PaymentScreenSuccessful'].count() / event_sequence['CartScreenAppear'].count()))"
   ]
  },
  {
   "cell_type": "markdown",
   "id": "26a3d7c8",
   "metadata": {},
   "source": [
    "Больше всего пользователей теряется после первого шага. До оплаты доходит только 48% пользователей\n"
   ]
  },
  {
   "cell_type": "markdown",
   "id": "116320b0",
   "metadata": {},
   "source": [
    "__Вывод__\n",
    "\n",
    "Из последовательности был удален шаг \"Tutorial\"\n",
    "\n",
    "Конечная последовательность выглядит так:\n",
    "\n",
    "Главный экран\n",
    "Каталог предложений\n",
    "Карточка товара\n",
    "Экран с подтверждением успешной оплаты\n",
    "\n",
    "По результатам скорректированной воронки, можно сделать вывод о том что наибольшее количество пользователей теряется после первого шага, т.е. просматривают каталог лишь 61% пользователей и только 48% пользователей оплачивают товары из корзины. "
   ]
  },
  {
   "cell_type": "markdown",
   "id": "bd4f3369",
   "metadata": {},
   "source": [
    "### Шаг 5. Изучите результаты эксперимента"
   ]
  },
  {
   "cell_type": "code",
   "execution_count": 33,
   "id": "bf8310af",
   "metadata": {},
   "outputs": [
    {
     "data": {
      "text/html": [
       "<div>\n",
       "<style scoped>\n",
       "    .dataframe tbody tr th:only-of-type {\n",
       "        vertical-align: middle;\n",
       "    }\n",
       "\n",
       "    .dataframe tbody tr th {\n",
       "        vertical-align: top;\n",
       "    }\n",
       "\n",
       "    .dataframe thead th {\n",
       "        text-align: right;\n",
       "    }\n",
       "</style>\n",
       "<table border=\"1\" class=\"dataframe\">\n",
       "  <thead>\n",
       "    <tr style=\"text-align: right;\">\n",
       "      <th></th>\n",
       "      <th>count</th>\n",
       "    </tr>\n",
       "    <tr>\n",
       "      <th>group_id</th>\n",
       "      <th></th>\n",
       "    </tr>\n",
       "  </thead>\n",
       "  <tbody>\n",
       "    <tr>\n",
       "      <th>246</th>\n",
       "      <td>2484</td>\n",
       "    </tr>\n",
       "    <tr>\n",
       "      <th>247</th>\n",
       "      <td>2513</td>\n",
       "    </tr>\n",
       "    <tr>\n",
       "      <th>248</th>\n",
       "      <td>2537</td>\n",
       "    </tr>\n",
       "  </tbody>\n",
       "</table>\n",
       "</div>"
      ],
      "text/plain": [
       "          count\n",
       "group_id       \n",
       "246        2484\n",
       "247        2513\n",
       "248        2537"
      ]
     },
     "execution_count": 33,
     "metadata": {},
     "output_type": "execute_result"
    }
   ],
   "source": [
    "logs.groupby('group_id').agg(count=('user_id', 'nunique'))"
   ]
  },
  {
   "cell_type": "code",
   "execution_count": 34,
   "id": "63457e31",
   "metadata": {},
   "outputs": [],
   "source": [
    "funnel_group = (logs\n",
    "                .groupby(['event_name', 'group_id'])\n",
    "                .agg({'user_id': 'nunique'})\n",
    "                .reset_index()\n",
    "                .rename(columns={'user_id' : 'total_users'})\n",
    "                .sort_values(by=['group_id','total_users'], ascending=False))\n",
    "\n",
    "funnel_group = funnel_group.query('event_name != \"Tutorial\"')"
   ]
  },
  {
   "cell_type": "code",
   "execution_count": 35,
   "id": "096ab4f2",
   "metadata": {},
   "outputs": [
    {
     "data": {
      "text/html": [
       "<div>\n",
       "<style scoped>\n",
       "    .dataframe tbody tr th:only-of-type {\n",
       "        vertical-align: middle;\n",
       "    }\n",
       "\n",
       "    .dataframe tbody tr th {\n",
       "        vertical-align: top;\n",
       "    }\n",
       "\n",
       "    .dataframe thead th {\n",
       "        text-align: right;\n",
       "    }\n",
       "</style>\n",
       "<table border=\"1\" class=\"dataframe\">\n",
       "  <thead>\n",
       "    <tr style=\"text-align: right;\">\n",
       "      <th></th>\n",
       "      <th>event_name</th>\n",
       "      <th>group_id</th>\n",
       "      <th>total_users</th>\n",
       "    </tr>\n",
       "  </thead>\n",
       "  <tbody>\n",
       "    <tr>\n",
       "      <th>5</th>\n",
       "      <td>MainScreenAppear</td>\n",
       "      <td>248</td>\n",
       "      <td>2493</td>\n",
       "    </tr>\n",
       "    <tr>\n",
       "      <th>8</th>\n",
       "      <td>OffersScreenAppear</td>\n",
       "      <td>248</td>\n",
       "      <td>1531</td>\n",
       "    </tr>\n",
       "    <tr>\n",
       "      <th>2</th>\n",
       "      <td>CartScreenAppear</td>\n",
       "      <td>248</td>\n",
       "      <td>1230</td>\n",
       "    </tr>\n",
       "    <tr>\n",
       "      <th>11</th>\n",
       "      <td>PaymentScreenSuccessful</td>\n",
       "      <td>248</td>\n",
       "      <td>1181</td>\n",
       "    </tr>\n",
       "    <tr>\n",
       "      <th>4</th>\n",
       "      <td>MainScreenAppear</td>\n",
       "      <td>247</td>\n",
       "      <td>2476</td>\n",
       "    </tr>\n",
       "    <tr>\n",
       "      <th>7</th>\n",
       "      <td>OffersScreenAppear</td>\n",
       "      <td>247</td>\n",
       "      <td>1520</td>\n",
       "    </tr>\n",
       "    <tr>\n",
       "      <th>1</th>\n",
       "      <td>CartScreenAppear</td>\n",
       "      <td>247</td>\n",
       "      <td>1238</td>\n",
       "    </tr>\n",
       "    <tr>\n",
       "      <th>10</th>\n",
       "      <td>PaymentScreenSuccessful</td>\n",
       "      <td>247</td>\n",
       "      <td>1158</td>\n",
       "    </tr>\n",
       "    <tr>\n",
       "      <th>3</th>\n",
       "      <td>MainScreenAppear</td>\n",
       "      <td>246</td>\n",
       "      <td>2450</td>\n",
       "    </tr>\n",
       "    <tr>\n",
       "      <th>6</th>\n",
       "      <td>OffersScreenAppear</td>\n",
       "      <td>246</td>\n",
       "      <td>1542</td>\n",
       "    </tr>\n",
       "    <tr>\n",
       "      <th>0</th>\n",
       "      <td>CartScreenAppear</td>\n",
       "      <td>246</td>\n",
       "      <td>1266</td>\n",
       "    </tr>\n",
       "    <tr>\n",
       "      <th>9</th>\n",
       "      <td>PaymentScreenSuccessful</td>\n",
       "      <td>246</td>\n",
       "      <td>1200</td>\n",
       "    </tr>\n",
       "  </tbody>\n",
       "</table>\n",
       "</div>"
      ],
      "text/plain": [
       "                 event_name  group_id  total_users\n",
       "5          MainScreenAppear       248         2493\n",
       "8        OffersScreenAppear       248         1531\n",
       "2          CartScreenAppear       248         1230\n",
       "11  PaymentScreenSuccessful       248         1181\n",
       "4          MainScreenAppear       247         2476\n",
       "7        OffersScreenAppear       247         1520\n",
       "1          CartScreenAppear       247         1238\n",
       "10  PaymentScreenSuccessful       247         1158\n",
       "3          MainScreenAppear       246         2450\n",
       "6        OffersScreenAppear       246         1542\n",
       "0          CartScreenAppear       246         1266\n",
       "9   PaymentScreenSuccessful       246         1200"
      ]
     },
     "execution_count": 35,
     "metadata": {},
     "output_type": "execute_result"
    }
   ],
   "source": [
    "funnel_group"
   ]
  },
  {
   "cell_type": "markdown",
   "id": "8ed996e9",
   "metadata": {},
   "source": [
    "Для того чтобы проверить различаются ли два средних значения ген. совокупности, когда дисперсии известны и размер выборки велик с помощью z-теста\n",
    "\n",
    "Уровень значимости примем равный 0.05\n",
    "\n",
    "Для того, чтобы снизить вероятность ложнопозитивного результаты при множественном тестировании, будет использована поправка Бонферрони.\n",
    "\n",
    "Сформируем функцию"
   ]
  },
  {
   "cell_type": "code",
   "execution_count": 36,
   "id": "07f439f4",
   "metadata": {},
   "outputs": [],
   "source": [
    "def z_test(df1, df2, event, alpha, n):\n",
    "    '''    \n",
    "Функция принимает на вход два датафрейма с логами и по заданному событию попарно проверяет \n",
    "есть ли статистически значимая разница между долями пользователей, совершивших его в группе 1 и группе 2.\n",
    "\n",
    "Входные параметры:\n",
    "    - df1, df2 - датафреймы с логами\n",
    "    - event - событие\n",
    "    - alpha - критический уровень статистической значимости\n",
    "    - n - поправка Боннферони для критического уровня статистической значимости\n",
    "    '''    \n",
    "    \n",
    "    # критический уровень статистической значимости c поправкой Бонферрони\n",
    "    bonferroni_alpha = alpha / n\n",
    " \n",
    "    # число пользователей в группе 1 и группе 2:\n",
    "    n_users = np.array([df1['user_id'].nunique(), \n",
    "                        df2['user_id'].nunique()])\n",
    "\n",
    "    # число пользователей, совершивших событие в группе 1 и группе 2\n",
    "    success = np.array([df1[df1['event_name'] == event]['user_id'].nunique(), \n",
    "                        df2[df2['event_name'] == event]['user_id'].nunique()])\n",
    "\n",
    "    # пропорции успехов в группах:\n",
    "    p1 = success[0]/n_users[0]\n",
    "    p2 = success[1]/n_users[1]\n",
    "    \n",
    "    # пропорция успехов в комбинированном датасете:\n",
    "    p_combined = (success[0] + success[1]) / (n_users[0] + n_users[1])\n",
    "\n",
    "    # разница пропорций в датасетах\n",
    "    difference = p1 - p2 \n",
    "\n",
    "    # считаем статистику в ст.отклонениях стандартного нормального распределения\n",
    "    z_value = difference /  np.sqrt(p_combined * (1 - p_combined) * (1/n_users[0] + 1/n_users[1]))\n",
    "\n",
    "    # задаем стандартное нормальное распределение (среднее 0, ст.отклонение 1)\n",
    "    distr = st.norm(0, 1)  \n",
    "\n",
    "    p_value = (1 - distr.cdf(abs(z_value))) * 2   #тест двусторонний, удваиваем результат\n",
    "    \n",
    "    print('Событие:', event)\n",
    "    print('p-значение: ', p_value)\n",
    "\n",
    "    if p_value < bonferroni_alpha:\n",
    "        print('Отвергаем нулевую гипотезу: между долями есть разница')\n",
    "    else:\n",
    "        print(\n",
    "        'Не получилось отвергнуть нулевую гипотезу, нет оснований считать доли разными')"
   ]
  },
  {
   "cell_type": "markdown",
   "id": "0fdbf2e2",
   "metadata": {},
   "source": [
    "Для всех тестов можно сформулировать следующие гипотезы\n",
    "\n",
    "H0: Между долями тестируемых групп разницы нет\n",
    "\n",
    "H1: Между долями тестируемых групп есть статистически значимая разница"
   ]
  },
  {
   "cell_type": "markdown",
   "id": "09073202",
   "metadata": {},
   "source": [
    "Проверим наличие статистической значимости в группах 246 и 247"
   ]
  },
  {
   "cell_type": "code",
   "execution_count": 37,
   "id": "1f0581d8",
   "metadata": {},
   "outputs": [
    {
     "name": "stdout",
     "output_type": "stream",
     "text": [
      "Событие: MainScreenAppear\n",
      "p-значение:  0.7570597232046099\n",
      "Не получилось отвергнуть нулевую гипотезу, нет оснований считать доли разными\n",
      "\n",
      "Событие: OffersScreenAppear\n",
      "p-значение:  0.2480954578522181\n",
      "Не получилось отвергнуть нулевую гипотезу, нет оснований считать доли разными\n",
      "\n",
      "Событие: CartScreenAppear\n",
      "p-значение:  0.22883372237997213\n",
      "Не получилось отвергнуть нулевую гипотезу, нет оснований считать доли разными\n",
      "\n",
      "Событие: PaymentScreenSuccessful\n",
      "p-значение:  0.11456679313141849\n",
      "Не получилось отвергнуть нулевую гипотезу, нет оснований считать доли разными\n",
      "\n"
     ]
    }
   ],
   "source": [
    "for event in funnel_group['event_name'].unique():\n",
    "    z_test(logs[logs['group_id'] == 246], logs[logs['group_id'] == 247], event,.05, 16)\n",
    "    print()"
   ]
  },
  {
   "cell_type": "markdown",
   "id": "1a534032",
   "metadata": {},
   "source": [
    "А/А тест проводят перед А/В тестом для того чтобы убедиться что инструмент \"деления\" трафика работает безошибочно, что данные отправляются в системы аналитики корректно и что на результаты не влияют аномалии и выбросы в генеральной совокупности.\n",
    "\n",
    "Если в ходе А/А теста не удаётся отвергнуть нулевую гипотезу о равенстве между долями, то можно запускать А/В тест\n",
    "\n",
    "Между группами 246 и 247 ни по одному событию нет статистически достоверного отличия при заданном уровне значимости. Значит, можно начинать А/В тест\n",
    "\n"
   ]
  },
  {
   "cell_type": "markdown",
   "id": "dd33b104",
   "metadata": {},
   "source": [
    "Проверим наличие статистической значимости в группах 246 и 248"
   ]
  },
  {
   "cell_type": "code",
   "execution_count": 38,
   "id": "b64fe693",
   "metadata": {},
   "outputs": [
    {
     "name": "stdout",
     "output_type": "stream",
     "text": [
      "Событие: MainScreenAppear\n",
      "p-значение:  0.2949721933554552\n",
      "Не получилось отвергнуть нулевую гипотезу, нет оснований считать доли разными\n",
      "\n",
      "Событие: OffersScreenAppear\n",
      "p-значение:  0.20836205402738917\n",
      "Не получилось отвергнуть нулевую гипотезу, нет оснований считать доли разными\n",
      "\n",
      "Событие: CartScreenAppear\n",
      "p-значение:  0.07842923237520116\n",
      "Не получилось отвергнуть нулевую гипотезу, нет оснований считать доли разными\n",
      "\n",
      "Событие: PaymentScreenSuccessful\n",
      "p-значение:  0.2122553275697796\n",
      "Не получилось отвергнуть нулевую гипотезу, нет оснований считать доли разными\n",
      "\n"
     ]
    }
   ],
   "source": [
    "for event in funnel_group['event_name'].unique():\n",
    "    z_test(logs[logs['group_id'] == 246], logs[logs['group_id'] == 248], event,.05, 16)\n",
    "    print()"
   ]
  },
  {
   "cell_type": "markdown",
   "id": "21f62b7a",
   "metadata": {},
   "source": [
    "Между группами 246 и 248 ни по одному событию нет статистически достоверного отличия при заданном уровне значимости."
   ]
  },
  {
   "cell_type": "markdown",
   "id": "961f5b32",
   "metadata": {},
   "source": [
    "Проверим наличие статистической значимости в группах 247 и 248"
   ]
  },
  {
   "cell_type": "code",
   "execution_count": 39,
   "id": "bb309715",
   "metadata": {},
   "outputs": [
    {
     "name": "stdout",
     "output_type": "stream",
     "text": [
      "Событие: MainScreenAppear\n",
      "p-значение:  0.4587053616621515\n",
      "Не получилось отвергнуть нулевую гипотезу, нет оснований считать доли разными\n",
      "\n",
      "Событие: OffersScreenAppear\n",
      "p-значение:  0.9197817830592261\n",
      "Не получилось отвергнуть нулевую гипотезу, нет оснований считать доли разными\n",
      "\n",
      "Событие: CartScreenAppear\n",
      "p-значение:  0.5786197879539783\n",
      "Не получилось отвергнуть нулевую гипотезу, нет оснований считать доли разными\n",
      "\n",
      "Событие: PaymentScreenSuccessful\n",
      "p-значение:  0.7373415053803964\n",
      "Не получилось отвергнуть нулевую гипотезу, нет оснований считать доли разными\n",
      "\n"
     ]
    }
   ],
   "source": [
    "for event in funnel_group['event_name'].unique():\n",
    "    z_test(logs[logs['group_id'] == 247], logs[logs['group_id'] == 248], event,.05, 16)\n",
    "    print()"
   ]
  },
  {
   "cell_type": "markdown",
   "id": "59fa3b7e",
   "metadata": {},
   "source": [
    "Между группами 247 и 248 ни по одному событию нет статистически достоверного отличия при заданном уровне значимости."
   ]
  },
  {
   "cell_type": "markdown",
   "id": "cb37f68d",
   "metadata": {},
   "source": [
    "Теперь проверим наличие статистической значимости в объединенной контрольной группе и 248"
   ]
  },
  {
   "cell_type": "code",
   "execution_count": 40,
   "id": "d6729ea0",
   "metadata": {},
   "outputs": [
    {
     "name": "stdout",
     "output_type": "stream",
     "text": [
      "Событие: MainScreenAppear\n",
      "p-значение:  0.29424526837179577\n",
      "Не получилось отвергнуть нулевую гипотезу, нет оснований считать доли разными\n",
      "\n",
      "Событие: OffersScreenAppear\n",
      "p-значение:  0.43425549655188256\n",
      "Не получилось отвергнуть нулевую гипотезу, нет оснований считать доли разными\n",
      "\n",
      "Событие: CartScreenAppear\n",
      "p-значение:  0.18175875284404386\n",
      "Не получилось отвергнуть нулевую гипотезу, нет оснований считать доли разными\n",
      "\n",
      "Событие: PaymentScreenSuccessful\n",
      "p-значение:  0.6004294282308704\n",
      "Не получилось отвергнуть нулевую гипотезу, нет оснований считать доли разными\n",
      "\n"
     ]
    }
   ],
   "source": [
    "for event in funnel_group['event_name'].unique():\n",
    "    z_test(logs[logs['group_id'] != 248], logs[logs['group_id'] == 248], event,.05, 16)\n",
    "    print()"
   ]
  },
  {
   "cell_type": "markdown",
   "id": "f3af0ea7",
   "metadata": {},
   "source": [
    "Между группами объединенной контрольной и 248 группой ни по одному событию нет статистически достоверного отличия при заданном уровне значимости, а значит, что изменение шрифтов не дало никакого эффекта."
   ]
  },
  {
   "cell_type": "markdown",
   "id": "0ff487c2",
   "metadata": {},
   "source": [
    "### Вывод\n",
    "\n",
    "В рамках проекта были исследованы поведение покупателей и результаты А/А и А/В теста.\n",
    "\n",
    "__По итогу исследования мы узнали что:__\n",
    "\n",
    "Каталог предложений просмотрели 4593 пользователей или 61% пользователей\n",
    "\n",
    "Карточку товара 3734 пользователя или 49% пользователей\n",
    "\n",
    "Завершили оплату 3539 пользователей или 47% пользователей\n",
    "\n",
    "Урок просмотрели 840 пользователей или 11% пользователей\n",
    "\n",
    "\n",
    "После первого шага теряется около 38%, после просмотра каталога в карточку продукта приходит на 9% меньше пользователей и на оплате теряется еще 2% пользователей.\n",
    "\n",
    "__Результаты А/А/В теста.__\n",
    "\n",
    "В рамках теста проверяли как повлияело изменение шрифта на поведение пользователей.\n",
    "\n",
    "Сравнивались доли пользователей по каждому событию между:\n",
    "\n",
    "* Контрольными группами 246 и 247\n",
    "* Каждой из контрольной группы по отдельности и экспериментальной (246-248 и 247-248)\n",
    "* Объединенной контрольной группой и экспериментальной (246+247 и 248)\n",
    "\n",
    "Множесто А/В-тестов, проведённых по каждому из событий, не обнаружили статистически значимой разницы между группами. Т.е. изменение шрифтов во всём приложении на поведение пользователей не повлияло."
   ]
  }
 ],
 "metadata": {
  "ExecuteTimeLog": [
   {
    "duration": 1361,
    "start_time": "2023-10-25T16:59:21.526Z"
   },
   {
    "duration": 0,
    "start_time": "2023-10-25T16:59:22.889Z"
   },
   {
    "duration": 0,
    "start_time": "2023-10-25T16:59:22.890Z"
   },
   {
    "duration": 0,
    "start_time": "2023-10-25T16:59:22.892Z"
   },
   {
    "duration": 0,
    "start_time": "2023-10-25T16:59:22.893Z"
   },
   {
    "duration": 0,
    "start_time": "2023-10-25T16:59:22.894Z"
   },
   {
    "duration": 0,
    "start_time": "2023-10-25T16:59:22.895Z"
   },
   {
    "duration": 0,
    "start_time": "2023-10-25T16:59:22.896Z"
   },
   {
    "duration": 0,
    "start_time": "2023-10-25T16:59:22.897Z"
   },
   {
    "duration": 1,
    "start_time": "2023-10-25T16:59:22.898Z"
   },
   {
    "duration": 0,
    "start_time": "2023-10-25T16:59:22.900Z"
   },
   {
    "duration": 0,
    "start_time": "2023-10-25T16:59:22.901Z"
   },
   {
    "duration": 0,
    "start_time": "2023-10-25T16:59:22.902Z"
   },
   {
    "duration": 0,
    "start_time": "2023-10-25T16:59:22.903Z"
   },
   {
    "duration": 0,
    "start_time": "2023-10-25T16:59:22.904Z"
   },
   {
    "duration": 0,
    "start_time": "2023-10-25T16:59:22.905Z"
   },
   {
    "duration": 0,
    "start_time": "2023-10-25T16:59:22.906Z"
   },
   {
    "duration": 0,
    "start_time": "2023-10-25T16:59:22.908Z"
   },
   {
    "duration": 0,
    "start_time": "2023-10-25T16:59:22.909Z"
   },
   {
    "duration": 0,
    "start_time": "2023-10-25T16:59:22.910Z"
   },
   {
    "duration": 0,
    "start_time": "2023-10-25T16:59:22.911Z"
   },
   {
    "duration": 0,
    "start_time": "2023-10-25T16:59:22.913Z"
   },
   {
    "duration": 0,
    "start_time": "2023-10-25T16:59:22.914Z"
   },
   {
    "duration": 0,
    "start_time": "2023-10-25T16:59:22.915Z"
   },
   {
    "duration": 0,
    "start_time": "2023-10-25T16:59:22.916Z"
   },
   {
    "duration": 0,
    "start_time": "2023-10-25T16:59:22.917Z"
   },
   {
    "duration": 0,
    "start_time": "2023-10-25T16:59:22.918Z"
   },
   {
    "duration": 0,
    "start_time": "2023-10-25T16:59:22.919Z"
   },
   {
    "duration": 0,
    "start_time": "2023-10-25T16:59:22.967Z"
   },
   {
    "duration": 0,
    "start_time": "2023-10-25T16:59:22.970Z"
   },
   {
    "duration": 0,
    "start_time": "2023-10-25T16:59:22.970Z"
   },
   {
    "duration": 0,
    "start_time": "2023-10-25T16:59:22.971Z"
   },
   {
    "duration": 0,
    "start_time": "2023-10-25T16:59:22.972Z"
   },
   {
    "duration": 0,
    "start_time": "2023-10-25T16:59:22.972Z"
   },
   {
    "duration": 0,
    "start_time": "2023-10-25T16:59:22.973Z"
   },
   {
    "duration": 0,
    "start_time": "2023-10-25T16:59:22.974Z"
   },
   {
    "duration": 1454,
    "start_time": "2023-10-25T17:03:20.483Z"
   },
   {
    "duration": 0,
    "start_time": "2023-10-25T17:03:21.940Z"
   },
   {
    "duration": 0,
    "start_time": "2023-10-25T17:03:21.941Z"
   },
   {
    "duration": 0,
    "start_time": "2023-10-25T17:03:21.942Z"
   },
   {
    "duration": 0,
    "start_time": "2023-10-25T17:03:21.943Z"
   },
   {
    "duration": 0,
    "start_time": "2023-10-25T17:03:21.944Z"
   },
   {
    "duration": 0,
    "start_time": "2023-10-25T17:03:21.945Z"
   },
   {
    "duration": 0,
    "start_time": "2023-10-25T17:03:21.946Z"
   },
   {
    "duration": 0,
    "start_time": "2023-10-25T17:03:21.947Z"
   },
   {
    "duration": 0,
    "start_time": "2023-10-25T17:03:21.948Z"
   },
   {
    "duration": 0,
    "start_time": "2023-10-25T17:03:21.949Z"
   },
   {
    "duration": 0,
    "start_time": "2023-10-25T17:03:21.950Z"
   },
   {
    "duration": 0,
    "start_time": "2023-10-25T17:03:21.967Z"
   },
   {
    "duration": 0,
    "start_time": "2023-10-25T17:03:21.968Z"
   },
   {
    "duration": 0,
    "start_time": "2023-10-25T17:03:21.969Z"
   },
   {
    "duration": 0,
    "start_time": "2023-10-25T17:03:21.969Z"
   },
   {
    "duration": 0,
    "start_time": "2023-10-25T17:03:21.970Z"
   },
   {
    "duration": 0,
    "start_time": "2023-10-25T17:03:21.975Z"
   },
   {
    "duration": 0,
    "start_time": "2023-10-25T17:03:21.976Z"
   },
   {
    "duration": 0,
    "start_time": "2023-10-25T17:03:21.977Z"
   },
   {
    "duration": 0,
    "start_time": "2023-10-25T17:03:21.977Z"
   },
   {
    "duration": 0,
    "start_time": "2023-10-25T17:03:21.979Z"
   },
   {
    "duration": 0,
    "start_time": "2023-10-25T17:03:21.979Z"
   },
   {
    "duration": 0,
    "start_time": "2023-10-25T17:03:21.980Z"
   },
   {
    "duration": 0,
    "start_time": "2023-10-25T17:03:21.981Z"
   },
   {
    "duration": 0,
    "start_time": "2023-10-25T17:03:21.981Z"
   },
   {
    "duration": 0,
    "start_time": "2023-10-25T17:03:21.982Z"
   },
   {
    "duration": 0,
    "start_time": "2023-10-25T17:03:21.983Z"
   },
   {
    "duration": 0,
    "start_time": "2023-10-25T17:03:21.985Z"
   },
   {
    "duration": 0,
    "start_time": "2023-10-25T17:03:21.986Z"
   },
   {
    "duration": 0,
    "start_time": "2023-10-25T17:03:21.987Z"
   },
   {
    "duration": 0,
    "start_time": "2023-10-25T17:03:21.989Z"
   },
   {
    "duration": 0,
    "start_time": "2023-10-25T17:03:21.990Z"
   },
   {
    "duration": 0,
    "start_time": "2023-10-25T17:03:21.992Z"
   },
   {
    "duration": 0,
    "start_time": "2023-10-25T17:03:21.994Z"
   },
   {
    "duration": 0,
    "start_time": "2023-10-25T17:03:21.996Z"
   },
   {
    "duration": 1414,
    "start_time": "2023-10-25T17:08:10.348Z"
   },
   {
    "duration": 0,
    "start_time": "2023-10-25T17:08:11.764Z"
   },
   {
    "duration": 0,
    "start_time": "2023-10-25T17:08:11.767Z"
   },
   {
    "duration": 0,
    "start_time": "2023-10-25T17:08:11.778Z"
   },
   {
    "duration": 0,
    "start_time": "2023-10-25T17:08:11.779Z"
   },
   {
    "duration": 0,
    "start_time": "2023-10-25T17:08:11.780Z"
   },
   {
    "duration": 0,
    "start_time": "2023-10-25T17:08:11.783Z"
   },
   {
    "duration": 0,
    "start_time": "2023-10-25T17:08:11.784Z"
   },
   {
    "duration": 0,
    "start_time": "2023-10-25T17:08:11.787Z"
   },
   {
    "duration": 1,
    "start_time": "2023-10-25T17:08:11.788Z"
   },
   {
    "duration": 0,
    "start_time": "2023-10-25T17:08:11.790Z"
   },
   {
    "duration": 0,
    "start_time": "2023-10-25T17:08:11.791Z"
   },
   {
    "duration": 0,
    "start_time": "2023-10-25T17:08:11.792Z"
   },
   {
    "duration": 0,
    "start_time": "2023-10-25T17:08:11.793Z"
   },
   {
    "duration": 0,
    "start_time": "2023-10-25T17:08:11.794Z"
   },
   {
    "duration": 0,
    "start_time": "2023-10-25T17:08:11.795Z"
   },
   {
    "duration": 0,
    "start_time": "2023-10-25T17:08:11.797Z"
   },
   {
    "duration": 0,
    "start_time": "2023-10-25T17:08:11.798Z"
   },
   {
    "duration": 0,
    "start_time": "2023-10-25T17:08:11.799Z"
   },
   {
    "duration": 0,
    "start_time": "2023-10-25T17:08:11.800Z"
   },
   {
    "duration": 0,
    "start_time": "2023-10-25T17:08:11.801Z"
   },
   {
    "duration": 0,
    "start_time": "2023-10-25T17:08:11.802Z"
   },
   {
    "duration": 0,
    "start_time": "2023-10-25T17:08:11.803Z"
   },
   {
    "duration": 1,
    "start_time": "2023-10-25T17:08:11.804Z"
   },
   {
    "duration": 0,
    "start_time": "2023-10-25T17:08:11.805Z"
   },
   {
    "duration": 0,
    "start_time": "2023-10-25T17:08:11.807Z"
   },
   {
    "duration": 0,
    "start_time": "2023-10-25T17:08:11.808Z"
   },
   {
    "duration": 0,
    "start_time": "2023-10-25T17:08:11.810Z"
   },
   {
    "duration": 0,
    "start_time": "2023-10-25T17:08:11.810Z"
   },
   {
    "duration": 0,
    "start_time": "2023-10-25T17:08:11.811Z"
   },
   {
    "duration": 0,
    "start_time": "2023-10-25T17:08:11.812Z"
   },
   {
    "duration": 0,
    "start_time": "2023-10-25T17:08:11.814Z"
   },
   {
    "duration": 0,
    "start_time": "2023-10-25T17:08:11.815Z"
   },
   {
    "duration": 0,
    "start_time": "2023-10-25T17:08:11.816Z"
   },
   {
    "duration": 0,
    "start_time": "2023-10-25T17:08:11.817Z"
   },
   {
    "duration": 0,
    "start_time": "2023-10-25T17:08:11.875Z"
   },
   {
    "duration": 1947,
    "start_time": "2023-10-25T19:19:03.445Z"
   },
   {
    "duration": 13,
    "start_time": "2023-10-25T19:19:05.398Z"
   },
   {
    "duration": 371,
    "start_time": "2023-10-25T19:19:05.415Z"
   },
   {
    "duration": 0,
    "start_time": "2023-10-25T19:19:05.796Z"
   },
   {
    "duration": 0,
    "start_time": "2023-10-25T19:19:05.799Z"
   },
   {
    "duration": 0,
    "start_time": "2023-10-25T19:19:05.802Z"
   },
   {
    "duration": 0,
    "start_time": "2023-10-25T19:19:05.804Z"
   },
   {
    "duration": 0,
    "start_time": "2023-10-25T19:19:05.805Z"
   },
   {
    "duration": 0,
    "start_time": "2023-10-25T19:19:05.806Z"
   },
   {
    "duration": 0,
    "start_time": "2023-10-25T19:19:05.807Z"
   },
   {
    "duration": 0,
    "start_time": "2023-10-25T19:19:05.808Z"
   },
   {
    "duration": 0,
    "start_time": "2023-10-25T19:19:05.810Z"
   },
   {
    "duration": 0,
    "start_time": "2023-10-25T19:19:05.811Z"
   },
   {
    "duration": 0,
    "start_time": "2023-10-25T19:19:05.812Z"
   },
   {
    "duration": 0,
    "start_time": "2023-10-25T19:19:05.813Z"
   },
   {
    "duration": 0,
    "start_time": "2023-10-25T19:19:05.814Z"
   },
   {
    "duration": 0,
    "start_time": "2023-10-25T19:19:05.815Z"
   },
   {
    "duration": 0,
    "start_time": "2023-10-25T19:19:05.817Z"
   },
   {
    "duration": 0,
    "start_time": "2023-10-25T19:19:05.818Z"
   },
   {
    "duration": 0,
    "start_time": "2023-10-25T19:19:05.819Z"
   },
   {
    "duration": 0,
    "start_time": "2023-10-25T19:19:05.821Z"
   },
   {
    "duration": 0,
    "start_time": "2023-10-25T19:19:05.822Z"
   },
   {
    "duration": 0,
    "start_time": "2023-10-25T19:19:05.823Z"
   },
   {
    "duration": 0,
    "start_time": "2023-10-25T19:19:05.825Z"
   },
   {
    "duration": 0,
    "start_time": "2023-10-25T19:19:05.826Z"
   },
   {
    "duration": 0,
    "start_time": "2023-10-25T19:19:05.827Z"
   },
   {
    "duration": 0,
    "start_time": "2023-10-25T19:19:05.828Z"
   },
   {
    "duration": 0,
    "start_time": "2023-10-25T19:19:05.829Z"
   },
   {
    "duration": 0,
    "start_time": "2023-10-25T19:19:05.830Z"
   },
   {
    "duration": 0,
    "start_time": "2023-10-25T19:19:05.831Z"
   },
   {
    "duration": 0,
    "start_time": "2023-10-25T19:19:05.832Z"
   },
   {
    "duration": 1,
    "start_time": "2023-10-25T19:19:05.833Z"
   },
   {
    "duration": 0,
    "start_time": "2023-10-25T19:19:05.836Z"
   },
   {
    "duration": 0,
    "start_time": "2023-10-25T19:19:05.857Z"
   },
   {
    "duration": 0,
    "start_time": "2023-10-25T19:19:05.857Z"
   },
   {
    "duration": 0,
    "start_time": "2023-10-25T19:19:05.860Z"
   },
   {
    "duration": 1455,
    "start_time": "2023-10-25T19:19:25.484Z"
   },
   {
    "duration": 18,
    "start_time": "2023-10-25T19:19:26.941Z"
   },
   {
    "duration": 1141,
    "start_time": "2023-10-25T19:19:26.973Z"
   },
   {
    "duration": 7,
    "start_time": "2023-10-25T19:19:28.116Z"
   },
   {
    "duration": 150,
    "start_time": "2023-10-25T19:19:28.125Z"
   },
   {
    "duration": 9,
    "start_time": "2023-10-25T19:19:28.277Z"
   },
   {
    "duration": 16,
    "start_time": "2023-10-25T19:19:28.288Z"
   },
   {
    "duration": 46,
    "start_time": "2023-10-25T19:19:28.312Z"
   },
   {
    "duration": 9427,
    "start_time": "2023-10-25T19:19:28.360Z"
   },
   {
    "duration": 8924,
    "start_time": "2023-10-25T19:19:37.791Z"
   },
   {
    "duration": 10,
    "start_time": "2023-10-25T19:19:46.716Z"
   },
   {
    "duration": 26,
    "start_time": "2023-10-25T19:19:46.728Z"
   },
   {
    "duration": 37,
    "start_time": "2023-10-25T19:19:46.757Z"
   },
   {
    "duration": 6,
    "start_time": "2023-10-25T19:19:46.803Z"
   },
   {
    "duration": 17,
    "start_time": "2023-10-25T19:19:46.811Z"
   },
   {
    "duration": 29,
    "start_time": "2023-10-25T19:19:46.830Z"
   },
   {
    "duration": 190,
    "start_time": "2023-10-25T19:19:46.866Z"
   },
   {
    "duration": 0,
    "start_time": "2023-10-25T19:19:47.057Z"
   },
   {
    "duration": 0,
    "start_time": "2023-10-25T19:19:47.058Z"
   },
   {
    "duration": 0,
    "start_time": "2023-10-25T19:19:47.059Z"
   },
   {
    "duration": 0,
    "start_time": "2023-10-25T19:19:47.063Z"
   },
   {
    "duration": 0,
    "start_time": "2023-10-25T19:19:47.066Z"
   },
   {
    "duration": 0,
    "start_time": "2023-10-25T19:19:47.068Z"
   },
   {
    "duration": 0,
    "start_time": "2023-10-25T19:19:47.069Z"
   },
   {
    "duration": 0,
    "start_time": "2023-10-25T19:19:47.070Z"
   },
   {
    "duration": 0,
    "start_time": "2023-10-25T19:19:47.071Z"
   },
   {
    "duration": 0,
    "start_time": "2023-10-25T19:19:47.072Z"
   },
   {
    "duration": 0,
    "start_time": "2023-10-25T19:19:47.074Z"
   },
   {
    "duration": 0,
    "start_time": "2023-10-25T19:19:47.075Z"
   },
   {
    "duration": 0,
    "start_time": "2023-10-25T19:19:47.078Z"
   },
   {
    "duration": 0,
    "start_time": "2023-10-25T19:19:47.079Z"
   },
   {
    "duration": 0,
    "start_time": "2023-10-25T19:19:47.081Z"
   },
   {
    "duration": 0,
    "start_time": "2023-10-25T19:19:47.082Z"
   },
   {
    "duration": 0,
    "start_time": "2023-10-25T19:19:47.083Z"
   },
   {
    "duration": 0,
    "start_time": "2023-10-25T19:19:47.084Z"
   },
   {
    "duration": 0,
    "start_time": "2023-10-25T19:19:47.086Z"
   },
   {
    "duration": 32,
    "start_time": "2023-10-25T19:20:18.772Z"
   },
   {
    "duration": 4431,
    "start_time": "2023-10-25T19:21:23.381Z"
   },
   {
    "duration": 1397,
    "start_time": "2023-10-25T19:21:36.489Z"
   },
   {
    "duration": 10,
    "start_time": "2023-10-25T19:21:37.889Z"
   },
   {
    "duration": 336,
    "start_time": "2023-10-25T19:21:37.901Z"
   },
   {
    "duration": 4,
    "start_time": "2023-10-25T19:21:38.239Z"
   },
   {
    "duration": 176,
    "start_time": "2023-10-25T19:21:38.245Z"
   },
   {
    "duration": 7,
    "start_time": "2023-10-25T19:21:38.423Z"
   },
   {
    "duration": 37,
    "start_time": "2023-10-25T19:21:38.431Z"
   },
   {
    "duration": 63,
    "start_time": "2023-10-25T19:21:38.470Z"
   },
   {
    "duration": 9286,
    "start_time": "2023-10-25T19:21:38.534Z"
   },
   {
    "duration": 9087,
    "start_time": "2023-10-25T19:21:47.823Z"
   },
   {
    "duration": 10,
    "start_time": "2023-10-25T19:21:56.913Z"
   },
   {
    "duration": 171,
    "start_time": "2023-10-25T19:21:56.925Z"
   },
   {
    "duration": 47,
    "start_time": "2023-10-25T19:21:57.101Z"
   },
   {
    "duration": 20,
    "start_time": "2023-10-25T19:21:57.150Z"
   },
   {
    "duration": 5,
    "start_time": "2023-10-25T19:21:57.172Z"
   },
   {
    "duration": 10,
    "start_time": "2023-10-25T19:21:57.179Z"
   },
   {
    "duration": 4363,
    "start_time": "2023-10-25T19:21:57.191Z"
   },
   {
    "duration": 42,
    "start_time": "2023-10-25T19:22:01.559Z"
   },
   {
    "duration": 22,
    "start_time": "2023-10-25T19:22:01.603Z"
   },
   {
    "duration": 76,
    "start_time": "2023-10-25T19:22:01.627Z"
   },
   {
    "duration": 206,
    "start_time": "2023-10-25T19:22:01.705Z"
   },
   {
    "duration": 117,
    "start_time": "2023-10-25T19:22:01.913Z"
   },
   {
    "duration": 128,
    "start_time": "2023-10-25T19:22:02.032Z"
   },
   {
    "duration": 59,
    "start_time": "2023-10-25T19:22:02.162Z"
   },
   {
    "duration": 155,
    "start_time": "2023-10-25T19:22:02.223Z"
   },
   {
    "duration": 110,
    "start_time": "2023-10-25T19:22:02.380Z"
   },
   {
    "duration": 138,
    "start_time": "2023-10-25T19:22:02.494Z"
   },
   {
    "duration": 12,
    "start_time": "2023-10-25T19:22:02.637Z"
   },
   {
    "duration": 114,
    "start_time": "2023-10-25T19:22:02.650Z"
   },
   {
    "duration": 114,
    "start_time": "2023-10-25T19:22:02.766Z"
   },
   {
    "duration": 16,
    "start_time": "2023-10-25T19:22:02.882Z"
   },
   {
    "duration": 19,
    "start_time": "2023-10-25T19:22:02.903Z"
   },
   {
    "duration": 189,
    "start_time": "2023-10-25T19:22:02.924Z"
   },
   {
    "duration": 159,
    "start_time": "2023-10-25T19:22:03.115Z"
   },
   {
    "duration": 161,
    "start_time": "2023-10-25T19:22:03.277Z"
   },
   {
    "duration": 252,
    "start_time": "2023-10-25T19:22:03.440Z"
   },
   {
    "duration": 1273,
    "start_time": "2023-10-25T22:09:37.903Z"
   },
   {
    "duration": 3,
    "start_time": "2023-10-25T22:09:39.178Z"
   },
   {
    "duration": 270,
    "start_time": "2023-10-25T22:09:39.182Z"
   },
   {
    "duration": 3,
    "start_time": "2023-10-25T22:09:39.454Z"
   },
   {
    "duration": 155,
    "start_time": "2023-10-25T22:09:39.460Z"
   },
   {
    "duration": 7,
    "start_time": "2023-10-25T22:09:39.617Z"
   },
   {
    "duration": 24,
    "start_time": "2023-10-25T22:09:39.625Z"
   },
   {
    "duration": 47,
    "start_time": "2023-10-25T22:09:39.651Z"
   },
   {
    "duration": 5820,
    "start_time": "2023-10-25T22:09:39.700Z"
   },
   {
    "duration": 5697,
    "start_time": "2023-10-25T22:09:45.522Z"
   },
   {
    "duration": 9,
    "start_time": "2023-10-25T22:09:51.221Z"
   },
   {
    "duration": 23,
    "start_time": "2023-10-25T22:09:51.232Z"
   },
   {
    "duration": 17,
    "start_time": "2023-10-25T22:09:51.256Z"
   },
   {
    "duration": 35,
    "start_time": "2023-10-25T22:09:51.276Z"
   },
   {
    "duration": 30,
    "start_time": "2023-10-25T22:09:51.312Z"
   },
   {
    "duration": 17,
    "start_time": "2023-10-25T22:09:51.343Z"
   },
   {
    "duration": 3045,
    "start_time": "2023-10-25T22:09:51.362Z"
   },
   {
    "duration": 14,
    "start_time": "2023-10-25T22:09:54.409Z"
   },
   {
    "duration": 18,
    "start_time": "2023-10-25T22:09:54.425Z"
   },
   {
    "duration": 21,
    "start_time": "2023-10-25T22:09:54.444Z"
   },
   {
    "duration": 39,
    "start_time": "2023-10-25T22:09:54.466Z"
   },
   {
    "duration": 11,
    "start_time": "2023-10-25T22:09:54.507Z"
   },
   {
    "duration": 36,
    "start_time": "2023-10-25T22:09:54.519Z"
   },
   {
    "duration": 14,
    "start_time": "2023-10-25T22:09:54.557Z"
   },
   {
    "duration": 62,
    "start_time": "2023-10-25T22:09:54.573Z"
   },
   {
    "duration": 9,
    "start_time": "2023-10-25T22:09:54.637Z"
   },
   {
    "duration": 77,
    "start_time": "2023-10-25T22:09:54.648Z"
   },
   {
    "duration": 8,
    "start_time": "2023-10-25T22:09:54.727Z"
   },
   {
    "duration": 70,
    "start_time": "2023-10-25T22:09:54.736Z"
   },
   {
    "duration": 83,
    "start_time": "2023-10-25T22:09:54.808Z"
   },
   {
    "duration": 8,
    "start_time": "2023-10-25T22:09:54.893Z"
   },
   {
    "duration": 34,
    "start_time": "2023-10-25T22:09:54.902Z"
   },
   {
    "duration": 125,
    "start_time": "2023-10-25T22:09:54.937Z"
   },
   {
    "duration": 123,
    "start_time": "2023-10-25T22:09:55.064Z"
   },
   {
    "duration": 121,
    "start_time": "2023-10-25T22:09:55.189Z"
   },
   {
    "duration": 166,
    "start_time": "2023-10-25T22:09:55.312Z"
   },
   {
    "duration": 1255,
    "start_time": "2023-10-25T22:35:20.807Z"
   },
   {
    "duration": 3,
    "start_time": "2023-10-25T22:35:22.064Z"
   },
   {
    "duration": 271,
    "start_time": "2023-10-25T22:35:22.069Z"
   },
   {
    "duration": 5,
    "start_time": "2023-10-25T22:35:22.342Z"
   },
   {
    "duration": 190,
    "start_time": "2023-10-25T22:35:22.351Z"
   },
   {
    "duration": 7,
    "start_time": "2023-10-25T22:35:22.542Z"
   },
   {
    "duration": 32,
    "start_time": "2023-10-25T22:35:22.551Z"
   },
   {
    "duration": 51,
    "start_time": "2023-10-25T22:35:22.585Z"
   },
   {
    "duration": 5951,
    "start_time": "2023-10-25T22:35:22.638Z"
   },
   {
    "duration": 6245,
    "start_time": "2023-10-25T22:35:28.590Z"
   },
   {
    "duration": 14,
    "start_time": "2023-10-25T22:35:34.837Z"
   },
   {
    "duration": 29,
    "start_time": "2023-10-25T22:35:34.853Z"
   },
   {
    "duration": 63,
    "start_time": "2023-10-25T22:35:34.884Z"
   },
   {
    "duration": 57,
    "start_time": "2023-10-25T22:35:34.951Z"
   },
   {
    "duration": 18,
    "start_time": "2023-10-25T22:35:35.010Z"
   },
   {
    "duration": 17,
    "start_time": "2023-10-25T22:35:35.030Z"
   },
   {
    "duration": 3083,
    "start_time": "2023-10-25T22:35:35.049Z"
   },
   {
    "duration": 15,
    "start_time": "2023-10-25T22:35:38.134Z"
   },
   {
    "duration": 22,
    "start_time": "2023-10-25T22:35:38.151Z"
   },
   {
    "duration": 10,
    "start_time": "2023-10-25T22:35:38.175Z"
   },
   {
    "duration": 47,
    "start_time": "2023-10-25T22:35:38.186Z"
   },
   {
    "duration": 11,
    "start_time": "2023-10-25T22:35:38.235Z"
   },
   {
    "duration": 40,
    "start_time": "2023-10-25T22:35:38.248Z"
   },
   {
    "duration": 9,
    "start_time": "2023-10-25T22:35:38.290Z"
   },
   {
    "duration": 88,
    "start_time": "2023-10-25T22:35:38.300Z"
   },
   {
    "duration": 9,
    "start_time": "2023-10-25T22:35:38.390Z"
   },
   {
    "duration": 88,
    "start_time": "2023-10-25T22:35:38.400Z"
   },
   {
    "duration": 9,
    "start_time": "2023-10-25T22:35:38.490Z"
   },
   {
    "duration": 75,
    "start_time": "2023-10-25T22:35:38.502Z"
   },
   {
    "duration": 72,
    "start_time": "2023-10-25T22:35:38.578Z"
   },
   {
    "duration": 20,
    "start_time": "2023-10-25T22:35:38.651Z"
   },
   {
    "duration": 18,
    "start_time": "2023-10-25T22:35:38.673Z"
   },
   {
    "duration": 149,
    "start_time": "2023-10-25T22:35:38.693Z"
   },
   {
    "duration": 153,
    "start_time": "2023-10-25T22:35:38.844Z"
   },
   {
    "duration": 127,
    "start_time": "2023-10-25T22:35:38.999Z"
   },
   {
    "duration": 194,
    "start_time": "2023-10-25T22:35:39.128Z"
   },
   {
    "duration": 135,
    "start_time": "2023-10-26T06:25:55.688Z"
   },
   {
    "duration": 61,
    "start_time": "2023-10-26T06:58:52.381Z"
   },
   {
    "duration": 1301,
    "start_time": "2023-10-26T06:58:59.595Z"
   },
   {
    "duration": 3,
    "start_time": "2023-10-26T06:59:00.897Z"
   },
   {
    "duration": 508,
    "start_time": "2023-10-26T06:59:01.243Z"
   },
   {
    "duration": 4,
    "start_time": "2023-10-26T06:59:03.035Z"
   },
   {
    "duration": 87,
    "start_time": "2023-10-26T06:59:06.832Z"
   },
   {
    "duration": 6,
    "start_time": "2023-10-26T06:59:07.677Z"
   },
   {
    "duration": 11,
    "start_time": "2023-10-26T06:59:09.222Z"
   },
   {
    "duration": 19,
    "start_time": "2023-10-26T06:59:09.391Z"
   },
   {
    "duration": 5907,
    "start_time": "2023-10-26T06:59:09.540Z"
   },
   {
    "duration": 5915,
    "start_time": "2023-10-26T06:59:15.448Z"
   },
   {
    "duration": 7,
    "start_time": "2023-10-26T06:59:21.365Z"
   },
   {
    "duration": 39,
    "start_time": "2023-10-26T06:59:21.374Z"
   },
   {
    "duration": 7,
    "start_time": "2023-10-26T06:59:24.811Z"
   },
   {
    "duration": 76,
    "start_time": "2023-10-26T07:00:53.379Z"
   },
   {
    "duration": 80,
    "start_time": "2023-10-26T07:02:40.328Z"
   },
   {
    "duration": 79,
    "start_time": "2023-10-26T07:05:29.638Z"
   },
   {
    "duration": 6,
    "start_time": "2023-10-26T07:19:08.796Z"
   },
   {
    "duration": 3,
    "start_time": "2023-10-26T07:19:09.245Z"
   },
   {
    "duration": 7,
    "start_time": "2023-10-26T07:30:00.349Z"
   },
   {
    "duration": 6,
    "start_time": "2023-10-26T07:30:20.408Z"
   },
   {
    "duration": 3,
    "start_time": "2023-10-26T07:31:00.470Z"
   },
   {
    "duration": 6,
    "start_time": "2023-10-26T07:32:08.222Z"
   },
   {
    "duration": 3,
    "start_time": "2023-10-26T07:32:45.392Z"
   },
   {
    "duration": 3,
    "start_time": "2023-10-26T07:33:02.080Z"
   },
   {
    "duration": 2,
    "start_time": "2023-10-26T07:33:02.845Z"
   },
   {
    "duration": 187,
    "start_time": "2023-10-26T07:33:03.158Z"
   },
   {
    "duration": 2,
    "start_time": "2023-10-26T07:33:03.439Z"
   },
   {
    "duration": 71,
    "start_time": "2023-10-26T07:33:04.408Z"
   },
   {
    "duration": 4,
    "start_time": "2023-10-26T07:33:04.793Z"
   },
   {
    "duration": 6,
    "start_time": "2023-10-26T07:33:05.596Z"
   },
   {
    "duration": 16,
    "start_time": "2023-10-26T07:33:05.953Z"
   },
   {
    "duration": 5753,
    "start_time": "2023-10-26T07:33:06.335Z"
   },
   {
    "duration": 5837,
    "start_time": "2023-10-26T07:33:12.090Z"
   },
   {
    "duration": 7,
    "start_time": "2023-10-26T07:33:17.928Z"
   },
   {
    "duration": 2,
    "start_time": "2023-10-26T07:40:31.440Z"
   },
   {
    "duration": 3,
    "start_time": "2023-10-26T07:42:24.891Z"
   },
   {
    "duration": 2,
    "start_time": "2023-10-26T07:42:52.149Z"
   },
   {
    "duration": 4,
    "start_time": "2023-10-26T07:42:52.477Z"
   },
   {
    "duration": 186,
    "start_time": "2023-10-26T07:42:52.606Z"
   },
   {
    "duration": 3,
    "start_time": "2023-10-26T07:42:52.794Z"
   },
   {
    "duration": 76,
    "start_time": "2023-10-26T07:42:53.292Z"
   },
   {
    "duration": 5,
    "start_time": "2023-10-26T07:42:53.412Z"
   },
   {
    "duration": 6,
    "start_time": "2023-10-26T07:42:54.008Z"
   },
   {
    "duration": 16,
    "start_time": "2023-10-26T07:42:54.413Z"
   },
   {
    "duration": 5990,
    "start_time": "2023-10-26T07:42:54.692Z"
   },
   {
    "duration": 5956,
    "start_time": "2023-10-26T07:43:00.684Z"
   },
   {
    "duration": 8,
    "start_time": "2023-10-26T07:43:06.641Z"
   },
   {
    "duration": 47,
    "start_time": "2023-10-26T07:43:06.650Z"
   },
   {
    "duration": 6,
    "start_time": "2023-10-26T07:43:06.698Z"
   },
   {
    "duration": 9,
    "start_time": "2023-10-26T07:43:06.705Z"
   },
   {
    "duration": 7,
    "start_time": "2023-10-26T07:43:15.677Z"
   },
   {
    "duration": 4,
    "start_time": "2023-10-26T07:43:16.465Z"
   },
   {
    "duration": 4,
    "start_time": "2023-10-26T07:43:17.202Z"
   },
   {
    "duration": 3,
    "start_time": "2023-10-26T07:43:18.582Z"
   },
   {
    "duration": 2551,
    "start_time": "2023-10-26T07:43:19.132Z"
   },
   {
    "duration": 11,
    "start_time": "2023-10-26T07:43:22.795Z"
   },
   {
    "duration": 7,
    "start_time": "2023-10-26T07:43:40.267Z"
   },
   {
    "duration": 3,
    "start_time": "2023-10-26T07:43:42.085Z"
   },
   {
    "duration": 4,
    "start_time": "2023-10-26T07:43:43.749Z"
   },
   {
    "duration": 3,
    "start_time": "2023-10-26T07:43:51.468Z"
   },
   {
    "duration": 3,
    "start_time": "2023-10-26T07:44:03.353Z"
   },
   {
    "duration": 4,
    "start_time": "2023-10-26T07:44:37.637Z"
   },
   {
    "duration": 59,
    "start_time": "2023-10-26T07:44:52.670Z"
   },
   {
    "duration": 4,
    "start_time": "2023-10-26T07:45:15.741Z"
   },
   {
    "duration": 8,
    "start_time": "2023-10-26T07:45:22.642Z"
   },
   {
    "duration": 8,
    "start_time": "2023-10-26T07:45:25.944Z"
   },
   {
    "duration": 86,
    "start_time": "2023-10-26T07:45:31.343Z"
   },
   {
    "duration": 3,
    "start_time": "2023-10-26T07:45:34.342Z"
   },
   {
    "duration": 3,
    "start_time": "2023-10-26T07:45:51.837Z"
   },
   {
    "duration": 7,
    "start_time": "2023-10-26T07:50:48.769Z"
   },
   {
    "duration": 3,
    "start_time": "2023-10-26T07:51:09.115Z"
   },
   {
    "duration": 4,
    "start_time": "2023-10-26T07:51:45.879Z"
   },
   {
    "duration": 3,
    "start_time": "2023-10-26T07:51:46.568Z"
   },
   {
    "duration": 87,
    "start_time": "2023-10-26T07:52:03.090Z"
   },
   {
    "duration": 84,
    "start_time": "2023-10-26T08:02:34.117Z"
   },
   {
    "duration": 75,
    "start_time": "2023-10-26T08:31:57.278Z"
   },
   {
    "duration": 126,
    "start_time": "2023-10-26T08:40:09.513Z"
   },
   {
    "duration": 1085,
    "start_time": "2023-10-26T08:54:26.347Z"
   },
   {
    "duration": 5,
    "start_time": "2023-10-26T08:54:27.434Z"
   },
   {
    "duration": 187,
    "start_time": "2023-10-26T08:54:27.441Z"
   },
   {
    "duration": 4,
    "start_time": "2023-10-26T08:54:27.630Z"
   },
   {
    "duration": 94,
    "start_time": "2023-10-26T08:54:27.640Z"
   },
   {
    "duration": 6,
    "start_time": "2023-10-26T08:54:27.736Z"
   },
   {
    "duration": 12,
    "start_time": "2023-10-26T08:54:27.743Z"
   },
   {
    "duration": 18,
    "start_time": "2023-10-26T08:54:27.756Z"
   },
   {
    "duration": 6094,
    "start_time": "2023-10-26T08:54:27.776Z"
   },
   {
    "duration": 5994,
    "start_time": "2023-10-26T08:54:33.873Z"
   },
   {
    "duration": 7,
    "start_time": "2023-10-26T08:54:39.869Z"
   },
   {
    "duration": 44,
    "start_time": "2023-10-26T08:54:39.877Z"
   },
   {
    "duration": 17,
    "start_time": "2023-10-26T08:54:39.922Z"
   },
   {
    "duration": 3,
    "start_time": "2023-10-26T08:54:39.941Z"
   },
   {
    "duration": 10,
    "start_time": "2023-10-26T08:54:39.945Z"
   },
   {
    "duration": 4,
    "start_time": "2023-10-26T08:54:39.957Z"
   },
   {
    "duration": 4,
    "start_time": "2023-10-26T08:54:39.963Z"
   },
   {
    "duration": 3,
    "start_time": "2023-10-26T08:54:39.968Z"
   },
   {
    "duration": 2757,
    "start_time": "2023-10-26T08:54:39.972Z"
   },
   {
    "duration": 12,
    "start_time": "2023-10-26T08:54:42.731Z"
   },
   {
    "duration": 7,
    "start_time": "2023-10-26T08:54:42.745Z"
   },
   {
    "duration": 6,
    "start_time": "2023-10-26T08:54:42.754Z"
   },
   {
    "duration": 16,
    "start_time": "2023-10-26T08:54:42.761Z"
   },
   {
    "duration": 18,
    "start_time": "2023-10-26T08:54:42.779Z"
   },
   {
    "duration": 42,
    "start_time": "2023-10-26T08:54:42.798Z"
   },
   {
    "duration": 10,
    "start_time": "2023-10-26T08:54:42.842Z"
   },
   {
    "duration": 24,
    "start_time": "2023-10-26T08:54:42.854Z"
   },
   {
    "duration": 5,
    "start_time": "2023-10-26T08:54:42.882Z"
   },
   {
    "duration": 81,
    "start_time": "2023-10-26T08:54:42.889Z"
   },
   {
    "duration": 7,
    "start_time": "2023-10-26T08:54:42.971Z"
   },
   {
    "duration": 65,
    "start_time": "2023-10-26T08:54:42.979Z"
   },
   {
    "duration": 6,
    "start_time": "2023-10-26T08:54:43.046Z"
   },
   {
    "duration": 56,
    "start_time": "2023-10-26T08:54:43.053Z"
   },
   {
    "duration": 64,
    "start_time": "2023-10-26T08:54:43.111Z"
   },
   {
    "duration": 6,
    "start_time": "2023-10-26T08:54:43.176Z"
   },
   {
    "duration": 20,
    "start_time": "2023-10-26T08:54:43.184Z"
   },
   {
    "duration": 105,
    "start_time": "2023-10-26T08:54:43.205Z"
   },
   {
    "duration": 110,
    "start_time": "2023-10-26T08:54:43.312Z"
   },
   {
    "duration": 107,
    "start_time": "2023-10-26T08:54:43.423Z"
   },
   {
    "duration": 160,
    "start_time": "2023-10-26T08:54:43.539Z"
   },
   {
    "duration": 1648,
    "start_time": "2023-10-26T18:48:55.402Z"
   },
   {
    "duration": 3,
    "start_time": "2023-10-26T18:48:57.052Z"
   },
   {
    "duration": 640,
    "start_time": "2023-10-26T18:48:57.056Z"
   },
   {
    "duration": 4,
    "start_time": "2023-10-26T18:48:57.698Z"
   },
   {
    "duration": 128,
    "start_time": "2023-10-26T18:48:57.704Z"
   },
   {
    "duration": 17,
    "start_time": "2023-10-26T18:48:57.835Z"
   },
   {
    "duration": 14,
    "start_time": "2023-10-26T18:48:57.853Z"
   },
   {
    "duration": 30,
    "start_time": "2023-10-26T18:48:57.869Z"
   },
   {
    "duration": 6181,
    "start_time": "2023-10-26T18:48:57.900Z"
   },
   {
    "duration": 6430,
    "start_time": "2023-10-26T18:49:04.085Z"
   },
   {
    "duration": 10,
    "start_time": "2023-10-26T18:49:10.517Z"
   },
   {
    "duration": 43,
    "start_time": "2023-10-26T18:49:10.544Z"
   },
   {
    "duration": 7,
    "start_time": "2023-10-26T18:49:10.588Z"
   },
   {
    "duration": 6,
    "start_time": "2023-10-26T18:49:10.597Z"
   },
   {
    "duration": 41,
    "start_time": "2023-10-26T18:49:10.605Z"
   },
   {
    "duration": 6,
    "start_time": "2023-10-26T18:49:10.648Z"
   },
   {
    "duration": 5,
    "start_time": "2023-10-26T18:49:10.656Z"
   },
   {
    "duration": 3,
    "start_time": "2023-10-26T18:49:10.663Z"
   },
   {
    "duration": 3038,
    "start_time": "2023-10-26T18:49:10.668Z"
   },
   {
    "duration": 12,
    "start_time": "2023-10-26T18:49:13.708Z"
   },
   {
    "duration": 26,
    "start_time": "2023-10-26T18:49:13.722Z"
   },
   {
    "duration": 4,
    "start_time": "2023-10-26T18:49:13.749Z"
   },
   {
    "duration": 5,
    "start_time": "2023-10-26T18:49:13.756Z"
   },
   {
    "duration": 5,
    "start_time": "2023-10-26T18:49:13.763Z"
   },
   {
    "duration": 45,
    "start_time": "2023-10-26T18:49:13.770Z"
   },
   {
    "duration": 36,
    "start_time": "2023-10-26T18:49:13.817Z"
   },
   {
    "duration": 24,
    "start_time": "2023-10-26T18:49:13.855Z"
   },
   {
    "duration": 7,
    "start_time": "2023-10-26T18:49:13.884Z"
   },
   {
    "duration": 93,
    "start_time": "2023-10-26T18:49:13.893Z"
   },
   {
    "duration": 9,
    "start_time": "2023-10-26T18:49:13.988Z"
   },
   {
    "duration": 79,
    "start_time": "2023-10-26T18:49:13.998Z"
   },
   {
    "duration": 9,
    "start_time": "2023-10-26T18:49:14.079Z"
   },
   {
    "duration": 73,
    "start_time": "2023-10-26T18:49:14.089Z"
   },
   {
    "duration": 83,
    "start_time": "2023-10-26T18:49:14.164Z"
   },
   {
    "duration": 7,
    "start_time": "2023-10-26T18:49:14.249Z"
   },
   {
    "duration": 7,
    "start_time": "2023-10-26T18:49:14.258Z"
   },
   {
    "duration": 134,
    "start_time": "2023-10-26T18:49:14.267Z"
   },
   {
    "duration": 125,
    "start_time": "2023-10-26T18:49:14.402Z"
   },
   {
    "duration": 130,
    "start_time": "2023-10-26T18:49:14.529Z"
   },
   {
    "duration": 166,
    "start_time": "2023-10-26T18:49:14.661Z"
   },
   {
    "duration": 1464,
    "start_time": "2023-10-26T18:58:58.467Z"
   },
   {
    "duration": 3,
    "start_time": "2023-10-26T18:58:59.933Z"
   },
   {
    "duration": 410,
    "start_time": "2023-10-26T18:58:59.945Z"
   },
   {
    "duration": 4,
    "start_time": "2023-10-26T18:59:00.357Z"
   },
   {
    "duration": 146,
    "start_time": "2023-10-26T18:59:00.363Z"
   },
   {
    "duration": 6,
    "start_time": "2023-10-26T18:59:00.511Z"
   },
   {
    "duration": 34,
    "start_time": "2023-10-26T18:59:00.519Z"
   },
   {
    "duration": 46,
    "start_time": "2023-10-26T18:59:00.555Z"
   },
   {
    "duration": 6396,
    "start_time": "2023-10-26T18:59:00.602Z"
   },
   {
    "duration": 6476,
    "start_time": "2023-10-26T18:59:06.999Z"
   },
   {
    "duration": 10,
    "start_time": "2023-10-26T18:59:13.477Z"
   },
   {
    "duration": 102,
    "start_time": "2023-10-26T18:59:13.489Z"
   },
   {
    "duration": 11,
    "start_time": "2023-10-26T18:59:13.593Z"
   },
   {
    "duration": 40,
    "start_time": "2023-10-26T18:59:13.607Z"
   },
   {
    "duration": 40,
    "start_time": "2023-10-26T18:59:13.648Z"
   },
   {
    "duration": 20,
    "start_time": "2023-10-26T18:59:13.689Z"
   },
   {
    "duration": 33,
    "start_time": "2023-10-26T18:59:13.710Z"
   },
   {
    "duration": 26,
    "start_time": "2023-10-26T18:59:13.746Z"
   },
   {
    "duration": 3097,
    "start_time": "2023-10-26T18:59:13.774Z"
   },
   {
    "duration": 13,
    "start_time": "2023-10-26T18:59:16.873Z"
   },
   {
    "duration": 31,
    "start_time": "2023-10-26T18:59:16.888Z"
   },
   {
    "duration": 14,
    "start_time": "2023-10-26T18:59:16.921Z"
   },
   {
    "duration": 9,
    "start_time": "2023-10-26T18:59:16.937Z"
   },
   {
    "duration": 5,
    "start_time": "2023-10-26T18:59:16.948Z"
   },
   {
    "duration": 59,
    "start_time": "2023-10-26T18:59:16.955Z"
   },
   {
    "duration": 10,
    "start_time": "2023-10-26T18:59:17.016Z"
   },
   {
    "duration": 25,
    "start_time": "2023-10-26T18:59:17.044Z"
   },
   {
    "duration": 8,
    "start_time": "2023-10-26T18:59:17.071Z"
   },
   {
    "duration": 80,
    "start_time": "2023-10-26T18:59:17.081Z"
   },
   {
    "duration": 9,
    "start_time": "2023-10-26T18:59:17.163Z"
   },
   {
    "duration": 96,
    "start_time": "2023-10-26T18:59:17.175Z"
   },
   {
    "duration": 9,
    "start_time": "2023-10-26T18:59:17.273Z"
   },
   {
    "duration": 95,
    "start_time": "2023-10-26T18:59:17.284Z"
   },
   {
    "duration": 79,
    "start_time": "2023-10-26T18:59:17.381Z"
   },
   {
    "duration": 8,
    "start_time": "2023-10-26T18:59:17.462Z"
   },
   {
    "duration": 23,
    "start_time": "2023-10-26T18:59:17.472Z"
   },
   {
    "duration": 156,
    "start_time": "2023-10-26T18:59:17.497Z"
   },
   {
    "duration": 130,
    "start_time": "2023-10-26T18:59:17.655Z"
   },
   {
    "duration": 135,
    "start_time": "2023-10-26T18:59:17.787Z"
   },
   {
    "duration": 194,
    "start_time": "2023-10-26T18:59:17.924Z"
   },
   {
    "duration": 1314,
    "start_time": "2023-10-26T18:59:45.410Z"
   },
   {
    "duration": 3,
    "start_time": "2023-10-26T18:59:46.727Z"
   },
   {
    "duration": 385,
    "start_time": "2023-10-26T18:59:46.731Z"
   },
   {
    "duration": 4,
    "start_time": "2023-10-26T18:59:47.118Z"
   },
   {
    "duration": 134,
    "start_time": "2023-10-26T18:59:47.124Z"
   },
   {
    "duration": 6,
    "start_time": "2023-10-26T18:59:47.260Z"
   },
   {
    "duration": 12,
    "start_time": "2023-10-26T18:59:47.268Z"
   },
   {
    "duration": 31,
    "start_time": "2023-10-26T18:59:47.281Z"
   },
   {
    "duration": 6585,
    "start_time": "2023-10-26T18:59:47.314Z"
   },
   {
    "duration": 6612,
    "start_time": "2023-10-26T18:59:53.903Z"
   },
   {
    "duration": 12,
    "start_time": "2023-10-26T19:00:00.517Z"
   },
   {
    "duration": 90,
    "start_time": "2023-10-26T19:00:00.532Z"
   },
   {
    "duration": 8,
    "start_time": "2023-10-26T19:00:00.624Z"
   },
   {
    "duration": 31,
    "start_time": "2023-10-26T19:00:00.634Z"
   },
   {
    "duration": 63,
    "start_time": "2023-10-26T19:00:00.667Z"
   },
   {
    "duration": 21,
    "start_time": "2023-10-26T19:00:00.732Z"
   },
   {
    "duration": 23,
    "start_time": "2023-10-26T19:00:00.756Z"
   },
   {
    "duration": 72,
    "start_time": "2023-10-26T19:00:00.782Z"
   },
   {
    "duration": 3309,
    "start_time": "2023-10-26T19:00:00.857Z"
   },
   {
    "duration": 14,
    "start_time": "2023-10-26T19:00:04.167Z"
   },
   {
    "duration": 30,
    "start_time": "2023-10-26T19:00:04.182Z"
   },
   {
    "duration": 10,
    "start_time": "2023-10-26T19:00:04.214Z"
   },
   {
    "duration": 17,
    "start_time": "2023-10-26T19:00:04.225Z"
   },
   {
    "duration": 31,
    "start_time": "2023-10-26T19:00:04.244Z"
   },
   {
    "duration": 42,
    "start_time": "2023-10-26T19:00:04.277Z"
   },
   {
    "duration": 11,
    "start_time": "2023-10-26T19:00:04.320Z"
   },
   {
    "duration": 32,
    "start_time": "2023-10-26T19:00:04.333Z"
   },
   {
    "duration": 9,
    "start_time": "2023-10-26T19:00:04.368Z"
   },
   {
    "duration": 77,
    "start_time": "2023-10-26T19:00:04.378Z"
   },
   {
    "duration": 8,
    "start_time": "2023-10-26T19:00:04.457Z"
   },
   {
    "duration": 116,
    "start_time": "2023-10-26T19:00:04.467Z"
   },
   {
    "duration": 9,
    "start_time": "2023-10-26T19:00:04.585Z"
   },
   {
    "duration": 110,
    "start_time": "2023-10-26T19:00:04.596Z"
   },
   {
    "duration": 85,
    "start_time": "2023-10-26T19:00:04.707Z"
   },
   {
    "duration": 7,
    "start_time": "2023-10-26T19:00:04.794Z"
   },
   {
    "duration": 43,
    "start_time": "2023-10-26T19:00:04.803Z"
   },
   {
    "duration": 269,
    "start_time": "2023-10-26T19:00:04.848Z"
   },
   {
    "duration": 117,
    "start_time": "2023-10-26T19:00:05.119Z"
   },
   {
    "duration": 131,
    "start_time": "2023-10-26T19:00:05.237Z"
   },
   {
    "duration": 177,
    "start_time": "2023-10-26T19:00:05.370Z"
   },
   {
    "duration": 79,
    "start_time": "2023-10-26T19:28:54.834Z"
   },
   {
    "duration": 1311,
    "start_time": "2023-10-26T19:29:18.350Z"
   },
   {
    "duration": 3,
    "start_time": "2023-10-26T19:29:19.663Z"
   },
   {
    "duration": 680,
    "start_time": "2023-10-26T19:29:19.668Z"
   },
   {
    "duration": 3,
    "start_time": "2023-10-26T19:29:20.350Z"
   },
   {
    "duration": 108,
    "start_time": "2023-10-26T19:29:20.355Z"
   },
   {
    "duration": 6,
    "start_time": "2023-10-26T19:29:20.465Z"
   },
   {
    "duration": 35,
    "start_time": "2023-10-26T19:29:20.472Z"
   },
   {
    "duration": 27,
    "start_time": "2023-10-26T19:29:20.509Z"
   },
   {
    "duration": 5985,
    "start_time": "2023-10-26T19:29:20.538Z"
   },
   {
    "duration": 5919,
    "start_time": "2023-10-26T19:29:26.525Z"
   },
   {
    "duration": 8,
    "start_time": "2023-10-26T19:29:32.446Z"
   },
   {
    "duration": 59,
    "start_time": "2023-10-26T19:29:32.455Z"
   },
   {
    "duration": 6,
    "start_time": "2023-10-26T19:29:32.516Z"
   },
   {
    "duration": 33,
    "start_time": "2023-10-26T19:29:32.523Z"
   },
   {
    "duration": 36,
    "start_time": "2023-10-26T19:29:32.558Z"
   },
   {
    "duration": 25,
    "start_time": "2023-10-26T19:29:32.595Z"
   },
   {
    "duration": 28,
    "start_time": "2023-10-26T19:29:32.621Z"
   },
   {
    "duration": 34,
    "start_time": "2023-10-26T19:29:32.651Z"
   },
   {
    "duration": 2883,
    "start_time": "2023-10-26T19:29:32.686Z"
   },
   {
    "duration": 12,
    "start_time": "2023-10-26T19:29:35.571Z"
   },
   {
    "duration": 20,
    "start_time": "2023-10-26T19:29:35.584Z"
   },
   {
    "duration": 45,
    "start_time": "2023-10-26T19:29:35.605Z"
   },
   {
    "duration": 96,
    "start_time": "2023-10-26T19:29:35.652Z"
   },
   {
    "duration": 74,
    "start_time": "2023-10-26T19:29:35.750Z"
   },
   {
    "duration": 67,
    "start_time": "2023-10-26T19:29:35.826Z"
   },
   {
    "duration": 10,
    "start_time": "2023-10-26T19:29:35.895Z"
   },
   {
    "duration": 60,
    "start_time": "2023-10-26T19:29:35.906Z"
   },
   {
    "duration": 23,
    "start_time": "2023-10-26T19:29:35.969Z"
   },
   {
    "duration": 75,
    "start_time": "2023-10-26T19:29:35.993Z"
   },
   {
    "duration": 7,
    "start_time": "2023-10-26T19:29:36.070Z"
   },
   {
    "duration": 85,
    "start_time": "2023-10-26T19:29:36.079Z"
   },
   {
    "duration": 7,
    "start_time": "2023-10-26T19:29:36.166Z"
   },
   {
    "duration": 68,
    "start_time": "2023-10-26T19:29:36.175Z"
   },
   {
    "duration": 64,
    "start_time": "2023-10-26T19:29:36.245Z"
   },
   {
    "duration": 7,
    "start_time": "2023-10-26T19:29:36.311Z"
   },
   {
    "duration": 24,
    "start_time": "2023-10-26T19:29:36.320Z"
   },
   {
    "duration": 113,
    "start_time": "2023-10-26T19:29:36.346Z"
   },
   {
    "duration": 110,
    "start_time": "2023-10-26T19:29:36.460Z"
   },
   {
    "duration": 108,
    "start_time": "2023-10-26T19:29:36.571Z"
   },
   {
    "duration": 144,
    "start_time": "2023-10-26T19:29:36.681Z"
   },
   {
    "duration": 1418,
    "start_time": "2023-10-27T13:16:15.493Z"
   },
   {
    "duration": 3,
    "start_time": "2023-10-27T13:16:16.913Z"
   },
   {
    "duration": 496,
    "start_time": "2023-10-27T13:16:16.918Z"
   },
   {
    "duration": 4,
    "start_time": "2023-10-27T13:16:17.416Z"
   },
   {
    "duration": 123,
    "start_time": "2023-10-27T13:16:17.421Z"
   },
   {
    "duration": 7,
    "start_time": "2023-10-27T13:16:17.546Z"
   },
   {
    "duration": 17,
    "start_time": "2023-10-27T13:16:17.554Z"
   },
   {
    "duration": 31,
    "start_time": "2023-10-27T13:16:17.573Z"
   },
   {
    "duration": 6197,
    "start_time": "2023-10-27T13:16:17.605Z"
   },
   {
    "duration": 6363,
    "start_time": "2023-10-27T13:16:23.804Z"
   },
   {
    "duration": 9,
    "start_time": "2023-10-27T13:16:30.169Z"
   },
   {
    "duration": 86,
    "start_time": "2023-10-27T13:16:30.180Z"
   },
   {
    "duration": 15,
    "start_time": "2023-10-27T13:16:30.267Z"
   },
   {
    "duration": 28,
    "start_time": "2023-10-27T13:16:30.283Z"
   },
   {
    "duration": 46,
    "start_time": "2023-10-27T13:16:30.312Z"
   },
   {
    "duration": 30,
    "start_time": "2023-10-27T13:16:30.360Z"
   },
   {
    "duration": 35,
    "start_time": "2023-10-27T13:16:30.392Z"
   },
   {
    "duration": 33,
    "start_time": "2023-10-27T13:16:30.429Z"
   },
   {
    "duration": 2796,
    "start_time": "2023-10-27T13:16:30.464Z"
   },
   {
    "duration": 12,
    "start_time": "2023-10-27T13:16:33.261Z"
   },
   {
    "duration": 126,
    "start_time": "2023-10-27T13:16:33.275Z"
   },
   {
    "duration": 108,
    "start_time": "2023-10-27T13:16:33.402Z"
   },
   {
    "duration": 29,
    "start_time": "2023-10-27T13:16:33.512Z"
   },
   {
    "duration": 10,
    "start_time": "2023-10-27T13:16:33.543Z"
   },
   {
    "duration": 41,
    "start_time": "2023-10-27T13:16:33.555Z"
   },
   {
    "duration": 11,
    "start_time": "2023-10-27T13:16:33.598Z"
   },
   {
    "duration": 33,
    "start_time": "2023-10-27T13:16:33.611Z"
   },
   {
    "duration": 6,
    "start_time": "2023-10-27T13:16:33.648Z"
   },
   {
    "duration": 58,
    "start_time": "2023-10-27T13:16:33.656Z"
   },
   {
    "duration": 7,
    "start_time": "2023-10-27T13:16:33.715Z"
   },
   {
    "duration": 74,
    "start_time": "2023-10-27T13:16:33.723Z"
   },
   {
    "duration": 7,
    "start_time": "2023-10-27T13:16:33.799Z"
   },
   {
    "duration": 63,
    "start_time": "2023-10-27T13:16:33.807Z"
   },
   {
    "duration": 78,
    "start_time": "2023-10-27T13:16:33.871Z"
   },
   {
    "duration": 10,
    "start_time": "2023-10-27T13:16:33.951Z"
   },
   {
    "duration": 7,
    "start_time": "2023-10-27T13:16:33.962Z"
   },
   {
    "duration": 114,
    "start_time": "2023-10-27T13:16:33.970Z"
   },
   {
    "duration": 111,
    "start_time": "2023-10-27T13:16:34.085Z"
   },
   {
    "duration": 103,
    "start_time": "2023-10-27T13:16:34.197Z"
   },
   {
    "duration": 147,
    "start_time": "2023-10-27T13:16:34.301Z"
   },
   {
    "duration": 1424,
    "start_time": "2023-10-27T13:17:58.782Z"
   },
   {
    "duration": 3,
    "start_time": "2023-10-27T13:18:00.208Z"
   },
   {
    "duration": 426,
    "start_time": "2023-10-27T13:18:00.212Z"
   },
   {
    "duration": 5,
    "start_time": "2023-10-27T13:18:00.640Z"
   },
   {
    "duration": 176,
    "start_time": "2023-10-27T13:18:00.648Z"
   },
   {
    "duration": 20,
    "start_time": "2023-10-27T13:18:00.826Z"
   },
   {
    "duration": 83,
    "start_time": "2023-10-27T13:18:00.847Z"
   },
   {
    "duration": 230,
    "start_time": "2023-10-27T13:18:00.932Z"
   },
   {
    "duration": 6001,
    "start_time": "2023-10-27T13:18:01.164Z"
   },
   {
    "duration": 5965,
    "start_time": "2023-10-27T13:18:07.168Z"
   },
   {
    "duration": 16,
    "start_time": "2023-10-27T13:18:13.135Z"
   },
   {
    "duration": 45,
    "start_time": "2023-10-27T13:18:13.153Z"
   },
   {
    "duration": 8,
    "start_time": "2023-10-27T13:18:13.200Z"
   },
   {
    "duration": 4,
    "start_time": "2023-10-27T13:18:13.211Z"
   },
   {
    "duration": 30,
    "start_time": "2023-10-27T13:18:13.216Z"
   },
   {
    "duration": 15,
    "start_time": "2023-10-27T13:18:13.247Z"
   },
   {
    "duration": 9,
    "start_time": "2023-10-27T13:18:13.263Z"
   },
   {
    "duration": 6,
    "start_time": "2023-10-27T13:18:13.274Z"
   },
   {
    "duration": 2777,
    "start_time": "2023-10-27T13:18:13.282Z"
   },
   {
    "duration": 13,
    "start_time": "2023-10-27T13:18:16.060Z"
   },
   {
    "duration": 28,
    "start_time": "2023-10-27T13:18:16.075Z"
   },
   {
    "duration": 24,
    "start_time": "2023-10-27T13:18:16.105Z"
   },
   {
    "duration": 37,
    "start_time": "2023-10-27T13:18:16.131Z"
   },
   {
    "duration": 5,
    "start_time": "2023-10-27T13:18:16.170Z"
   },
   {
    "duration": 53,
    "start_time": "2023-10-27T13:18:16.176Z"
   },
   {
    "duration": 9,
    "start_time": "2023-10-27T13:18:16.231Z"
   },
   {
    "duration": 22,
    "start_time": "2023-10-27T13:18:16.242Z"
   },
   {
    "duration": 22,
    "start_time": "2023-10-27T13:18:16.266Z"
   },
   {
    "duration": 86,
    "start_time": "2023-10-27T13:18:16.289Z"
   },
   {
    "duration": 8,
    "start_time": "2023-10-27T13:18:16.377Z"
   },
   {
    "duration": 90,
    "start_time": "2023-10-27T13:18:16.387Z"
   },
   {
    "duration": 6,
    "start_time": "2023-10-27T13:18:16.479Z"
   },
   {
    "duration": 67,
    "start_time": "2023-10-27T13:18:16.486Z"
   },
   {
    "duration": 69,
    "start_time": "2023-10-27T13:18:16.555Z"
   },
   {
    "duration": 19,
    "start_time": "2023-10-27T13:18:16.626Z"
   },
   {
    "duration": 18,
    "start_time": "2023-10-27T13:18:16.647Z"
   },
   {
    "duration": 167,
    "start_time": "2023-10-27T13:18:16.667Z"
   },
   {
    "duration": 118,
    "start_time": "2023-10-27T13:18:16.835Z"
   },
   {
    "duration": 111,
    "start_time": "2023-10-27T13:18:16.954Z"
   },
   {
    "duration": 146,
    "start_time": "2023-10-27T13:18:17.066Z"
   }
  ],
  "kernelspec": {
   "display_name": "Python 3 (ipykernel)",
   "language": "python",
   "name": "python3"
  },
  "language_info": {
   "codemirror_mode": {
    "name": "ipython",
    "version": 3
   },
   "file_extension": ".py",
   "mimetype": "text/x-python",
   "name": "python",
   "nbconvert_exporter": "python",
   "pygments_lexer": "ipython3",
   "version": "3.10.9"
  },
  "toc": {
   "base_numbering": 1,
   "nav_menu": {},
   "number_sections": true,
   "sideBar": true,
   "skip_h1_title": true,
   "title_cell": "Table of Contents",
   "title_sidebar": "Contents",
   "toc_cell": false,
   "toc_position": {},
   "toc_section_display": true,
   "toc_window_display": false
  }
 },
 "nbformat": 4,
 "nbformat_minor": 5
}
