{
 "cells": [
  {
   "cell_type": "markdown",
   "id": "13f6c096",
   "metadata": {},
   "source": [
    "# Описание проекта\n",
    "\n",
    "В рамках проекта мною будут рассмотрены исторические данные о продажах игр, оценки пользователей и экспертов, жанры и платформы. Задача моего исследования состоит в том, чтобы выявить определяющие успешность игры закономерности на основе, рассматриваемых мною, данных. Выводы моего исследования позволят сделать ставку на потенциально популярный продукт и спланировать рекламные кампании.\n",
    "\n",
    "\n",
    "Своё исследование я буду проводить в несколько шагов:\n",
    "1. Открыть файл с данными\n",
    "2. Подготовка данных\n",
    "3. Исследовательский анализ\n",
    "4. Составление портрета пользователя каждого региона\n",
    "5. Проверка гипотез\n",
    "6. Общий вывод\n",
    "\n",
    "##### Описание данных\n",
    "* Name — название игры\n",
    "* Platform — платформа\n",
    "* Year_of_Release — год выпуска\n",
    "* Genre — жанр игры\n",
    "* NA_sales — продажи в Северной Америке (миллионы проданных копий)\n",
    "* EU_sales — продажи в Европе (миллионы проданных копий)\n",
    "* JP_sales — продажи в Японии (миллионы проданных копий)\n",
    "* Other_sales — продажи в других странах (миллионы проданных копий)\n",
    "* Critic_Score — оценка критиков (максимум 100)\n",
    "* User_Score — оценка пользователей (максимум 10)\n",
    "* Rating — рейтинг от организации ESRB (англ. Entertainment Software Rating Board). Эта ассоциация определяет рейтинг компьютерных игр и присваивает им подходящую возрастную категорию."
   ]
  },
  {
   "cell_type": "markdown",
   "id": "3e78228b",
   "metadata": {},
   "source": [
    "## Шаг 1. Откройте файл с данными и изучите общую информацию"
   ]
  },
  {
   "cell_type": "code",
   "execution_count": 1,
   "id": "75ee6d18",
   "metadata": {},
   "outputs": [],
   "source": [
    "import pandas as pd\n",
    "import warnings as wr\n",
    "import seaborn as sns\n",
    "import numpy as np\n",
    "from scipy import stats as st\n",
    "import matplotlib.pyplot as plt\n",
    "import statistics"
   ]
  },
  {
   "cell_type": "code",
   "execution_count": 2,
   "id": "571c0053",
   "metadata": {},
   "outputs": [],
   "source": [
    "wr.filterwarnings('ignore')"
   ]
  },
  {
   "cell_type": "code",
   "execution_count": 3,
   "id": "e6df9ee4",
   "metadata": {},
   "outputs": [],
   "source": [
    "try:\n",
    "    data = pd.read_csv('C:/Users/crugl/Downloads/games.csv', sep=',')\n",
    "except:\n",
    "    data = pd.read_csv('/datasets/games.csv', sep=',')"
   ]
  },
  {
   "cell_type": "code",
   "execution_count": 4,
   "id": "b32ba70f",
   "metadata": {},
   "outputs": [],
   "source": [
    "#pd.set_option('display.float_format', '{:.2f}'.format)\n",
    "#pd.set_option('display.max_rows', None)\n",
    "pd.set_option('display.max_columns', None)"
   ]
  },
  {
   "cell_type": "markdown",
   "id": "d68e4ec8",
   "metadata": {},
   "source": [
    "## Шаг 2. Подготовьте данные"
   ]
  },
  {
   "cell_type": "code",
   "execution_count": 5,
   "id": "071f4821",
   "metadata": {},
   "outputs": [
    {
     "data": {
      "text/html": [
       "<div>\n",
       "<style scoped>\n",
       "    .dataframe tbody tr th:only-of-type {\n",
       "        vertical-align: middle;\n",
       "    }\n",
       "\n",
       "    .dataframe tbody tr th {\n",
       "        vertical-align: top;\n",
       "    }\n",
       "\n",
       "    .dataframe thead th {\n",
       "        text-align: right;\n",
       "    }\n",
       "</style>\n",
       "<table border=\"1\" class=\"dataframe\">\n",
       "  <thead>\n",
       "    <tr style=\"text-align: right;\">\n",
       "      <th></th>\n",
       "      <th>Name</th>\n",
       "      <th>Platform</th>\n",
       "      <th>Year_of_Release</th>\n",
       "      <th>Genre</th>\n",
       "      <th>NA_sales</th>\n",
       "      <th>EU_sales</th>\n",
       "      <th>JP_sales</th>\n",
       "      <th>Other_sales</th>\n",
       "      <th>Critic_Score</th>\n",
       "      <th>User_Score</th>\n",
       "      <th>Rating</th>\n",
       "    </tr>\n",
       "  </thead>\n",
       "  <tbody>\n",
       "    <tr>\n",
       "      <th>0</th>\n",
       "      <td>Wii Sports</td>\n",
       "      <td>Wii</td>\n",
       "      <td>2006.0</td>\n",
       "      <td>Sports</td>\n",
       "      <td>41.36</td>\n",
       "      <td>28.96</td>\n",
       "      <td>3.77</td>\n",
       "      <td>8.45</td>\n",
       "      <td>76.0</td>\n",
       "      <td>8</td>\n",
       "      <td>E</td>\n",
       "    </tr>\n",
       "    <tr>\n",
       "      <th>1</th>\n",
       "      <td>Super Mario Bros.</td>\n",
       "      <td>NES</td>\n",
       "      <td>1985.0</td>\n",
       "      <td>Platform</td>\n",
       "      <td>29.08</td>\n",
       "      <td>3.58</td>\n",
       "      <td>6.81</td>\n",
       "      <td>0.77</td>\n",
       "      <td>NaN</td>\n",
       "      <td>NaN</td>\n",
       "      <td>NaN</td>\n",
       "    </tr>\n",
       "    <tr>\n",
       "      <th>2</th>\n",
       "      <td>Mario Kart Wii</td>\n",
       "      <td>Wii</td>\n",
       "      <td>2008.0</td>\n",
       "      <td>Racing</td>\n",
       "      <td>15.68</td>\n",
       "      <td>12.76</td>\n",
       "      <td>3.79</td>\n",
       "      <td>3.29</td>\n",
       "      <td>82.0</td>\n",
       "      <td>8.3</td>\n",
       "      <td>E</td>\n",
       "    </tr>\n",
       "    <tr>\n",
       "      <th>3</th>\n",
       "      <td>Wii Sports Resort</td>\n",
       "      <td>Wii</td>\n",
       "      <td>2009.0</td>\n",
       "      <td>Sports</td>\n",
       "      <td>15.61</td>\n",
       "      <td>10.93</td>\n",
       "      <td>3.28</td>\n",
       "      <td>2.95</td>\n",
       "      <td>80.0</td>\n",
       "      <td>8</td>\n",
       "      <td>E</td>\n",
       "    </tr>\n",
       "    <tr>\n",
       "      <th>4</th>\n",
       "      <td>Pokemon Red/Pokemon Blue</td>\n",
       "      <td>GB</td>\n",
       "      <td>1996.0</td>\n",
       "      <td>Role-Playing</td>\n",
       "      <td>11.27</td>\n",
       "      <td>8.89</td>\n",
       "      <td>10.22</td>\n",
       "      <td>1.00</td>\n",
       "      <td>NaN</td>\n",
       "      <td>NaN</td>\n",
       "      <td>NaN</td>\n",
       "    </tr>\n",
       "  </tbody>\n",
       "</table>\n",
       "</div>"
      ],
      "text/plain": [
       "                       Name Platform  Year_of_Release         Genre  NA_sales  \\\n",
       "0                Wii Sports      Wii           2006.0        Sports     41.36   \n",
       "1         Super Mario Bros.      NES           1985.0      Platform     29.08   \n",
       "2            Mario Kart Wii      Wii           2008.0        Racing     15.68   \n",
       "3         Wii Sports Resort      Wii           2009.0        Sports     15.61   \n",
       "4  Pokemon Red/Pokemon Blue       GB           1996.0  Role-Playing     11.27   \n",
       "\n",
       "   EU_sales  JP_sales  Other_sales  Critic_Score User_Score Rating  \n",
       "0     28.96      3.77         8.45          76.0          8      E  \n",
       "1      3.58      6.81         0.77           NaN        NaN    NaN  \n",
       "2     12.76      3.79         3.29          82.0        8.3      E  \n",
       "3     10.93      3.28         2.95          80.0          8      E  \n",
       "4      8.89     10.22         1.00           NaN        NaN    NaN  "
      ]
     },
     "execution_count": 5,
     "metadata": {},
     "output_type": "execute_result"
    }
   ],
   "source": [
    "data.head()"
   ]
  },
  {
   "cell_type": "code",
   "execution_count": 6,
   "id": "2f94596d",
   "metadata": {},
   "outputs": [
    {
     "name": "stdout",
     "output_type": "stream",
     "text": [
      "<class 'pandas.core.frame.DataFrame'>\n",
      "RangeIndex: 16715 entries, 0 to 16714\n",
      "Data columns (total 11 columns):\n",
      " #   Column           Non-Null Count  Dtype  \n",
      "---  ------           --------------  -----  \n",
      " 0   Name             16713 non-null  object \n",
      " 1   Platform         16715 non-null  object \n",
      " 2   Year_of_Release  16446 non-null  float64\n",
      " 3   Genre            16713 non-null  object \n",
      " 4   NA_sales         16715 non-null  float64\n",
      " 5   EU_sales         16715 non-null  float64\n",
      " 6   JP_sales         16715 non-null  float64\n",
      " 7   Other_sales      16715 non-null  float64\n",
      " 8   Critic_Score     8137 non-null   float64\n",
      " 9   User_Score       10014 non-null  object \n",
      " 10  Rating           9949 non-null   object \n",
      "dtypes: float64(6), object(5)\n",
      "memory usage: 1.4+ MB\n"
     ]
    }
   ],
   "source": [
    "data.info()"
   ]
  },
  {
   "cell_type": "markdown",
   "id": "8e8cc754",
   "metadata": {},
   "source": [
    "__Вывод__\n",
    "\n",
    "После поверхностного взгляда на данные, выделю следующие замечания:\n",
    "1. Названия столбцов имеют не однообразный вид\n",
    "2. Некоторые столбцы требуют изменения типа данных"
   ]
  },
  {
   "cell_type": "markdown",
   "id": "5a0616b2",
   "metadata": {},
   "source": [
    "*  __Замените названия столбцов (приведите к нижнему регистру)__"
   ]
  },
  {
   "cell_type": "code",
   "execution_count": 7,
   "id": "14742ae7",
   "metadata": {},
   "outputs": [],
   "source": [
    "data.columns = data.columns.str.lower()"
   ]
  },
  {
   "cell_type": "markdown",
   "id": "2663f7f2",
   "metadata": {},
   "source": [
    "*  __Обработайте пропуски при необходимости__"
   ]
  },
  {
   "cell_type": "markdown",
   "id": "f5289538",
   "metadata": {},
   "source": [
    "Для начала проверим явные дубликаты"
   ]
  },
  {
   "cell_type": "code",
   "execution_count": 8,
   "id": "a62c60c6",
   "metadata": {},
   "outputs": [
    {
     "data": {
      "text/plain": [
       "0"
      ]
     },
     "execution_count": 8,
     "metadata": {},
     "output_type": "execute_result"
    }
   ],
   "source": [
    "data.duplicated().sum()"
   ]
  },
  {
   "cell_type": "markdown",
   "id": "605d4c97",
   "metadata": {},
   "source": [
    "И неполные дубликаты"
   ]
  },
  {
   "cell_type": "code",
   "execution_count": 9,
   "id": "d2e312e6",
   "metadata": {},
   "outputs": [
    {
     "data": {
      "text/plain": [
       "4"
      ]
     },
     "execution_count": 9,
     "metadata": {},
     "output_type": "execute_result"
    }
   ],
   "source": [
    "data.duplicated(subset=['name', 'platform', 'year_of_release', 'genre'], keep=False).sum()"
   ]
  },
  {
   "cell_type": "code",
   "execution_count": 10,
   "id": "90683185",
   "metadata": {},
   "outputs": [
    {
     "data": {
      "text/html": [
       "<div>\n",
       "<style scoped>\n",
       "    .dataframe tbody tr th:only-of-type {\n",
       "        vertical-align: middle;\n",
       "    }\n",
       "\n",
       "    .dataframe tbody tr th {\n",
       "        vertical-align: top;\n",
       "    }\n",
       "\n",
       "    .dataframe thead th {\n",
       "        text-align: right;\n",
       "    }\n",
       "</style>\n",
       "<table border=\"1\" class=\"dataframe\">\n",
       "  <thead>\n",
       "    <tr style=\"text-align: right;\">\n",
       "      <th></th>\n",
       "      <th>name</th>\n",
       "      <th>platform</th>\n",
       "      <th>year_of_release</th>\n",
       "      <th>genre</th>\n",
       "      <th>na_sales</th>\n",
       "      <th>eu_sales</th>\n",
       "      <th>jp_sales</th>\n",
       "      <th>other_sales</th>\n",
       "      <th>critic_score</th>\n",
       "      <th>user_score</th>\n",
       "      <th>rating</th>\n",
       "    </tr>\n",
       "  </thead>\n",
       "  <tbody>\n",
       "    <tr>\n",
       "      <th>604</th>\n",
       "      <td>Madden NFL 13</td>\n",
       "      <td>PS3</td>\n",
       "      <td>2012.0</td>\n",
       "      <td>Sports</td>\n",
       "      <td>2.11</td>\n",
       "      <td>0.22</td>\n",
       "      <td>0.00</td>\n",
       "      <td>0.23</td>\n",
       "      <td>83.0</td>\n",
       "      <td>5.5</td>\n",
       "      <td>E</td>\n",
       "    </tr>\n",
       "    <tr>\n",
       "      <th>659</th>\n",
       "      <td>NaN</td>\n",
       "      <td>GEN</td>\n",
       "      <td>1993.0</td>\n",
       "      <td>NaN</td>\n",
       "      <td>1.78</td>\n",
       "      <td>0.53</td>\n",
       "      <td>0.00</td>\n",
       "      <td>0.08</td>\n",
       "      <td>NaN</td>\n",
       "      <td>NaN</td>\n",
       "      <td>NaN</td>\n",
       "    </tr>\n",
       "    <tr>\n",
       "      <th>14244</th>\n",
       "      <td>NaN</td>\n",
       "      <td>GEN</td>\n",
       "      <td>1993.0</td>\n",
       "      <td>NaN</td>\n",
       "      <td>0.00</td>\n",
       "      <td>0.00</td>\n",
       "      <td>0.03</td>\n",
       "      <td>0.00</td>\n",
       "      <td>NaN</td>\n",
       "      <td>NaN</td>\n",
       "      <td>NaN</td>\n",
       "    </tr>\n",
       "    <tr>\n",
       "      <th>16230</th>\n",
       "      <td>Madden NFL 13</td>\n",
       "      <td>PS3</td>\n",
       "      <td>2012.0</td>\n",
       "      <td>Sports</td>\n",
       "      <td>0.00</td>\n",
       "      <td>0.01</td>\n",
       "      <td>0.00</td>\n",
       "      <td>0.00</td>\n",
       "      <td>83.0</td>\n",
       "      <td>5.5</td>\n",
       "      <td>E</td>\n",
       "    </tr>\n",
       "  </tbody>\n",
       "</table>\n",
       "</div>"
      ],
      "text/plain": [
       "                name platform  year_of_release   genre  na_sales  eu_sales  \\\n",
       "604    Madden NFL 13      PS3           2012.0  Sports      2.11      0.22   \n",
       "659              NaN      GEN           1993.0     NaN      1.78      0.53   \n",
       "14244            NaN      GEN           1993.0     NaN      0.00      0.00   \n",
       "16230  Madden NFL 13      PS3           2012.0  Sports      0.00      0.01   \n",
       "\n",
       "       jp_sales  other_sales  critic_score user_score rating  \n",
       "604        0.00         0.23          83.0        5.5      E  \n",
       "659        0.00         0.08           NaN        NaN    NaN  \n",
       "14244      0.03         0.00           NaN        NaN    NaN  \n",
       "16230      0.00         0.00          83.0        5.5      E  "
      ]
     },
     "execution_count": 10,
     "metadata": {},
     "output_type": "execute_result"
    }
   ],
   "source": [
    "data.loc[data.duplicated(subset=['name', 'platform', 'year_of_release'], keep=False)]"
   ]
  },
  {
   "cell_type": "code",
   "execution_count": 11,
   "id": "e5f90af0",
   "metadata": {},
   "outputs": [],
   "source": [
    "data = data.drop_duplicates(subset=['name', 'platform', 'year_of_release'], keep='first')"
   ]
  },
  {
   "cell_type": "markdown",
   "id": "13ec7582",
   "metadata": {},
   "source": [
    "Проверим есть ли пропуски в данных"
   ]
  },
  {
   "cell_type": "code",
   "execution_count": 12,
   "id": "8ef1ca88",
   "metadata": {},
   "outputs": [
    {
     "data": {
      "text/plain": [
       "name                  1\n",
       "platform              0\n",
       "year_of_release     269\n",
       "genre                 1\n",
       "na_sales              0\n",
       "eu_sales              0\n",
       "jp_sales              0\n",
       "other_sales           0\n",
       "critic_score       8577\n",
       "user_score         6700\n",
       "rating             6765\n",
       "dtype: int64"
      ]
     },
     "execution_count": 12,
     "metadata": {},
     "output_type": "execute_result"
    }
   ],
   "source": [
    "data.isna().sum()"
   ]
  },
  {
   "cell_type": "markdown",
   "id": "f396da4d",
   "metadata": {},
   "source": [
    "* Столбец name"
   ]
  },
  {
   "cell_type": "code",
   "execution_count": 13,
   "id": "512a1145",
   "metadata": {},
   "outputs": [
    {
     "data": {
      "text/html": [
       "<div>\n",
       "<style scoped>\n",
       "    .dataframe tbody tr th:only-of-type {\n",
       "        vertical-align: middle;\n",
       "    }\n",
       "\n",
       "    .dataframe tbody tr th {\n",
       "        vertical-align: top;\n",
       "    }\n",
       "\n",
       "    .dataframe thead th {\n",
       "        text-align: right;\n",
       "    }\n",
       "</style>\n",
       "<table border=\"1\" class=\"dataframe\">\n",
       "  <thead>\n",
       "    <tr style=\"text-align: right;\">\n",
       "      <th></th>\n",
       "      <th>name</th>\n",
       "      <th>platform</th>\n",
       "      <th>year_of_release</th>\n",
       "      <th>genre</th>\n",
       "      <th>na_sales</th>\n",
       "      <th>eu_sales</th>\n",
       "      <th>jp_sales</th>\n",
       "      <th>other_sales</th>\n",
       "      <th>critic_score</th>\n",
       "      <th>user_score</th>\n",
       "      <th>rating</th>\n",
       "    </tr>\n",
       "  </thead>\n",
       "  <tbody>\n",
       "    <tr>\n",
       "      <th>659</th>\n",
       "      <td>NaN</td>\n",
       "      <td>GEN</td>\n",
       "      <td>1993.0</td>\n",
       "      <td>NaN</td>\n",
       "      <td>1.78</td>\n",
       "      <td>0.53</td>\n",
       "      <td>0.0</td>\n",
       "      <td>0.08</td>\n",
       "      <td>NaN</td>\n",
       "      <td>NaN</td>\n",
       "      <td>NaN</td>\n",
       "    </tr>\n",
       "  </tbody>\n",
       "</table>\n",
       "</div>"
      ],
      "text/plain": [
       "    name platform  year_of_release genre  na_sales  eu_sales  jp_sales  \\\n",
       "659  NaN      GEN           1993.0   NaN      1.78      0.53       0.0   \n",
       "\n",
       "     other_sales  critic_score user_score rating  \n",
       "659         0.08           NaN        NaN    NaN  "
      ]
     },
     "execution_count": 13,
     "metadata": {},
     "output_type": "execute_result"
    }
   ],
   "source": [
    "data.loc[data['name'].isna()]"
   ]
  },
  {
   "cell_type": "markdown",
   "id": "2af435a0",
   "metadata": {},
   "source": [
    "В столбце name два пропущенных значения. Я считаю, что эти строки можно удалить, так как не удастся восстановить эти данные."
   ]
  },
  {
   "cell_type": "code",
   "execution_count": 14,
   "id": "1d5805e4",
   "metadata": {},
   "outputs": [],
   "source": [
    "data = data.dropna(subset=['name'])"
   ]
  },
  {
   "cell_type": "markdown",
   "id": "1d7132bc",
   "metadata": {},
   "source": [
    "* Столбец year_of_release"
   ]
  },
  {
   "cell_type": "markdown",
   "id": "974e3144",
   "metadata": {},
   "source": [
    "В столбце year_of_release 269 пропусков из 16713, восстановить эти данные по моему мнению невозможно, поэтому я удалю пропуски"
   ]
  },
  {
   "cell_type": "code",
   "execution_count": 15,
   "id": "73077c3d",
   "metadata": {},
   "outputs": [],
   "source": [
    "data = data.dropna(subset=['year_of_release'])"
   ]
  },
  {
   "cell_type": "markdown",
   "id": "332a7d43",
   "metadata": {},
   "source": [
    "* Столбцы critic_score, rating, user_score"
   ]
  },
  {
   "cell_type": "code",
   "execution_count": 16,
   "id": "d0058f4f",
   "metadata": {},
   "outputs": [
    {
     "data": {
      "text/plain": [
       "8461"
      ]
     },
     "execution_count": 16,
     "metadata": {},
     "output_type": "execute_result"
    }
   ],
   "source": [
    "data['critic_score'].isna().sum()"
   ]
  },
  {
   "cell_type": "code",
   "execution_count": 17,
   "id": "e2c8a5ff",
   "metadata": {},
   "outputs": [
    {
     "data": {
      "text/plain": [
       "6676"
      ]
     },
     "execution_count": 17,
     "metadata": {},
     "output_type": "execute_result"
    }
   ],
   "source": [
    "data['rating'].isna().sum()"
   ]
  },
  {
   "cell_type": "markdown",
   "id": "d88dd027",
   "metadata": {},
   "source": [
    "В столбцах восстановить данные по моему мнению невозможно, но и удалять их тоже не стоит, так как я потеряю большое количество данных"
   ]
  },
  {
   "cell_type": "code",
   "execution_count": 18,
   "id": "d4d99e91",
   "metadata": {},
   "outputs": [
    {
     "data": {
      "text/plain": [
       "6605"
      ]
     },
     "execution_count": 18,
     "metadata": {},
     "output_type": "execute_result"
    }
   ],
   "source": [
    "data['user_score'].isna().sum()"
   ]
  },
  {
   "cell_type": "code",
   "execution_count": 19,
   "id": "59d0eee9",
   "metadata": {},
   "outputs": [
    {
     "data": {
      "text/plain": [
       "array(['8', nan, '8.3', '8.5', '6.6', '8.4', '8.6', '7.7', '6.3', '7.4',\n",
       "       '8.2', '9', '7.9', '8.1', '8.7', '7.1', '3.4', '5.3', '4.8', '3.2',\n",
       "       '8.9', '6.4', '7.8', '7.5', '2.6', '7.2', '9.2', '7', '7.3', '4.3',\n",
       "       '7.6', '5.7', '5', '9.1', '6.5', 'tbd', '8.8', '6.9', '9.4', '6.8',\n",
       "       '6.1', '6.7', '5.4', '4', '4.9', '4.5', '9.3', '6.2', '4.2', '6',\n",
       "       '3.7', '4.1', '5.8', '5.6', '5.5', '4.4', '4.6', '5.9', '3.9',\n",
       "       '3.1', '2.9', '5.2', '3.3', '4.7', '5.1', '3.5', '2.5', '1.9', '3',\n",
       "       '2.7', '2.2', '2', '9.5', '2.1', '3.6', '2.8', '1.8', '3.8', '0',\n",
       "       '1.6', '9.6', '2.4', '1.7', '1.1', '0.3', '1.5', '0.7', '1.2',\n",
       "       '2.3', '0.5', '1.3', '0.2', '0.6', '1.4', '0.9', '1', '9.7'],\n",
       "      dtype=object)"
      ]
     },
     "execution_count": 19,
     "metadata": {},
     "output_type": "execute_result"
    }
   ],
   "source": [
    "data['user_score'].unique()"
   ]
  },
  {
   "cell_type": "code",
   "execution_count": 20,
   "id": "7eff3f98",
   "metadata": {},
   "outputs": [],
   "source": [
    "data.user_score.replace('tbd', np.nan, inplace=True)"
   ]
  },
  {
   "cell_type": "markdown",
   "id": "74e7b74c",
   "metadata": {},
   "source": [
    "В столбце user_score есть значения \"tbd\". TBD - аббревиатура от английского To Be Determined (будет определено) или To Be Decided (будет решено). TBD может использоваться для описания ситуаций, где окончательное решение еще не принято, но появится в будущем.\n",
    "\n",
    "Заменю значение \"tbd\" на пропуски."
   ]
  },
  {
   "cell_type": "markdown",
   "id": "6dfc5479",
   "metadata": {},
   "source": [
    "*  __Преобразуйте данные в нужные типы. Опишите, в каких столбцах заменили тип данных и почему__"
   ]
  },
  {
   "cell_type": "code",
   "execution_count": 21,
   "id": "600baca8",
   "metadata": {},
   "outputs": [],
   "source": [
    "data['year_of_release'] = data['year_of_release'].astype('int')"
   ]
  },
  {
   "cell_type": "markdown",
   "id": "bc88a676",
   "metadata": {},
   "source": [
    "year_of_release меняю тип данных на целоисчисленный"
   ]
  },
  {
   "cell_type": "code",
   "execution_count": 22,
   "id": "89274734",
   "metadata": {},
   "outputs": [],
   "source": [
    "data['genre'] = data['genre'].astype('str')"
   ]
  },
  {
   "cell_type": "markdown",
   "id": "70a368cd",
   "metadata": {},
   "source": [
    "genre меняю тип данных на строку"
   ]
  },
  {
   "cell_type": "code",
   "execution_count": 23,
   "id": "224e3b52",
   "metadata": {},
   "outputs": [],
   "source": [
    "data['user_score'] = data['user_score'].astype('float')"
   ]
  },
  {
   "cell_type": "markdown",
   "id": "41f819d9",
   "metadata": {},
   "source": [
    "user_score меняю тип данных на вещественый"
   ]
  },
  {
   "cell_type": "markdown",
   "id": "5081fb97",
   "metadata": {},
   "source": [
    "* __Посчитайте суммарные продажи во всех регионах и запишите их в отдельный столбец__"
   ]
  },
  {
   "cell_type": "code",
   "execution_count": 24,
   "id": "869df217",
   "metadata": {},
   "outputs": [],
   "source": [
    "def sales_amount (row):\n",
    "    \"\"\"\n",
    "    Функция суммирует все продажи и возвращает\n",
    "    результат\n",
    "    \"\"\"\n",
    "    result = row['na_sales'] + row['eu_sales'] + row['jp_sales'] + row['other_sales']\n",
    "    return result"
   ]
  },
  {
   "cell_type": "code",
   "execution_count": 25,
   "id": "11582338",
   "metadata": {},
   "outputs": [],
   "source": [
    "data['total_sales'] = data.apply(sales_amount, axis=1)"
   ]
  },
  {
   "cell_type": "markdown",
   "id": "261822bc",
   "metadata": {},
   "source": [
    "__Вывод__\n",
    "\n",
    "На этом шаге мною были рассмотрены и обработаны пропуски в столбцах name, year_of_release, critic_score, user_score и rating. Так же я изменил тип данных в столбцах year_of_release, genre, user_score. Создал новый столбец total_sales, в котором находятся данные о сумме продаж"
   ]
  },
  {
   "cell_type": "markdown",
   "id": "33e0b786",
   "metadata": {},
   "source": [
    "## Шаг 3. Проведите исследовательский анализ данных"
   ]
  },
  {
   "cell_type": "markdown",
   "id": "72dae563",
   "metadata": {},
   "source": [
    "* __Посмотрите, сколько игр выпускалось в разные годы. Важны ли данные за все периоды?__\n"
   ]
  },
  {
   "cell_type": "code",
   "execution_count": 26,
   "id": "d81b8abc",
   "metadata": {},
   "outputs": [
    {
     "data": {
      "text/plain": [
       "<Axes: title={'center': 'Количество вышедших игр по годам'}, xlabel='год релиза', ylabel='количество игр'>"
      ]
     },
     "execution_count": 26,
     "metadata": {},
     "output_type": "execute_result"
    },
    {
     "data": {
      "image/png": "[encoded data removed]",
      "text/plain": [
       "<Figure size 1500x700 with 1 Axes>"
      ]
     },
     "metadata": {},
     "output_type": "display_data"
    }
   ],
   "source": [
    "sns.set(rc = {'figure.figsize':(15,7)})\n",
    "data.pivot_table(index='year_of_release', values='name',\n",
    "                 aggfunc='count').plot(kind='bar', xlabel='год релиза', \n",
    "                                       ylabel='количество игр', grid=True, \n",
    "                                       title='Количество вышедших игр по годам',\n",
    "                                       figsize=(15, 7), legend=False)"
   ]
  },
  {
   "cell_type": "markdown",
   "id": "c617313b",
   "metadata": {},
   "source": [
    "__Вывод__\n",
    "\n",
    "Нет, данные за весь период в моём исследовании не понадобятся. Можно заметить что больше всего игр выпускалось с 2002 по 2012 гг."
   ]
  },
  {
   "cell_type": "markdown",
   "id": "47f351db",
   "metadata": {},
   "source": [
    "* __Посмотрите, как менялись продажи по платформам. Выберите платформы с наибольшими суммарными продажами и постройте распределение по годам. За какой характерный срок появляются новые и исчезают старые платформы?__"
   ]
  },
  {
   "cell_type": "code",
   "execution_count": null,
   "id": "8c94d1d4",
   "metadata": {},
   "outputs": [],
   "source": [
    "data.pivot_table(index='year_of_release', columns='platform', values='name',\n",
    "                 aggfunc='count').plot(kind='bar', xlabel='год релиза', \n",
    "                                       ylabel='количество игр', grid=True, \n",
    "                                       title='Количество вышедших игр по годам',\n",
    "                                       figsize=(15, 7), legend=True, \n",
    "                                       stacked=True).legend(bbox_to_anchor=(1.02, 1), loc='upper left', borderaxespad=0)"
   ]
  },
  {
   "cell_type": "code",
   "execution_count": null,
   "id": "9141cece",
   "metadata": {},
   "outputs": [],
   "source": [
    "data.groupby('platform')['total_sales'].sum().sort_values().plot(kind='bar', grid=True,\n",
    "                                                                xlabel='сумма продаж', ylabel='платформы',\n",
    "                                                                title='Сумма продаж по платформам',\n",
    "                                                                figsize=(15,7))"
   ]
  },
  {
   "cell_type": "markdown",
   "id": "40008af1",
   "metadata": {},
   "source": [
    "Платформы с наибольшими суммарными продажами: DS, Wii, PS3, X360, PS2"
   ]
  },
  {
   "cell_type": "code",
   "execution_count": null,
   "id": "0975fe9c",
   "metadata": {},
   "outputs": [],
   "source": [
    "top_sales = ['PS', 'DS', 'Wii', 'PS3', 'X360', 'PS2']"
   ]
  },
  {
   "cell_type": "code",
   "execution_count": null,
   "id": "2a3311fe",
   "metadata": {},
   "outputs": [],
   "source": [
    "data.query('platform in @top_sales').pivot_table(index='year_of_release', \n",
    "                                                 columns='platform', values='total_sales',\n",
    "                                                 aggfunc='sum').plot(kind='bar', figsize=(15,7), \n",
    "                                                                     stacked=True, xlabel='год релиза',\n",
    "                                                                     ylabel='cумма продаж', grid=True,\n",
    "                                                                     title='Сумма продаж топ-6 платформ по годам')"
   ]
  },
  {
   "cell_type": "markdown",
   "id": "ff7bea3a",
   "metadata": {},
   "source": [
    "__Вывод__\n",
    "\n",
    "Я выделил 6 платформ с наибольшими суммами продаж. В среднем платформа существует в течение 10 лет. Бум образования новых платформ и релизов новых игр пришелся на период 2002 - 2012 гг."
   ]
  },
  {
   "cell_type": "markdown",
   "id": "c047003a",
   "metadata": {},
   "source": [
    "* __Возьмите данные за соответствующий актуальный период. Актуальный период определите самостоятельно в результате исследования предыдущих вопросов. Основной фактор — эти данные помогут построить прогноз на 2017 год.__"
   ]
  },
  {
   "cell_type": "code",
   "execution_count": null,
   "id": "cb487ace",
   "metadata": {},
   "outputs": [],
   "source": [
    "actual_data = data.query('year_of_release >= 2011')"
   ]
  },
  {
   "cell_type": "markdown",
   "id": "7bb3fe05",
   "metadata": {},
   "source": [
    "* __Какие платформы лидируют по продажам, растут или падают? Выберите несколько потенциально прибыльных платформ.__"
   ]
  },
  {
   "cell_type": "code",
   "execution_count": null,
   "id": "ba41ac7d",
   "metadata": {},
   "outputs": [],
   "source": [
    "actual_data.pivot_table(index='year_of_release', columns='platform', values='total_sales',\n",
    "                        aggfunc='sum').plot(kind='bar', stacked=True,  \n",
    "                        figsize=(15,7), ylabel='сумма продаж',\n",
    "                        xlabel='год релиза', grid=True,\n",
    "                        title='Сумма продаж разных платформ за 5 лет')"
   ]
  },
  {
   "cell_type": "code",
   "execution_count": null,
   "id": "981ac513",
   "metadata": {},
   "outputs": [],
   "source": [
    "data.query('year_of_release >= 2005').pivot_table(index='platform',\n",
    "                           columns='year_of_release', values='total_sales',\n",
    "                           aggfunc='sum')"
   ]
  },
  {
   "cell_type": "code",
   "execution_count": null,
   "id": "5119bf3c",
   "metadata": {},
   "outputs": [],
   "source": [
    "act_top = ['PS4', 'XOne', 'PSV', '3DS', 'PC', 'WiiU']"
   ]
  },
  {
   "cell_type": "code",
   "execution_count": null,
   "id": "2f1dcee4",
   "metadata": {},
   "outputs": [],
   "source": [
    "perspective_pl = actual_data.query('platform in @act_top')"
   ]
  },
  {
   "cell_type": "code",
   "execution_count": null,
   "id": "378576da",
   "metadata": {},
   "outputs": [],
   "source": [
    "perspective_pl.pivot_table(index='year_of_release',\n",
    "                           columns='platform', values='total_sales',\n",
    "                           aggfunc='sum').plot(xlabel='год релиза', \n",
    "                                               ylabel='сумма продаж',\n",
    "                                               grid=True, figsize=(15,7), \n",
    "                                               title='Сумма продаж перспективных платформ')\n",
    "                                                                           "
   ]
  },
  {
   "cell_type": "markdown",
   "id": "7f79c419",
   "metadata": {},
   "source": [
    "__Вывод__\n",
    "\n",
    "Исходя из данных за последние 5 лет, я хочу выделить 4 платформы, которые имеют перспективы в будущем стать лидерами по продажам. PS4, XOne, PSV и 3DS. Такой вывод я сделал исходя из того, что они появились на рынке относительно недавно. Соответственно они не прошли еще и половины цикла, а значит можно предположить, что в перспективе они принесут прибыль."
   ]
  },
  {
   "cell_type": "markdown",
   "id": "ba7132df",
   "metadata": {},
   "source": [
    "* __Постройте график «ящик с усами» по глобальным продажам игр в разбивке по платформам. Опишите результат.__"
   ]
  },
  {
   "cell_type": "code",
   "execution_count": null,
   "id": "eb47da3b",
   "metadata": {},
   "outputs": [],
   "source": [
    "actual_data.head()"
   ]
  },
  {
   "cell_type": "code",
   "execution_count": null,
   "id": "6509e154",
   "metadata": {},
   "outputs": [],
   "source": [
    "sns.boxplot(data=actual_data,\n",
    "            x='platform', \n",
    "            y='total_sales').set(ylim=(0,4), ylabel='сумма продаж млн.', \n",
    "                                 xlabel='платформы', title='Распределение продаж')"
   ]
  },
  {
   "cell_type": "markdown",
   "id": "b35a2ebe",
   "metadata": {},
   "source": [
    "__Вывод__\n",
    "\n",
    "В большинстве случаях медианна лежит ниже уровня 0.25 млн копий, значит 50% игр выпускаются относительно небольшими тиражами. Но есть и платформы верхний квантиль которых расположен достаточно выше остальных. Например это можно наблюдать на платформах X360, PS3, PS4, Xone, можно сказать что игры, выпускаемые на эти платформы, продаются в большем количестве, чем на остальные платформы. При этом везде есть значения, которые многократно превышают обычные значения, можно предположить, что это бестселлеры, которые имеют высокую популярность и их покупают в больших количествах."
   ]
  },
  {
   "cell_type": "markdown",
   "id": "38e17b30",
   "metadata": {},
   "source": [
    "* __Посмотрите, как влияют на продажи внутри одной популярной платформы отзывы пользователей и критиков. Постройте диаграмму рассеяния и посчитайте корреляцию между отзывами и продажами. Сформулируйте выводы.__"
   ]
  },
  {
   "cell_type": "code",
   "execution_count": null,
   "id": "9ff72295",
   "metadata": {},
   "outputs": [],
   "source": [
    "actual_data.query('platform == \"XOne\"')[['total_sales','user_score', 'critic_score']].agg('corr')"
   ]
  },
  {
   "cell_type": "code",
   "execution_count": null,
   "id": "5ee4cb79",
   "metadata": {},
   "outputs": [],
   "source": [
    "perspective_pl.query('platform == \"XOne\"').plot(kind='scatter',\n",
    "                                            x='total_sales',\n",
    "                                            y='critic_score', xlabel='оценка критиков',\n",
    "                                            ylabel='сумма продаж, млн',\n",
    "                                            title='Диаграмма рассеяния — Оценка критиков — Сумма продаж',\n",
    "                                            figsize=(15,7), s=20)"
   ]
  },
  {
   "cell_type": "code",
   "execution_count": null,
   "id": "869da0dc",
   "metadata": {},
   "outputs": [],
   "source": [
    "actual_data.query('platform == \"XOne\"').plot(kind='scatter',\n",
    "                                            x='total_sales',\n",
    "                                            y='user_score', xlabel='оценка пользователей',\n",
    "                                            ylabel='сумма продаж, млн',\n",
    "                                            title='Диаграмма рассеяния — Оценка пользователей — Сумма продаж',\n",
    "                                            figsize=(15,7), s=20)"
   ]
  },
  {
   "cell_type": "markdown",
   "id": "a752a550",
   "metadata": {},
   "source": [
    "__Вывод__\n",
    "\n",
    "Сильной корреляции между оценкой и продажами не наблюдается. Например между оценкой пользователей и суммой продаж коэффициент корреляции равен -0.068925, а между оценкой критиков \tи суммой продаж равен 0.416998. Это вполне логично, пиар компания перед релизом игры, в большей мере будет влиять на на продаваемость игры, чем оценки критиков после релиза."
   ]
  },
  {
   "cell_type": "markdown",
   "id": "99e2c631",
   "metadata": {},
   "source": [
    "* __Соотнесите выводы с продажами игр на других платформах.__"
   ]
  },
  {
   "cell_type": "markdown",
   "id": "f41537d8",
   "metadata": {},
   "source": [
    "__PS4__"
   ]
  },
  {
   "cell_type": "code",
   "execution_count": null,
   "id": "0253d7bb",
   "metadata": {},
   "outputs": [],
   "source": [
    "actual_data.query('platform == \"PS4\"').plot(kind='scatter',\n",
    "                                            x='total_sales',\n",
    "                                            y='critic_score', xlabel='оценка критиков',\n",
    "                                            ylabel='сумма продаж, млн',\n",
    "                                            title='Диаграмма рассеяния — Оценка критиков — Сумма продаж',\n",
    "                                            figsize=(15,7), s=20)"
   ]
  },
  {
   "cell_type": "code",
   "execution_count": null,
   "id": "ecdefa4f",
   "metadata": {},
   "outputs": [],
   "source": [
    "actual_data.query('platform == \"PS4\"').plot(kind='scatter',\n",
    "                                            x='total_sales',\n",
    "                                            y='user_score', xlabel='оценка пользователей',\n",
    "                                            ylabel='сумма продаж, млн',\n",
    "                                            title='Диаграмма рассеяния — Оценка пользователей — Сумма продаж',\n",
    "                                            figsize=(15,7), s=20)"
   ]
  },
  {
   "cell_type": "code",
   "execution_count": null,
   "id": "2330da8c",
   "metadata": {},
   "outputs": [],
   "source": [
    "perspective_pl.query('platform == \"PS4\"')[['total_sales','user_score', 'critic_score']].agg('corr')"
   ]
  },
  {
   "cell_type": "markdown",
   "id": "614227de",
   "metadata": {},
   "source": [
    "__Вывод__\n",
    "\n",
    "Для PS4 корреляция между количеством проданных игр и оценкой так же незначительная. Но оценки критиков сильнее коррелируют с продажами, нежели оценки пользователей."
   ]
  },
  {
   "cell_type": "markdown",
   "id": "f8d8c79a",
   "metadata": {},
   "source": [
    "__PSV__"
   ]
  },
  {
   "cell_type": "code",
   "execution_count": null,
   "id": "965923c5",
   "metadata": {},
   "outputs": [],
   "source": [
    "actual_data.query('platform == \"PSV\"').plot(kind='scatter',\n",
    "                                            x='total_sales',\n",
    "                                            y='critic_score', xlabel='оценка критиков',\n",
    "                                            ylabel='сумма продаж, млн',\n",
    "                                            title='Диаграмма рассеяния — Оценка критиков — Сумма продаж',\n",
    "                                            figsize=(15,7), s=20)"
   ]
  },
  {
   "cell_type": "code",
   "execution_count": null,
   "id": "8bf61ee6",
   "metadata": {},
   "outputs": [],
   "source": [
    "actual_data.query('platform == \"PSV\"').plot(kind='scatter',\n",
    "                                            x='total_sales',\n",
    "                                            y='user_score', xlabel='оценка пользователей',\n",
    "                                            ylabel='сумма продаж, млн',\n",
    "                                            title='Диаграмма рассеяния — Оценка пользователей — Сумма продаж',\n",
    "                                            figsize=(15,7), s=20)"
   ]
  },
  {
   "cell_type": "code",
   "execution_count": null,
   "id": "7ee02ab4",
   "metadata": {},
   "outputs": [],
   "source": [
    "actual_data.query('platform == \"PSV\"')[['total_sales','user_score', 'critic_score']].agg('corr')"
   ]
  },
  {
   "cell_type": "markdown",
   "id": "0e818621",
   "metadata": {},
   "source": [
    "__Вывод__\n",
    "\n",
    "\n",
    "Для PSV корреляция между количеством проданных игр и оценкой так же незначительная."
   ]
  },
  {
   "cell_type": "markdown",
   "id": "f444c1a1",
   "metadata": {},
   "source": [
    "__3DS__"
   ]
  },
  {
   "cell_type": "code",
   "execution_count": null,
   "id": "823f3bd6",
   "metadata": {},
   "outputs": [],
   "source": [
    "actual_data.query('platform == \"3DS\"').plot(kind='scatter',\n",
    "                                            x='total_sales',\n",
    "                                            y='critic_score', xlabel='оценка критиков',\n",
    "                                            ylabel='сумма продаж, млн',\n",
    "                                            title='Диаграмма рассеяния — Оценка критиков — Сумма продаж',\n",
    "                                            figsize=(15,7), s=20)"
   ]
  },
  {
   "cell_type": "code",
   "execution_count": null,
   "id": "be8a316e",
   "metadata": {},
   "outputs": [],
   "source": [
    "actual_data.query('platform == \"3DS\"').plot(kind='scatter',\n",
    "                                            x='total_sales',\n",
    "                                            y='user_score', xlabel='оценка пользователей',\n",
    "                                            ylabel='сумма продаж, млн',\n",
    "                                            title='Диаграмма рассеяния — Оценка пользователей — Сумма продаж',\n",
    "                                            figsize=(15,7), s=20)"
   ]
  },
  {
   "cell_type": "code",
   "execution_count": null,
   "id": "3e3681f5",
   "metadata": {},
   "outputs": [],
   "source": [
    "perspective_pl.query('platform == \"PSV\"')[['total_sales','user_score', 'critic_score']].agg('corr')"
   ]
  },
  {
   "cell_type": "markdown",
   "id": "7525e231",
   "metadata": {},
   "source": [
    "__Вывод__\n",
    "\n",
    "Для 3DS корреляция между количеством проданных игр и оценкой так же незначительная."
   ]
  },
  {
   "cell_type": "markdown",
   "id": "3cd861b6",
   "metadata": {},
   "source": [
    "__Общий вывод__\n",
    "\n",
    "Оценки пользователей и критиков не сильно влияют на продоваемость игр. Но в случаях с PS4 и XOne корреляция между продажами и оценками критиков выше чем у остальных платформ"
   ]
  },
  {
   "cell_type": "markdown",
   "id": "ba3fe5d2",
   "metadata": {},
   "source": [
    "* __Посмотрите на общее распределение игр по жанрам. Что можно сказать о самых прибыльных жанрах? Выделяются ли жанры с высокими и низкими продажами?__"
   ]
  },
  {
   "cell_type": "code",
   "execution_count": null,
   "id": "7a418a8f",
   "metadata": {},
   "outputs": [],
   "source": [
    "actual_data.pivot_table(index='genre', values='total_sales', \n",
    "                 aggfunc='sum').sort_values(by='total_sales', ascending=False)"
   ]
  },
  {
   "cell_type": "code",
   "execution_count": null,
   "id": "83314f37",
   "metadata": {},
   "outputs": [],
   "source": [
    "actual_data.pivot_table(index='genre',\n",
    "                 values='total_sales', \n",
    "                 aggfunc='sum').sort_values(by='total_sales', \n",
    "                                            ascending=False).plot(kind='bar', \n",
    "                                                                 ylabel='сумма продаж, млн.',\n",
    "                                                                 xlabel='жанры', \n",
    "                                                                 title='Распределение игр по жанрам')"
   ]
  },
  {
   "cell_type": "code",
   "execution_count": null,
   "id": "2518dd4d",
   "metadata": {},
   "outputs": [],
   "source": [
    "plt.pie(x=actual_data.pivot_table(index='genre',\n",
    "                 values='total_sales', \n",
    "                 aggfunc='sum').sort_values(by='total_sales', \n",
    "                                            ascending=False)['total_sales'], \n",
    "        labels=['Action', 'Sports', 'Shooter', 'Role-Playing', 'Platform', 'Misc', 'Racing',\n",
    "               'Fighting', 'Simulation', 'Puzzle', 'Adventure', 'Strategy'], autopct='%1.1f%%')"
   ]
  },
  {
   "cell_type": "markdown",
   "id": "44ac3253",
   "metadata": {},
   "source": [
    "__Вывод__\n",
    "\n",
    "Больше половины от общего объема продаж занимают игры жанров action, sports, shooter, и role-playing."
   ]
  },
  {
   "cell_type": "code",
   "execution_count": null,
   "id": "0810982d",
   "metadata": {},
   "outputs": [],
   "source": [
    "top_genre = ['Action', 'Sports', 'Shooter', 'Role-Playing'] "
   ]
  },
  {
   "cell_type": "code",
   "execution_count": null,
   "id": "c321dc2e",
   "metadata": {},
   "outputs": [],
   "source": [
    "actual_data.query('genre in @top_genre').pivot_table(index='platform', columns='genre', \n",
    "                                                        values='total_sales', \n",
    "                                                        aggfunc='sum').plot(kind='bar', stacked=True,\n",
    "                                                                              xlabel='платформа', ylabel='количество',\n",
    "                                                                              title='Суммарные продажи игр разных жанров по платформам')"
   ]
  },
  {
   "cell_type": "code",
   "execution_count": null,
   "id": "65637011",
   "metadata": {},
   "outputs": [],
   "source": [
    "actual_data.query('genre in @top_genre').pivot_table(index='platform', columns='genre', \n",
    "                                                        values='total_sales', \n",
    "                                                        aggfunc='mean').plot(kind='bar', stacked=True,\n",
    "                                                                              xlabel='платформа', ylabel='количество',\n",
    "                                                                              title='Средние продажи игр разных жанров по платформам')"
   ]
  },
  {
   "cell_type": "code",
   "execution_count": null,
   "id": "371d2afd",
   "metadata": {},
   "outputs": [],
   "source": [
    "actual_data.query('genre in @top_genre').pivot_table(index='platform', columns='genre', \n",
    "                                                        values='total_sales', \n",
    "                                                        aggfunc='median').plot(kind='bar', stacked=True,\n",
    "                                                                              xlabel='платформа', ylabel='количество',\n",
    "                                                                              title='Средние продажи игр разных жанров по платформам')"
   ]
  },
  {
   "cell_type": "markdown",
   "id": "87352547",
   "metadata": {},
   "source": [
    "__Вывод__\n",
    "\n",
    "Я рассмотрел суммарные, средние и мединны продаж на разных платформах за актуальный период. В суммарных продажах, действительно лидирует игры жанра Action. Рассматривая средние продажи и медиану, игры жанра Action уходят с первого места и выделяются игры жанра shooter, исходя из этого можно сделать вывод, что на рынке много разных игр жанра Action, а жанра Shooter например меньше. "
   ]
  },
  {
   "cell_type": "markdown",
   "id": "a38fd0b8",
   "metadata": {},
   "source": [
    "__Общий вывод__\n",
    "\n",
    "Я выделил несколько перспективных платформ: 3DS, PS4, PSV, XOne. Самые популярные жанры игры на эти плафтормы: Action, Sports, Shooter, Role-Playing. При этом на портативных консолях жанр shooter менее популярен а жанр role-playing наоборот. Продаваемость игр не сильно зависит от оценок пользователей и критиков. В основном количество экземпляров разных игр на эти платформы не превышает 750 000, но есть и исключительные бестселлеры, которые продаются в большом количестве. "
   ]
  },
  {
   "cell_type": "markdown",
   "id": "39efaf01",
   "metadata": {},
   "source": [
    "## Шаг 4. Составьте портрет пользователя каждого региона"
   ]
  },
  {
   "cell_type": "markdown",
   "id": "005e0df3",
   "metadata": {},
   "source": [
    "__Europe__"
   ]
  },
  {
   "cell_type": "markdown",
   "id": "1c21fa34",
   "metadata": {},
   "source": [
    "* Самые популярные платформы (топ-5)"
   ]
  },
  {
   "cell_type": "code",
   "execution_count": null,
   "id": "353479d2",
   "metadata": {},
   "outputs": [],
   "source": [
    "actual_data.groupby('platform')['eu_sales'].sum().sort_values(ascending=False)"
   ]
  },
  {
   "cell_type": "code",
   "execution_count": null,
   "id": "45c1c4ab",
   "metadata": {},
   "outputs": [],
   "source": []
  },
  {
   "cell_type": "code",
   "execution_count": null,
   "id": "ce25941a",
   "metadata": {},
   "outputs": [],
   "source": [
    "actual_data.groupby('platform')['eu_sales'].sum().sort_values(ascending=False).plot(kind='bar', \n",
    "                                                                            xlabel='платформы', ylabel='количество проданных игр', \n",
    "                                                                            title='Популярность платформ в европейском регионе')"
   ]
  },
  {
   "cell_type": "markdown",
   "id": "3e8a6d23",
   "metadata": {},
   "source": [
    "* Самые популярные жанры (топ-5)"
   ]
  },
  {
   "cell_type": "code",
   "execution_count": null,
   "id": "acad7295",
   "metadata": {},
   "outputs": [],
   "source": [
    "actual_data.groupby('genre')['eu_sales'].sum().sort_values(ascending=False)"
   ]
  },
  {
   "cell_type": "code",
   "execution_count": null,
   "id": "8d67935b",
   "metadata": {},
   "outputs": [],
   "source": [
    "actual_data.groupby('genre')['eu_sales'].sum().sort_values(ascending=False).plot(kind='bar', \n",
    "                                                                            xlabel='жанры', ylabel='количество проданных игр', \n",
    "                                                                            title='Популярность игровых жанров в европейском регионе')"
   ]
  },
  {
   "cell_type": "markdown",
   "id": "f7d7b722",
   "metadata": {},
   "source": [
    "* Влияет ли рейтинг ESRB на продажи в отдельном регионе?"
   ]
  },
  {
   "cell_type": "code",
   "execution_count": null,
   "id": "d62ee914",
   "metadata": {},
   "outputs": [],
   "source": [
    "actual_data.groupby('rating')['eu_sales'].sum().sort_values(ascending=False)"
   ]
  },
  {
   "cell_type": "markdown",
   "id": "dc4b6cbe",
   "metadata": {},
   "source": [
    "Категоря K-A устаревшая, её заменили на Everyone"
   ]
  },
  {
   "cell_type": "code",
   "execution_count": null,
   "id": "69384e66",
   "metadata": {},
   "outputs": [],
   "source": [
    "actual_data.loc[data['rating'] == 'K-A', 'rating'] = 'E'"
   ]
  },
  {
   "cell_type": "code",
   "execution_count": null,
   "id": "493b69e4",
   "metadata": {},
   "outputs": [],
   "source": [
    "actual_data.groupby('rating')['eu_sales'].sum().sort_values(ascending=False).plot(kind='bar', xlabel='рейтинг',\n",
    "                                                                             ylabel='количество проданных игр',\n",
    "                                                                             title='Популярные рейтинги игр в европейском регионе')"
   ]
  },
  {
   "cell_type": "markdown",
   "id": "8774f383",
   "metadata": {},
   "source": [
    "__Вывод__\n",
    "\n",
    "В европейском регионе популярны жанры игр: Action, Sports, Shooter, Misc, Racing, платформы: PS3, X360, Wii, DS, PS4. Чаще всего продаются игры с рейтингом Everyone."
   ]
  },
  {
   "cell_type": "markdown",
   "id": "18b7f81f",
   "metadata": {},
   "source": [
    "__North America__"
   ]
  },
  {
   "cell_type": "markdown",
   "id": "563c2c37",
   "metadata": {},
   "source": [
    "* Самые популярные платформы (топ-5)"
   ]
  },
  {
   "cell_type": "code",
   "execution_count": null,
   "id": "98f293a1",
   "metadata": {},
   "outputs": [],
   "source": [
    "actual_data.groupby('platform')['na_sales'].sum().sort_values(ascending=False)"
   ]
  },
  {
   "cell_type": "code",
   "execution_count": null,
   "id": "8532f7b0",
   "metadata": {},
   "outputs": [],
   "source": [
    "actual_data.groupby('platform')['na_sales'].sum().sort_values(ascending=False).plot(kind='bar', \n",
    "                                                                            xlabel='платформы', ylabel='количество проданных игр', \n",
    "                                                                            title='Популярность платформ в Северной Америке')"
   ]
  },
  {
   "cell_type": "markdown",
   "id": "4bfb9e4c",
   "metadata": {},
   "source": [
    "* Самые популярные жанры (топ-5)"
   ]
  },
  {
   "cell_type": "code",
   "execution_count": null,
   "id": "0cd8f6d3",
   "metadata": {
    "scrolled": true
   },
   "outputs": [],
   "source": [
    "actual_data.groupby('genre')['na_sales'].sum().sort_values(ascending=False)"
   ]
  },
  {
   "cell_type": "code",
   "execution_count": null,
   "id": "c8df1acf",
   "metadata": {},
   "outputs": [],
   "source": [
    "actual_data.groupby('genre')['na_sales'].sum().sort_values(ascending=False).plot(kind='bar', \n",
    "                                                                            xlabel='жанры', ylabel='количество проданных игр', \n",
    "                                                                            title='Популярность игровых жанров в Северной Америке')"
   ]
  },
  {
   "cell_type": "markdown",
   "id": "bbbd6c6b",
   "metadata": {},
   "source": [
    "* Влияет ли рейтинг ESRB на продажи в отдельном регионе?"
   ]
  },
  {
   "cell_type": "code",
   "execution_count": null,
   "id": "bf51c5b6",
   "metadata": {
    "scrolled": true
   },
   "outputs": [],
   "source": [
    "actual_data.groupby('rating')['na_sales'].sum().sort_values(ascending=False)"
   ]
  },
  {
   "cell_type": "code",
   "execution_count": null,
   "id": "89bd3449",
   "metadata": {},
   "outputs": [],
   "source": [
    "actual_data.groupby('rating')['na_sales'].sum().sort_values(ascending=False).plot(kind='bar', xlabel='рейтинг',\n",
    "                                                                             ylabel='количество проданных игр',\n",
    "                                                                             title='Популярные рейтинги игр в Северной Америке')"
   ]
  },
  {
   "cell_type": "markdown",
   "id": "ac0dc1cc",
   "metadata": {},
   "source": [
    "__Вывод__\n",
    "\n",
    "В Северной Америке популярны жанры игр: Action, Sports, Shooter, Misc, Role-Playing, платформы: X360, Wii, PS3, DS, PS2. Чаще всего продаются игры с рейтингом Everyone."
   ]
  },
  {
   "cell_type": "markdown",
   "id": "13d4fd9d",
   "metadata": {},
   "source": [
    "__Japan__"
   ]
  },
  {
   "cell_type": "markdown",
   "id": "a414a3dc",
   "metadata": {},
   "source": [
    "* Самые популярные платформы (топ-5)"
   ]
  },
  {
   "cell_type": "code",
   "execution_count": null,
   "id": "c8a7fd1a",
   "metadata": {
    "scrolled": false
   },
   "outputs": [],
   "source": [
    "actual_data.groupby('platform')['jp_sales'].sum().sort_values(ascending=False)"
   ]
  },
  {
   "cell_type": "code",
   "execution_count": null,
   "id": "c9545cdb",
   "metadata": {},
   "outputs": [],
   "source": [
    "actual_data.groupby('platform')['jp_sales'].sum().sort_values(ascending=False).plot(kind='bar', \n",
    "                                                                            xlabel='платформы', ylabel='количество проданных игр', \n",
    "                                                                            title='Популярность платформ в Японии')"
   ]
  },
  {
   "cell_type": "markdown",
   "id": "6f9748ff",
   "metadata": {},
   "source": [
    "* Самые популярные жанры (топ-5)"
   ]
  },
  {
   "cell_type": "code",
   "execution_count": null,
   "id": "46070378",
   "metadata": {},
   "outputs": [],
   "source": [
    "actual_data.groupby('genre')['jp_sales'].sum().sort_values(ascending=False)"
   ]
  },
  {
   "cell_type": "code",
   "execution_count": null,
   "id": "a3e7edc2",
   "metadata": {},
   "outputs": [],
   "source": [
    "actual_data.groupby('genre')['jp_sales'].sum().sort_values(ascending=False).plot(kind='bar', \n",
    "                                                                            xlabel='жанры', ylabel='количество проданных игр', \n",
    "                                                                            title='Популярность игровых жанров в Японии')"
   ]
  },
  {
   "cell_type": "markdown",
   "id": "78d196e0",
   "metadata": {},
   "source": [
    "* Влияет ли рейтинг ESRB на продажи в отдельном регионе?"
   ]
  },
  {
   "cell_type": "code",
   "execution_count": null,
   "id": "04514762",
   "metadata": {},
   "outputs": [],
   "source": [
    "actual_data.groupby('rating')['jp_sales'].sum().sort_values(ascending=False)"
   ]
  },
  {
   "cell_type": "code",
   "execution_count": null,
   "id": "f107645d",
   "metadata": {},
   "outputs": [],
   "source": [
    "actual_data.groupby('rating')['jp_sales'].sum().sort_values(ascending=False).plot(kind='bar', xlabel='рейтинг',\n",
    "                                                                             ylabel='количество проданных игр',\n",
    "                                                                             title='Популярные рейтинги игр в Японии')"
   ]
  },
  {
   "cell_type": "markdown",
   "id": "287ce908",
   "metadata": {},
   "source": [
    "__Вывод__\n",
    "\n",
    "В Японии популярны жанры игр: Role-Playing, Action, Sports, Platform, Misc, платформы: DS, 3DS, PS2, PSP, Wii. Чаще всего продаются игры с рейтингом Everyone."
   ]
  },
  {
   "cell_type": "markdown",
   "id": "96c4c557",
   "metadata": {},
   "source": [
    "__Остальной мир__"
   ]
  },
  {
   "cell_type": "markdown",
   "id": "8c7a2f17",
   "metadata": {},
   "source": [
    "* Самые популярные платформы (топ-5)"
   ]
  },
  {
   "cell_type": "code",
   "execution_count": null,
   "id": "ac53e938",
   "metadata": {},
   "outputs": [],
   "source": [
    "actual_data.groupby('platform')['other_sales'].sum().sort_values(ascending=False)"
   ]
  },
  {
   "cell_type": "code",
   "execution_count": null,
   "id": "ea8bdd03",
   "metadata": {},
   "outputs": [],
   "source": [
    "actual_data.groupby('platform')['other_sales'].sum().sort_values(ascending=False).plot(kind='bar', \n",
    "                                                                            xlabel='платформы', ylabel='количество проданных игр', \n",
    "                                                                            title='Популярность платформ в остальном мире')"
   ]
  },
  {
   "cell_type": "markdown",
   "id": "7eb140de",
   "metadata": {},
   "source": [
    "* Самые популярные жанры (топ-5)"
   ]
  },
  {
   "cell_type": "code",
   "execution_count": null,
   "id": "81560e33",
   "metadata": {},
   "outputs": [],
   "source": [
    "actual_data.groupby('genre')['other_sales'].sum().sort_values(ascending=False)"
   ]
  },
  {
   "cell_type": "code",
   "execution_count": null,
   "id": "9c8c42e4",
   "metadata": {},
   "outputs": [],
   "source": [
    "actual_data.groupby('genre')['other_sales'].sum().sort_values(ascending=False).plot(kind='bar', \n",
    "                                                                            xlabel='жанры', ylabel='количество проданных игр', \n",
    "                                                                            title='Популярность игровых жанров в остальном мире')"
   ]
  },
  {
   "cell_type": "markdown",
   "id": "21ec334a",
   "metadata": {},
   "source": [
    "* Влияет ли рейтинг ESRB на продажи в отдельном регионе?"
   ]
  },
  {
   "cell_type": "code",
   "execution_count": null,
   "id": "b207f67e",
   "metadata": {},
   "outputs": [],
   "source": [
    "actual_data.groupby('rating')['other_sales'].sum().sort_values(ascending=False)"
   ]
  },
  {
   "cell_type": "code",
   "execution_count": null,
   "id": "fe7bfb2e",
   "metadata": {},
   "outputs": [],
   "source": [
    "actual_data.groupby('rating')['other_sales'].sum().sort_values(ascending=False).plot(kind='bar', xlabel='рейтинг',\n",
    "                                                                             ylabel='количество проданных игр',\n",
    "                                                                             title='Популярные рейтинги игр в остальном мире')"
   ]
  },
  {
   "cell_type": "markdown",
   "id": "5d095323",
   "metadata": {},
   "source": [
    "__Вывод__\n",
    "\n",
    "В остальном мире популярны жанры игр: Action, Sports, Shooter, Racing, Misc, платформы: PS2, PS3, X360, Wii, DS. Чаще всего продаются игры с рейтингом Everyone."
   ]
  },
  {
   "cell_type": "markdown",
   "id": "2ba7b537",
   "metadata": {},
   "source": [
    "__Общий вывод__\n",
    "\n",
    "В этом разделе я исследовал популярность платформ и жанров по регионам. У каждого региона есть свой специфический вкус на платформы и игры, так, например, в Японии самым популярным жанром является Role-Playing, а в Северной Америке и Европе Action. В Европе первой место занимает PS3, в Северной Америке X360 а в Японии DS. Но основная часть жанров и платформ достаточна популярна во всех регионах, отличается лишь местом в топе. Например PS2, PS3, X360 присутствуют в каждом топе. Такая же ситуация и с жанрами в Action, Sport, и Misc играют в каждом регионе, но где-то их любят больше, где-то меньше. В Японии больше любят играть в портативные приставки."
   ]
  },
  {
   "cell_type": "markdown",
   "id": "997833fd",
   "metadata": {},
   "source": [
    "## Шаг 5. Проверьте гипотезы"
   ]
  },
  {
   "cell_type": "markdown",
   "id": "6cd00b1a",
   "metadata": {},
   "source": [
    "* __Средние пользовательские рейтинги платформ Xbox One и PC одинаковые__\n",
    "\n",
    "H0: Средние пользовательские рейтинги платформ Xbox One и PC равны\n",
    "\n",
    "H1: Средние пользовательские рейтинги платформ Xbox One и PC не равны"
   ]
  },
  {
   "cell_type": "code",
   "execution_count": null,
   "id": "97210ebf",
   "metadata": {},
   "outputs": [],
   "source": [
    "xone_user_score = actual_data.query('platform == \"XOne\"')['user_score'].dropna().reset_index(drop=True)"
   ]
  },
  {
   "cell_type": "code",
   "execution_count": null,
   "id": "82521226",
   "metadata": {},
   "outputs": [],
   "source": [
    "len(xone_user_score)"
   ]
  },
  {
   "cell_type": "code",
   "execution_count": null,
   "id": "57b9b983",
   "metadata": {},
   "outputs": [],
   "source": [
    "statistics.pvariance(xone_user_score)"
   ]
  },
  {
   "cell_type": "code",
   "execution_count": null,
   "id": "2a232596",
   "metadata": {},
   "outputs": [],
   "source": [
    "pc_user_score = actual_data.query('platform == \"PC\"')['user_score'].dropna().reset_index(drop=True)"
   ]
  },
  {
   "cell_type": "code",
   "execution_count": null,
   "id": "4b670625",
   "metadata": {},
   "outputs": [],
   "source": [
    "len(pc_user_score)"
   ]
  },
  {
   "cell_type": "code",
   "execution_count": null,
   "id": "1700d6be",
   "metadata": {},
   "outputs": [],
   "source": [
    "statistics.pvariance(pc_user_score)"
   ]
  },
  {
   "cell_type": "code",
   "execution_count": null,
   "id": "08aba6f5",
   "metadata": {},
   "outputs": [],
   "source": [
    "alpha = 0.05\n",
    "result_1 = st.ttest_ind(xone_user_score,\n",
    "                        pc_user_score, equal_var=False)\n",
    "\n",
    "if result_1.pvalue < alpha:\n",
    "    print('Отвергаем нулевую гипотезу')\n",
    "else:\n",
    "    print('Не получилось отвергнуть нулевую гипотезу')\n",
    "print('p-значение', result_1.pvalue)"
   ]
  },
  {
   "cell_type": "markdown",
   "id": "a38ed0b9",
   "metadata": {},
   "source": [
    "__Вывод__\n",
    "\n",
    "В ходе статистического теста, нулевая гипотеза отвергается в пользу алтернативной. Нулевая гипотеза сформулирована как равенство двух средних. Альтернативная гипотеза является двусторонней."
   ]
  },
  {
   "cell_type": "markdown",
   "id": "8d0bc1b4",
   "metadata": {},
   "source": [
    "* __Средние пользовательские рейтинги жанров Action (англ. «действие», экшен-игры) и Sports (англ. «спортивные соревнования») разные__"
   ]
  },
  {
   "cell_type": "markdown",
   "id": "8913a04e",
   "metadata": {},
   "source": [
    "H0: Средние пользовательские рейтинги жанров Action и Sports равны\n",
    "\n",
    "H1: Средние пользовательские рейтинги жанров Action и Sports не равны"
   ]
  },
  {
   "cell_type": "code",
   "execution_count": null,
   "id": "5af649f4",
   "metadata": {},
   "outputs": [],
   "source": [
    "action_user_score = actual_data.query('genre ==  \"Action\"')['user_score'].dropna().reset_index(drop=True)"
   ]
  },
  {
   "cell_type": "code",
   "execution_count": null,
   "id": "3b64cf26",
   "metadata": {},
   "outputs": [],
   "source": [
    "len(action_user_score)"
   ]
  },
  {
   "cell_type": "code",
   "execution_count": null,
   "id": "b3033a9a",
   "metadata": {},
   "outputs": [],
   "source": [
    "sports_user_score = actual_data.query('genre ==  \"Sports\"')['user_score'].dropna().reset_index(drop=True)"
   ]
  },
  {
   "cell_type": "code",
   "execution_count": null,
   "id": "f63f472d",
   "metadata": {},
   "outputs": [],
   "source": [
    "len(sports_user_score)"
   ]
  },
  {
   "cell_type": "code",
   "execution_count": null,
   "id": "e097ef65",
   "metadata": {},
   "outputs": [],
   "source": [
    "result_2 = st.ttest_ind(action_user_score,\n",
    "                        sports_user_score)\n",
    "\n",
    "if result_2.pvalue < alpha:\n",
    "    print('Отвергаем нулевую гипотезу')\n",
    "else:\n",
    "    print('Не получилось отвергнуть нулевую гипотезу')\n",
    "print('p-значение', result_2.pvalue)"
   ]
  },
  {
   "cell_type": "markdown",
   "id": "f9d74831",
   "metadata": {},
   "source": [
    "__Вывод__\n",
    "\n",
    "В ходе статистического теста, нулевая гипотеза отвергается в пользу альтернативной. Нулевая гипотеза сформулирована как равенство двух средних. Альтернативная гипотеза является двусторонней."
   ]
  },
  {
   "cell_type": "markdown",
   "id": "7a557a8f",
   "metadata": {},
   "source": [
    "## Шаг 6. Общий вывод"
   ]
  },
  {
   "cell_type": "markdown",
   "id": "466a23ae",
   "metadata": {},
   "source": [
    "В ходе исследования я выявил \"жизненный цикл\" платформ, это период времени в течение которого платформы явяляются актуальными и именно в этот период выпускаются игры на эти платформы. Если есть понимание о том какие платформы сейчас актуальны, то резонно сделать акцент на продажу игр именно на эти платформы. Я выделил следующие актуальные платформы, которые либо только начинают свой \"цикл\", либо которые прошли середину и так же являются актуальными, это PS4, XOne, PSV и 3DS. Большие продажи зависят и от популярности игры, популярный игры продаются в больших экземплярах, чем менее популярные. Оценки критиков и пользователей не сильно влияют на продаваемость игры и опираться в продажах, только исходя из оценок не лучшая стратегия. Стоит обратить внимание на жанр игр. Есть жанры игр, которые нравятся большинству игроков, а есть которые подходят лишь небольшому кругу игроков. Я выделил самые популярные жанры, которые очень востребованы, это Action, Sports, Shooter и Role-Playing. Эти жанры универсально востребованы во всех регионов, но где-то они продаются лучше, где-то хуже. \n",
    "\n",
    "Подводя итог, бизнесу я хочу порекомендовать следующее:\n",
    "1. Сосредоточиться на продажах игр на актуальные платформы. (PS4, XOne, PSV и 3DS)\n",
    "2. Всегда иметь в продаже популярные игры, отслеживать даты громких релизов.\n",
    "3. В зависимости от региона сделать акцент на популярные жанры.\n",
    "   - Европа: Action, Sport, Shooter, Racing, Misc\n",
    "   - Северная Америка: Action, Sport, Shooter, Platform, Misc\n",
    "   - Япония: Role-Playing, Action, Sport, Platform, Misc"
   ]
  }
 ],
 "metadata": {
  "ExecuteTimeLog": [
   {
    "duration": 1455,
    "start_time": "2023-08-14T11:54:47.010Z"
   },
   {
    "duration": 4,
    "start_time": "2023-08-14T11:54:48.468Z"
   },
   {
    "duration": 204,
    "start_time": "2023-08-14T11:54:48.474Z"
   },
   {
    "duration": 3,
    "start_time": "2023-08-14T11:54:48.681Z"
   },
   {
    "duration": 29,
    "start_time": "2023-08-14T11:54:48.686Z"
   },
   {
    "duration": 28,
    "start_time": "2023-08-14T11:54:48.717Z"
   },
   {
    "duration": 6,
    "start_time": "2023-08-14T11:54:48.746Z"
   },
   {
    "duration": 32,
    "start_time": "2023-08-14T11:54:48.754Z"
   },
   {
    "duration": 22,
    "start_time": "2023-08-14T11:54:48.788Z"
   },
   {
    "duration": 14,
    "start_time": "2023-08-14T11:54:48.813Z"
   },
   {
    "duration": 10,
    "start_time": "2023-08-14T11:54:48.829Z"
   },
   {
    "duration": 15,
    "start_time": "2023-08-14T11:54:48.842Z"
   },
   {
    "duration": 10,
    "start_time": "2023-08-14T11:54:48.859Z"
   },
   {
    "duration": 15,
    "start_time": "2023-08-14T11:54:48.872Z"
   },
   {
    "duration": 13,
    "start_time": "2023-08-14T11:54:48.889Z"
   },
   {
    "duration": 10,
    "start_time": "2023-08-14T11:54:48.904Z"
   },
   {
    "duration": 14,
    "start_time": "2023-08-14T11:54:48.917Z"
   },
   {
    "duration": 7,
    "start_time": "2023-08-14T11:54:48.933Z"
   },
   {
    "duration": 13,
    "start_time": "2023-08-14T11:54:48.942Z"
   },
   {
    "duration": 10,
    "start_time": "2023-08-14T11:54:48.958Z"
   },
   {
    "duration": 252,
    "start_time": "2023-08-14T11:54:48.970Z"
   },
   {
    "duration": 460,
    "start_time": "2023-08-14T11:54:49.224Z"
   },
   {
    "duration": 2379,
    "start_time": "2023-08-14T11:54:49.686Z"
   },
   {
    "duration": 399,
    "start_time": "2023-08-14T11:54:52.067Z"
   },
   {
    "duration": 3,
    "start_time": "2023-08-14T11:54:52.467Z"
   },
   {
    "duration": 814,
    "start_time": "2023-08-14T11:54:52.472Z"
   },
   {
    "duration": 24,
    "start_time": "2023-08-14T11:54:53.288Z"
   },
   {
    "duration": 412,
    "start_time": "2023-08-14T11:54:53.317Z"
   },
   {
    "duration": 3,
    "start_time": "2023-08-14T11:54:53.731Z"
   },
   {
    "duration": 23,
    "start_time": "2023-08-14T11:54:53.735Z"
   },
   {
    "duration": 272,
    "start_time": "2023-08-14T11:54:53.760Z"
   },
   {
    "duration": 26,
    "start_time": "2023-08-14T11:54:54.034Z"
   },
   {
    "duration": 253,
    "start_time": "2023-08-14T11:54:54.062Z"
   },
   {
    "duration": 13,
    "start_time": "2023-08-14T11:54:54.317Z"
   },
   {
    "duration": 345,
    "start_time": "2023-08-14T11:54:54.332Z"
   },
   {
    "duration": 232,
    "start_time": "2023-08-14T11:54:54.679Z"
   },
   {
    "duration": 251,
    "start_time": "2023-08-14T11:54:54.913Z"
   },
   {
    "duration": 267,
    "start_time": "2023-08-14T11:54:55.166Z"
   },
   {
    "duration": 13,
    "start_time": "2023-08-14T11:54:55.435Z"
   },
   {
    "duration": 258,
    "start_time": "2023-08-14T11:54:55.459Z"
   },
   {
    "duration": 252,
    "start_time": "2023-08-14T11:54:55.719Z"
   },
   {
    "duration": 13,
    "start_time": "2023-08-14T11:54:55.973Z"
   },
   {
    "duration": 245,
    "start_time": "2023-08-14T11:54:55.987Z"
   },
   {
    "duration": 239,
    "start_time": "2023-08-14T11:54:56.234Z"
   },
   {
    "duration": 14,
    "start_time": "2023-08-14T11:54:56.475Z"
   },
   {
    "duration": 27,
    "start_time": "2023-08-14T11:54:56.491Z"
   },
   {
    "duration": 298,
    "start_time": "2023-08-14T11:54:56.520Z"
   },
   {
    "duration": 195,
    "start_time": "2023-08-14T11:54:56.820Z"
   },
   {
    "duration": 3,
    "start_time": "2023-08-14T11:54:57.017Z"
   },
   {
    "duration": 279,
    "start_time": "2023-08-14T11:54:57.021Z"
   },
   {
    "duration": 9,
    "start_time": "2023-08-14T11:54:57.302Z"
   },
   {
    "duration": 389,
    "start_time": "2023-08-14T11:54:57.313Z"
   },
   {
    "duration": 9,
    "start_time": "2023-08-14T11:54:57.704Z"
   },
   {
    "duration": 453,
    "start_time": "2023-08-14T11:54:57.715Z"
   },
   {
    "duration": 9,
    "start_time": "2023-08-14T11:54:58.170Z"
   },
   {
    "duration": 27,
    "start_time": "2023-08-14T11:54:58.181Z"
   },
   {
    "duration": 280,
    "start_time": "2023-08-14T11:54:58.210Z"
   },
   {
    "duration": 11,
    "start_time": "2023-08-14T11:54:58.492Z"
   },
   {
    "duration": 390,
    "start_time": "2023-08-14T11:54:58.505Z"
   },
   {
    "duration": 9,
    "start_time": "2023-08-14T11:54:58.897Z"
   },
   {
    "duration": 273,
    "start_time": "2023-08-14T11:54:58.908Z"
   },
   {
    "duration": 9,
    "start_time": "2023-08-14T11:54:59.183Z"
   },
   {
    "duration": 250,
    "start_time": "2023-08-14T11:54:59.194Z"
   },
   {
    "duration": 17,
    "start_time": "2023-08-14T11:54:59.446Z"
   },
   {
    "duration": 406,
    "start_time": "2023-08-14T11:54:59.465Z"
   },
   {
    "duration": 8,
    "start_time": "2023-08-14T11:54:59.873Z"
   },
   {
    "duration": 341,
    "start_time": "2023-08-14T11:54:59.882Z"
   },
   {
    "duration": 8,
    "start_time": "2023-08-14T11:55:00.225Z"
   },
   {
    "duration": 249,
    "start_time": "2023-08-14T11:55:00.235Z"
   },
   {
    "duration": 11,
    "start_time": "2023-08-14T11:55:00.486Z"
   },
   {
    "duration": 417,
    "start_time": "2023-08-14T11:55:00.498Z"
   },
   {
    "duration": 10,
    "start_time": "2023-08-14T11:55:00.917Z"
   },
   {
    "duration": 296,
    "start_time": "2023-08-14T11:55:00.928Z"
   },
   {
    "duration": 10,
    "start_time": "2023-08-14T11:55:01.226Z"
   },
   {
    "duration": 260,
    "start_time": "2023-08-14T11:55:01.238Z"
   },
   {
    "duration": 7,
    "start_time": "2023-08-14T11:55:01.500Z"
   },
   {
    "duration": 75,
    "start_time": "2023-08-14T11:55:01.510Z"
   },
   {
    "duration": 64,
    "start_time": "2023-08-14T11:55:01.588Z"
   },
   {
    "duration": 51,
    "start_time": "2023-08-14T11:55:01.654Z"
   },
   {
    "duration": 56,
    "start_time": "2023-08-14T11:55:01.706Z"
   },
   {
    "duration": 44,
    "start_time": "2023-08-14T11:55:01.764Z"
   },
   {
    "duration": 64,
    "start_time": "2023-08-14T11:55:01.815Z"
   },
   {
    "duration": 102,
    "start_time": "2023-08-14T11:55:01.881Z"
   },
   {
    "duration": 47,
    "start_time": "2023-08-14T11:55:01.985Z"
   },
   {
    "duration": 56,
    "start_time": "2023-08-14T11:55:02.034Z"
   },
   {
    "duration": 24,
    "start_time": "2023-08-14T11:55:02.092Z"
   },
   {
    "duration": 71,
    "start_time": "2023-08-14T11:55:02.119Z"
   },
   {
    "duration": 52,
    "start_time": "2023-08-15T07:08:39.252Z"
   },
   {
    "duration": 1425,
    "start_time": "2023-08-15T07:08:45.072Z"
   },
   {
    "duration": 3,
    "start_time": "2023-08-15T07:08:46.499Z"
   },
   {
    "duration": 309,
    "start_time": "2023-08-15T07:08:46.504Z"
   },
   {
    "duration": 3,
    "start_time": "2023-08-15T07:08:46.815Z"
   },
   {
    "duration": 34,
    "start_time": "2023-08-15T07:08:46.821Z"
   },
   {
    "duration": 19,
    "start_time": "2023-08-15T07:08:46.857Z"
   },
   {
    "duration": 13,
    "start_time": "2023-08-15T07:08:46.878Z"
   },
   {
    "duration": 31,
    "start_time": "2023-08-15T07:08:46.893Z"
   },
   {
    "duration": 21,
    "start_time": "2023-08-15T07:08:46.925Z"
   },
   {
    "duration": 23,
    "start_time": "2023-08-15T07:08:46.947Z"
   },
   {
    "duration": 9,
    "start_time": "2023-08-15T07:08:46.972Z"
   },
   {
    "duration": 20,
    "start_time": "2023-08-15T07:08:46.983Z"
   },
   {
    "duration": 24,
    "start_time": "2023-08-15T07:08:47.005Z"
   },
   {
    "duration": 10,
    "start_time": "2023-08-15T07:08:47.033Z"
   },
   {
    "duration": 8,
    "start_time": "2023-08-15T07:08:47.045Z"
   },
   {
    "duration": 18,
    "start_time": "2023-08-15T07:08:47.054Z"
   },
   {
    "duration": 14,
    "start_time": "2023-08-15T07:08:47.074Z"
   },
   {
    "duration": 12,
    "start_time": "2023-08-15T07:08:47.090Z"
   },
   {
    "duration": 10,
    "start_time": "2023-08-15T07:08:47.104Z"
   },
   {
    "duration": 6,
    "start_time": "2023-08-15T07:08:47.116Z"
   },
   {
    "duration": 15,
    "start_time": "2023-08-15T07:08:47.124Z"
   },
   {
    "duration": 22,
    "start_time": "2023-08-15T07:08:47.141Z"
   },
   {
    "duration": 15,
    "start_time": "2023-08-15T07:08:47.164Z"
   },
   {
    "duration": 5,
    "start_time": "2023-08-15T07:08:47.181Z"
   },
   {
    "duration": 229,
    "start_time": "2023-08-15T07:08:47.188Z"
   },
   {
    "duration": 430,
    "start_time": "2023-08-15T07:08:47.419Z"
   },
   {
    "duration": 2355,
    "start_time": "2023-08-15T07:08:47.851Z"
   },
   {
    "duration": 370,
    "start_time": "2023-08-15T07:08:50.208Z"
   },
   {
    "duration": 3,
    "start_time": "2023-08-15T07:08:50.580Z"
   },
   {
    "duration": 735,
    "start_time": "2023-08-15T07:08:50.584Z"
   },
   {
    "duration": 122,
    "start_time": "2023-08-15T07:08:51.321Z"
   },
   {
    "duration": 0,
    "start_time": "2023-08-15T07:08:51.446Z"
   },
   {
    "duration": 0,
    "start_time": "2023-08-15T07:08:51.447Z"
   },
   {
    "duration": 0,
    "start_time": "2023-08-15T07:08:51.448Z"
   },
   {
    "duration": 0,
    "start_time": "2023-08-15T07:08:51.449Z"
   },
   {
    "duration": 0,
    "start_time": "2023-08-15T07:08:51.450Z"
   },
   {
    "duration": 0,
    "start_time": "2023-08-15T07:08:51.452Z"
   },
   {
    "duration": 0,
    "start_time": "2023-08-15T07:08:51.453Z"
   },
   {
    "duration": 0,
    "start_time": "2023-08-15T07:08:51.454Z"
   },
   {
    "duration": 0,
    "start_time": "2023-08-15T07:08:51.455Z"
   },
   {
    "duration": 0,
    "start_time": "2023-08-15T07:08:51.456Z"
   },
   {
    "duration": 0,
    "start_time": "2023-08-15T07:08:51.457Z"
   },
   {
    "duration": 0,
    "start_time": "2023-08-15T07:08:51.458Z"
   },
   {
    "duration": 0,
    "start_time": "2023-08-15T07:08:51.463Z"
   },
   {
    "duration": 0,
    "start_time": "2023-08-15T07:08:51.464Z"
   },
   {
    "duration": 0,
    "start_time": "2023-08-15T07:08:51.465Z"
   },
   {
    "duration": 0,
    "start_time": "2023-08-15T07:08:51.466Z"
   },
   {
    "duration": 0,
    "start_time": "2023-08-15T07:08:51.467Z"
   },
   {
    "duration": 0,
    "start_time": "2023-08-15T07:08:51.468Z"
   },
   {
    "duration": 0,
    "start_time": "2023-08-15T07:08:51.469Z"
   },
   {
    "duration": 0,
    "start_time": "2023-08-15T07:08:51.469Z"
   },
   {
    "duration": 0,
    "start_time": "2023-08-15T07:08:51.474Z"
   },
   {
    "duration": 0,
    "start_time": "2023-08-15T07:08:51.476Z"
   },
   {
    "duration": 0,
    "start_time": "2023-08-15T07:08:51.477Z"
   },
   {
    "duration": 0,
    "start_time": "2023-08-15T07:08:51.477Z"
   },
   {
    "duration": 0,
    "start_time": "2023-08-15T07:08:51.478Z"
   },
   {
    "duration": 0,
    "start_time": "2023-08-15T07:08:51.479Z"
   },
   {
    "duration": 0,
    "start_time": "2023-08-15T07:08:51.481Z"
   },
   {
    "duration": 0,
    "start_time": "2023-08-15T07:08:51.483Z"
   },
   {
    "duration": 0,
    "start_time": "2023-08-15T07:08:51.485Z"
   },
   {
    "duration": 0,
    "start_time": "2023-08-15T07:08:51.486Z"
   },
   {
    "duration": 0,
    "start_time": "2023-08-15T07:08:51.487Z"
   },
   {
    "duration": 0,
    "start_time": "2023-08-15T07:08:51.488Z"
   },
   {
    "duration": 0,
    "start_time": "2023-08-15T07:08:51.489Z"
   },
   {
    "duration": 0,
    "start_time": "2023-08-15T07:08:51.490Z"
   },
   {
    "duration": 0,
    "start_time": "2023-08-15T07:08:51.492Z"
   },
   {
    "duration": 0,
    "start_time": "2023-08-15T07:08:51.493Z"
   },
   {
    "duration": 0,
    "start_time": "2023-08-15T07:08:51.495Z"
   },
   {
    "duration": 0,
    "start_time": "2023-08-15T07:08:51.496Z"
   },
   {
    "duration": 0,
    "start_time": "2023-08-15T07:08:51.498Z"
   },
   {
    "duration": 0,
    "start_time": "2023-08-15T07:08:51.500Z"
   },
   {
    "duration": 0,
    "start_time": "2023-08-15T07:08:51.501Z"
   },
   {
    "duration": 0,
    "start_time": "2023-08-15T07:08:51.502Z"
   },
   {
    "duration": 0,
    "start_time": "2023-08-15T07:08:51.503Z"
   },
   {
    "duration": 0,
    "start_time": "2023-08-15T07:08:51.559Z"
   },
   {
    "duration": 0,
    "start_time": "2023-08-15T07:08:51.559Z"
   },
   {
    "duration": 0,
    "start_time": "2023-08-15T07:08:51.560Z"
   },
   {
    "duration": 0,
    "start_time": "2023-08-15T07:08:51.561Z"
   },
   {
    "duration": 0,
    "start_time": "2023-08-15T07:08:51.562Z"
   },
   {
    "duration": 1,
    "start_time": "2023-08-15T07:08:51.562Z"
   },
   {
    "duration": 0,
    "start_time": "2023-08-15T07:08:51.563Z"
   },
   {
    "duration": 0,
    "start_time": "2023-08-15T07:08:51.565Z"
   },
   {
    "duration": 0,
    "start_time": "2023-08-15T07:08:51.570Z"
   },
   {
    "duration": 0,
    "start_time": "2023-08-15T07:08:51.571Z"
   },
   {
    "duration": 0,
    "start_time": "2023-08-15T07:08:51.574Z"
   },
   {
    "duration": 0,
    "start_time": "2023-08-15T07:08:51.576Z"
   },
   {
    "duration": 0,
    "start_time": "2023-08-15T07:08:51.578Z"
   },
   {
    "duration": 0,
    "start_time": "2023-08-15T07:08:51.581Z"
   },
   {
    "duration": 0,
    "start_time": "2023-08-15T07:08:51.582Z"
   },
   {
    "duration": 0,
    "start_time": "2023-08-15T07:08:51.584Z"
   },
   {
    "duration": 0,
    "start_time": "2023-08-15T07:08:51.585Z"
   },
   {
    "duration": 0,
    "start_time": "2023-08-15T07:08:51.586Z"
   },
   {
    "duration": 0,
    "start_time": "2023-08-15T07:08:51.587Z"
   },
   {
    "duration": 0,
    "start_time": "2023-08-15T07:08:51.588Z"
   },
   {
    "duration": 7,
    "start_time": "2023-08-15T07:15:44.030Z"
   },
   {
    "duration": 406,
    "start_time": "2023-08-15T07:15:44.847Z"
   },
   {
    "duration": 3,
    "start_time": "2023-08-15T07:15:46.236Z"
   },
   {
    "duration": 6,
    "start_time": "2023-08-15T07:16:07.827Z"
   },
   {
    "duration": 263,
    "start_time": "2023-08-15T07:16:08.178Z"
   },
   {
    "duration": 91,
    "start_time": "2023-08-15T07:17:54.852Z"
   },
   {
    "duration": 388,
    "start_time": "2023-08-15T07:18:58.421Z"
   },
   {
    "duration": 343,
    "start_time": "2023-08-15T07:37:08.893Z"
   },
   {
    "duration": 37,
    "start_time": "2023-08-15T07:37:35.552Z"
   },
   {
    "duration": 29,
    "start_time": "2023-08-15T07:37:48.999Z"
   },
   {
    "duration": 41,
    "start_time": "2023-08-15T07:38:13.237Z"
   },
   {
    "duration": 53,
    "start_time": "2023-08-15T07:38:20.135Z"
   },
   {
    "duration": 34,
    "start_time": "2023-08-15T07:38:39.582Z"
   },
   {
    "duration": 49,
    "start_time": "2023-08-15T07:38:52.559Z"
   },
   {
    "duration": 3,
    "start_time": "2023-08-15T07:45:52.761Z"
   },
   {
    "duration": 43,
    "start_time": "2023-08-15T07:46:11.137Z"
   },
   {
    "duration": 280,
    "start_time": "2023-08-15T07:46:35.906Z"
   },
   {
    "duration": 6,
    "start_time": "2023-08-15T07:46:41.914Z"
   },
   {
    "duration": 322,
    "start_time": "2023-08-15T07:46:43.890Z"
   },
   {
    "duration": 469,
    "start_time": "2023-08-15T07:57:53.937Z"
   },
   {
    "duration": 1322,
    "start_time": "2023-08-15T08:00:40.097Z"
   },
   {
    "duration": 3,
    "start_time": "2023-08-15T08:00:41.421Z"
   },
   {
    "duration": 120,
    "start_time": "2023-08-15T08:00:41.426Z"
   },
   {
    "duration": 3,
    "start_time": "2023-08-15T08:00:41.548Z"
   },
   {
    "duration": 21,
    "start_time": "2023-08-15T08:00:41.553Z"
   },
   {
    "duration": 25,
    "start_time": "2023-08-15T08:00:41.575Z"
   },
   {
    "duration": 14,
    "start_time": "2023-08-15T08:00:41.602Z"
   },
   {
    "duration": 21,
    "start_time": "2023-08-15T08:00:41.618Z"
   },
   {
    "duration": 14,
    "start_time": "2023-08-15T08:00:41.641Z"
   },
   {
    "duration": 24,
    "start_time": "2023-08-15T08:00:41.656Z"
   },
   {
    "duration": 9,
    "start_time": "2023-08-15T08:00:41.682Z"
   },
   {
    "duration": 31,
    "start_time": "2023-08-15T08:00:41.692Z"
   },
   {
    "duration": 38,
    "start_time": "2023-08-15T08:00:41.724Z"
   },
   {
    "duration": 17,
    "start_time": "2023-08-15T08:00:41.765Z"
   },
   {
    "duration": 7,
    "start_time": "2023-08-15T08:00:41.783Z"
   },
   {
    "duration": 12,
    "start_time": "2023-08-15T08:00:41.792Z"
   },
   {
    "duration": 10,
    "start_time": "2023-08-15T08:00:41.806Z"
   },
   {
    "duration": 8,
    "start_time": "2023-08-15T08:00:41.817Z"
   },
   {
    "duration": 14,
    "start_time": "2023-08-15T08:00:41.826Z"
   },
   {
    "duration": 8,
    "start_time": "2023-08-15T08:00:41.842Z"
   },
   {
    "duration": 9,
    "start_time": "2023-08-15T08:00:41.852Z"
   },
   {
    "duration": 10,
    "start_time": "2023-08-15T08:00:41.863Z"
   },
   {
    "duration": 7,
    "start_time": "2023-08-15T08:00:41.875Z"
   },
   {
    "duration": 4,
    "start_time": "2023-08-15T08:00:41.885Z"
   },
   {
    "duration": 396,
    "start_time": "2023-08-15T08:00:41.892Z"
   },
   {
    "duration": 431,
    "start_time": "2023-08-15T08:00:42.290Z"
   },
   {
    "duration": 2281,
    "start_time": "2023-08-15T08:00:42.723Z"
   },
   {
    "duration": 374,
    "start_time": "2023-08-15T08:00:45.006Z"
   },
   {
    "duration": 3,
    "start_time": "2023-08-15T08:00:45.382Z"
   },
   {
    "duration": 724,
    "start_time": "2023-08-15T08:00:45.387Z"
   },
   {
    "duration": 6,
    "start_time": "2023-08-15T08:00:46.113Z"
   },
   {
    "duration": 390,
    "start_time": "2023-08-15T08:00:46.121Z"
   },
   {
    "duration": 47,
    "start_time": "2023-08-15T08:00:46.513Z"
   },
   {
    "duration": 3,
    "start_time": "2023-08-15T08:00:46.562Z"
   },
   {
    "duration": 13,
    "start_time": "2023-08-15T08:00:46.566Z"
   },
   {
    "duration": 296,
    "start_time": "2023-08-15T08:00:46.581Z"
   },
   {
    "duration": 15,
    "start_time": "2023-08-15T08:00:46.879Z"
   },
   {
    "duration": 335,
    "start_time": "2023-08-15T08:00:46.896Z"
   },
   {
    "duration": 26,
    "start_time": "2023-08-15T08:00:47.233Z"
   },
   {
    "duration": 229,
    "start_time": "2023-08-15T08:00:47.260Z"
   },
   {
    "duration": 220,
    "start_time": "2023-08-15T08:00:47.494Z"
   },
   {
    "duration": 228,
    "start_time": "2023-08-15T08:00:47.716Z"
   },
   {
    "duration": 229,
    "start_time": "2023-08-15T08:00:47.946Z"
   },
   {
    "duration": 12,
    "start_time": "2023-08-15T08:00:48.176Z"
   },
   {
    "duration": 238,
    "start_time": "2023-08-15T08:00:48.190Z"
   },
   {
    "duration": 242,
    "start_time": "2023-08-15T08:00:48.429Z"
   },
   {
    "duration": 14,
    "start_time": "2023-08-15T08:00:48.673Z"
   },
   {
    "duration": 236,
    "start_time": "2023-08-15T08:00:48.688Z"
   },
   {
    "duration": 221,
    "start_time": "2023-08-15T08:00:48.925Z"
   },
   {
    "duration": 19,
    "start_time": "2023-08-15T08:00:49.148Z"
   },
   {
    "duration": 19,
    "start_time": "2023-08-15T08:00:49.169Z"
   },
   {
    "duration": 256,
    "start_time": "2023-08-15T08:00:49.189Z"
   },
   {
    "duration": 187,
    "start_time": "2023-08-15T08:00:49.447Z"
   },
   {
    "duration": 2,
    "start_time": "2023-08-15T08:00:49.636Z"
   },
   {
    "duration": 336,
    "start_time": "2023-08-15T08:00:49.640Z"
   },
   {
    "duration": 486,
    "start_time": "2023-08-15T08:00:49.978Z"
   },
   {
    "duration": 335,
    "start_time": "2023-08-15T08:00:50.465Z"
   },
   {
    "duration": 9,
    "start_time": "2023-08-15T08:00:50.802Z"
   },
   {
    "duration": 322,
    "start_time": "2023-08-15T08:00:50.813Z"
   },
   {
    "duration": 8,
    "start_time": "2023-08-15T08:00:51.137Z"
   },
   {
    "duration": 296,
    "start_time": "2023-08-15T08:00:51.147Z"
   },
   {
    "duration": 7,
    "start_time": "2023-08-15T08:00:51.445Z"
   },
   {
    "duration": 9,
    "start_time": "2023-08-15T08:00:51.459Z"
   },
   {
    "duration": 182,
    "start_time": "2023-08-15T08:00:51.470Z"
   },
   {
    "duration": 8,
    "start_time": "2023-08-15T08:00:51.658Z"
   },
   {
    "duration": 225,
    "start_time": "2023-08-15T08:00:51.668Z"
   },
   {
    "duration": 8,
    "start_time": "2023-08-15T08:00:51.895Z"
   },
   {
    "duration": 261,
    "start_time": "2023-08-15T08:00:51.904Z"
   },
   {
    "duration": 8,
    "start_time": "2023-08-15T08:00:52.167Z"
   },
   {
    "duration": 210,
    "start_time": "2023-08-15T08:00:52.177Z"
   },
   {
    "duration": 9,
    "start_time": "2023-08-15T08:00:52.389Z"
   },
   {
    "duration": 261,
    "start_time": "2023-08-15T08:00:52.401Z"
   },
   {
    "duration": 7,
    "start_time": "2023-08-15T08:00:52.664Z"
   },
   {
    "duration": 247,
    "start_time": "2023-08-15T08:00:52.673Z"
   },
   {
    "duration": 8,
    "start_time": "2023-08-15T08:00:52.922Z"
   },
   {
    "duration": 216,
    "start_time": "2023-08-15T08:00:52.932Z"
   },
   {
    "duration": 11,
    "start_time": "2023-08-15T08:00:53.150Z"
   },
   {
    "duration": 252,
    "start_time": "2023-08-15T08:00:53.162Z"
   },
   {
    "duration": 8,
    "start_time": "2023-08-15T08:00:53.415Z"
   },
   {
    "duration": 270,
    "start_time": "2023-08-15T08:00:53.425Z"
   },
   {
    "duration": 7,
    "start_time": "2023-08-15T08:00:53.697Z"
   },
   {
    "duration": 199,
    "start_time": "2023-08-15T08:00:53.705Z"
   },
   {
    "duration": 7,
    "start_time": "2023-08-15T08:00:53.906Z"
   },
   {
    "duration": 43,
    "start_time": "2023-08-15T08:00:53.915Z"
   },
   {
    "duration": 48,
    "start_time": "2023-08-15T08:00:53.960Z"
   },
   {
    "duration": 69,
    "start_time": "2023-08-15T08:00:54.010Z"
   },
   {
    "duration": 26,
    "start_time": "2023-08-15T08:00:54.081Z"
   },
   {
    "duration": 38,
    "start_time": "2023-08-15T08:00:54.109Z"
   },
   {
    "duration": 25,
    "start_time": "2023-08-15T08:00:54.149Z"
   },
   {
    "duration": 22,
    "start_time": "2023-08-15T08:00:54.176Z"
   },
   {
    "duration": 20,
    "start_time": "2023-08-15T08:00:54.201Z"
   },
   {
    "duration": 25,
    "start_time": "2023-08-15T08:00:54.223Z"
   },
   {
    "duration": 20,
    "start_time": "2023-08-15T08:00:54.251Z"
   },
   {
    "duration": 30,
    "start_time": "2023-08-15T08:00:54.274Z"
   },
   {
    "duration": 112,
    "start_time": "2023-08-15T08:24:13.491Z"
   },
   {
    "duration": 287,
    "start_time": "2023-08-15T08:34:44.860Z"
   },
   {
    "duration": 15,
    "start_time": "2023-08-15T08:35:19.903Z"
   },
   {
    "duration": 11,
    "start_time": "2023-08-15T08:35:35.082Z"
   },
   {
    "duration": 140,
    "start_time": "2023-08-15T08:36:28.149Z"
   },
   {
    "duration": 19,
    "start_time": "2023-08-15T08:36:31.037Z"
   },
   {
    "duration": 22,
    "start_time": "2023-08-15T08:36:40.783Z"
   },
   {
    "duration": 86,
    "start_time": "2023-08-15T08:36:49.692Z"
   },
   {
    "duration": 447,
    "start_time": "2023-08-15T08:36:52.786Z"
   },
   {
    "duration": 611,
    "start_time": "2023-08-15T08:37:19.928Z"
   },
   {
    "duration": 378,
    "start_time": "2023-08-15T08:37:36.169Z"
   },
   {
    "duration": 433,
    "start_time": "2023-08-15T08:37:51.677Z"
   },
   {
    "duration": 1281,
    "start_time": "2023-08-15T08:51:59.833Z"
   },
   {
    "duration": 4,
    "start_time": "2023-08-15T08:52:01.116Z"
   },
   {
    "duration": 143,
    "start_time": "2023-08-15T08:52:01.122Z"
   },
   {
    "duration": 3,
    "start_time": "2023-08-15T08:52:01.267Z"
   },
   {
    "duration": 38,
    "start_time": "2023-08-15T08:52:01.272Z"
   },
   {
    "duration": 46,
    "start_time": "2023-08-15T08:52:01.312Z"
   },
   {
    "duration": 34,
    "start_time": "2023-08-15T08:52:01.360Z"
   },
   {
    "duration": 38,
    "start_time": "2023-08-15T08:52:01.396Z"
   },
   {
    "duration": 22,
    "start_time": "2023-08-15T08:52:01.436Z"
   },
   {
    "duration": 28,
    "start_time": "2023-08-15T08:52:01.460Z"
   },
   {
    "duration": 39,
    "start_time": "2023-08-15T08:52:01.492Z"
   },
   {
    "duration": 31,
    "start_time": "2023-08-15T08:52:01.533Z"
   },
   {
    "duration": 42,
    "start_time": "2023-08-15T08:52:01.566Z"
   },
   {
    "duration": 33,
    "start_time": "2023-08-15T08:52:01.611Z"
   },
   {
    "duration": 28,
    "start_time": "2023-08-15T08:52:01.646Z"
   },
   {
    "duration": 24,
    "start_time": "2023-08-15T08:52:01.676Z"
   },
   {
    "duration": 34,
    "start_time": "2023-08-15T08:52:01.701Z"
   },
   {
    "duration": 42,
    "start_time": "2023-08-15T08:52:01.737Z"
   },
   {
    "duration": 40,
    "start_time": "2023-08-15T08:52:01.781Z"
   },
   {
    "duration": 39,
    "start_time": "2023-08-15T08:52:01.822Z"
   },
   {
    "duration": 25,
    "start_time": "2023-08-15T08:52:01.863Z"
   },
   {
    "duration": 47,
    "start_time": "2023-08-15T08:52:01.890Z"
   },
   {
    "duration": 34,
    "start_time": "2023-08-15T08:52:01.939Z"
   },
   {
    "duration": 36,
    "start_time": "2023-08-15T08:52:01.974Z"
   },
   {
    "duration": 268,
    "start_time": "2023-08-15T08:52:02.012Z"
   },
   {
    "duration": 478,
    "start_time": "2023-08-15T08:52:02.283Z"
   },
   {
    "duration": 2347,
    "start_time": "2023-08-15T08:52:02.762Z"
   },
   {
    "duration": 407,
    "start_time": "2023-08-15T08:52:05.111Z"
   },
   {
    "duration": 3,
    "start_time": "2023-08-15T08:52:05.519Z"
   },
   {
    "duration": 739,
    "start_time": "2023-08-15T08:52:05.524Z"
   },
   {
    "duration": 7,
    "start_time": "2023-08-15T08:52:06.265Z"
   },
   {
    "duration": 432,
    "start_time": "2023-08-15T08:52:06.273Z"
   },
   {
    "duration": 34,
    "start_time": "2023-08-15T08:52:06.707Z"
   },
   {
    "duration": 3,
    "start_time": "2023-08-15T08:52:06.742Z"
   },
   {
    "duration": 11,
    "start_time": "2023-08-15T08:52:06.764Z"
   },
   {
    "duration": 312,
    "start_time": "2023-08-15T08:52:06.777Z"
   },
   {
    "duration": 14,
    "start_time": "2023-08-15T08:52:07.090Z"
   },
   {
    "duration": 317,
    "start_time": "2023-08-15T08:52:07.106Z"
   },
   {
    "duration": 12,
    "start_time": "2023-08-15T08:52:07.425Z"
   },
   {
    "duration": 246,
    "start_time": "2023-08-15T08:52:07.438Z"
   },
   {
    "duration": 223,
    "start_time": "2023-08-15T08:52:07.689Z"
   },
   {
    "duration": 243,
    "start_time": "2023-08-15T08:52:07.913Z"
   },
   {
    "duration": 239,
    "start_time": "2023-08-15T08:52:08.159Z"
   },
   {
    "duration": 12,
    "start_time": "2023-08-15T08:52:08.400Z"
   },
   {
    "duration": 262,
    "start_time": "2023-08-15T08:52:08.414Z"
   },
   {
    "duration": 253,
    "start_time": "2023-08-15T08:52:08.678Z"
   },
   {
    "duration": 13,
    "start_time": "2023-08-15T08:52:08.934Z"
   },
   {
    "duration": 224,
    "start_time": "2023-08-15T08:52:08.965Z"
   },
   {
    "duration": 230,
    "start_time": "2023-08-15T08:52:09.191Z"
   },
   {
    "duration": 13,
    "start_time": "2023-08-15T08:52:09.423Z"
   },
   {
    "duration": 60,
    "start_time": "2023-08-15T08:52:09.437Z"
   },
   {
    "duration": 263,
    "start_time": "2023-08-15T08:52:09.498Z"
   },
   {
    "duration": 187,
    "start_time": "2023-08-15T08:52:09.763Z"
   },
   {
    "duration": 3,
    "start_time": "2023-08-15T08:52:09.958Z"
   },
   {
    "duration": 360,
    "start_time": "2023-08-15T08:52:09.963Z"
   },
   {
    "duration": 483,
    "start_time": "2023-08-15T08:52:10.324Z"
   },
   {
    "duration": 347,
    "start_time": "2023-08-15T08:52:10.808Z"
   },
   {
    "duration": 8,
    "start_time": "2023-08-15T08:52:11.156Z"
   },
   {
    "duration": 267,
    "start_time": "2023-08-15T08:52:11.165Z"
   },
   {
    "duration": 8,
    "start_time": "2023-08-15T08:52:11.434Z"
   },
   {
    "duration": 251,
    "start_time": "2023-08-15T08:52:11.443Z"
   },
   {
    "duration": 7,
    "start_time": "2023-08-15T08:52:11.696Z"
   },
   {
    "duration": 17,
    "start_time": "2023-08-15T08:52:11.705Z"
   },
   {
    "duration": 184,
    "start_time": "2023-08-15T08:52:11.724Z"
   },
   {
    "duration": 7,
    "start_time": "2023-08-15T08:52:11.910Z"
   },
   {
    "duration": 244,
    "start_time": "2023-08-15T08:52:11.919Z"
   },
   {
    "duration": 7,
    "start_time": "2023-08-15T08:52:12.165Z"
   },
   {
    "duration": 245,
    "start_time": "2023-08-15T08:52:12.174Z"
   },
   {
    "duration": 7,
    "start_time": "2023-08-15T08:52:12.421Z"
   },
   {
    "duration": 204,
    "start_time": "2023-08-15T08:52:12.430Z"
   },
   {
    "duration": 8,
    "start_time": "2023-08-15T08:52:12.636Z"
   },
   {
    "duration": 263,
    "start_time": "2023-08-15T08:52:12.646Z"
   },
   {
    "duration": 9,
    "start_time": "2023-08-15T08:52:12.911Z"
   },
   {
    "duration": 295,
    "start_time": "2023-08-15T08:52:12.922Z"
   },
   {
    "duration": 8,
    "start_time": "2023-08-15T08:52:13.219Z"
   },
   {
    "duration": 207,
    "start_time": "2023-08-15T08:52:13.229Z"
   },
   {
    "duration": 8,
    "start_time": "2023-08-15T08:52:13.437Z"
   },
   {
    "duration": 254,
    "start_time": "2023-08-15T08:52:13.447Z"
   },
   {
    "duration": 8,
    "start_time": "2023-08-15T08:52:13.703Z"
   },
   {
    "duration": 293,
    "start_time": "2023-08-15T08:52:13.712Z"
   },
   {
    "duration": 8,
    "start_time": "2023-08-15T08:52:14.007Z"
   },
   {
    "duration": 262,
    "start_time": "2023-08-15T08:52:14.017Z"
   },
   {
    "duration": 7,
    "start_time": "2023-08-15T08:52:14.282Z"
   },
   {
    "duration": 10,
    "start_time": "2023-08-15T08:52:14.291Z"
   },
   {
    "duration": 8,
    "start_time": "2023-08-15T08:52:14.303Z"
   },
   {
    "duration": 17,
    "start_time": "2023-08-15T08:52:14.313Z"
   },
   {
    "duration": 21,
    "start_time": "2023-08-15T08:52:14.332Z"
   },
   {
    "duration": 24,
    "start_time": "2023-08-15T08:52:14.354Z"
   },
   {
    "duration": 9,
    "start_time": "2023-08-15T08:52:14.380Z"
   },
   {
    "duration": 9,
    "start_time": "2023-08-15T08:52:14.391Z"
   },
   {
    "duration": 6,
    "start_time": "2023-08-15T08:52:14.403Z"
   },
   {
    "duration": 7,
    "start_time": "2023-08-15T08:52:14.411Z"
   },
   {
    "duration": 26,
    "start_time": "2023-08-15T08:52:14.420Z"
   },
   {
    "duration": 15,
    "start_time": "2023-08-15T08:52:14.448Z"
   }
  ],
  "kernelspec": {
   "display_name": "Python 3 (ipykernel)",
   "language": "python",
   "name": "python3"
  },
  "language_info": {
   "codemirror_mode": {
    "name": "ipython",
    "version": 3
   },
   "file_extension": ".py",
   "mimetype": "text/x-python",
   "name": "python",
   "nbconvert_exporter": "python",
   "pygments_lexer": "ipython3",
   "version": "3.10.9"
  },
  "toc": {
   "base_numbering": 1,
   "nav_menu": {},
   "number_sections": true,
   "sideBar": true,
   "skip_h1_title": true,
   "title_cell": "Table of Contents",
   "title_sidebar": "Contents",
   "toc_cell": false,
   "toc_position": {},
   "toc_section_display": true,
   "toc_window_display": false
  }
 },
 "nbformat": 4,
 "nbformat_minor": 5
}
